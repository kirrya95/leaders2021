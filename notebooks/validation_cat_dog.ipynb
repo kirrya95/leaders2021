{
  "nbformat": 4,
  "nbformat_minor": 0,
  "metadata": {
    "colab": {
      "name": "validation_cat_dog.ipynb",
      "provenance": [],
      "collapsed_sections": []
    },
    "kernelspec": {
      "name": "python3",
      "display_name": "Python 3"
    },
    "language_info": {
      "name": "python"
    },
    "accelerator": "GPU"
  },
  "cells": [
    {
      "cell_type": "code",
      "metadata": {
        "id": "ONV6U38ANdqw",
        "colab": {
          "base_uri": "https://localhost:8080/"
        },
        "outputId": "40540c92-b03d-4961-f96f-726365bb1cb0"
      },
      "source": [
        "!pip install -q git+https://github.com/openai/CLIP.git\n",
        "import torch\n",
        "import shutil\n",
        "import os\n",
        "import numpy as np\n",
        "import matplotlib.pyplot as plt\n",
        "import matplotlib\n",
        "from torchvision.models import detection\n",
        "import torchvision\n",
        "from tqdm import tqdm, tqdm_notebook\n",
        "from PIL import Image"
      ],
      "execution_count": 1,
      "outputs": [
        {
          "output_type": "stream",
          "name": "stdout",
          "text": [
            "\u001b[?25l\r\u001b[K     |█████                           | 10 kB 16.8 MB/s eta 0:00:01\r\u001b[K     |██████████▏                     | 20 kB 14.3 MB/s eta 0:00:01\r\u001b[K     |███████████████▎                | 30 kB 10.2 MB/s eta 0:00:01\r\u001b[K     |████████████████████▍           | 40 kB 8.9 MB/s eta 0:00:01\r\u001b[K     |█████████████████████████▌      | 51 kB 6.1 MB/s eta 0:00:01\r\u001b[K     |██████████████████████████████▋ | 61 kB 6.2 MB/s eta 0:00:01\r\u001b[K     |████████████████████████████████| 64 kB 1.2 MB/s \n",
            "\u001b[?25h  Building wheel for clip (setup.py) ... \u001b[?25l\u001b[?25hdone\n",
            "  Building wheel for ftfy (setup.py) ... \u001b[?25l\u001b[?25hdone\n"
          ]
        }
      ]
    },
    {
      "cell_type": "code",
      "metadata": {
        "id": "ODk0NOK-RoUJ"
      },
      "source": [
        "!unzip drive/MyDrive/leadersd/cat_dog_test.zip"
      ],
      "execution_count": null,
      "outputs": []
    },
    {
      "cell_type": "code",
      "metadata": {
        "id": "5o-otH-PNpqf",
        "colab": {
          "base_uri": "https://localhost:8080/"
        },
        "outputId": "d79ff066-fe4f-4be0-bc9d-9a0bc4cd2b6d"
      },
      "source": [
        "import torch\n",
        "import clip\n",
        "from PIL import Image\n",
        "\n",
        "device =  \"cuda\"\n",
        "model, preprocess = clip.load(\"ViT-B/32\", device=device)\n",
        "classes = [\"a dog\", \"a cat\", \"a bird\"] \n",
        "\n",
        "print(len(classes))\n",
        "\n",
        "text = clip.tokenize(classes).to(device)"
      ],
      "execution_count": 5,
      "outputs": [
        {
          "output_type": "stream",
          "name": "stdout",
          "text": [
            "3\n"
          ]
        }
      ]
    },
    {
      "cell_type": "code",
      "metadata": {
        "colab": {
          "base_uri": "https://localhost:8080/"
        },
        "id": "6BdA-QLwqxPv",
        "outputId": "19a686a5-50f2-4833-96b2-d0faaf580027"
      },
      "source": [
        "path_parent = \"cat_dog_test/\"\n",
        "for dirname in os.listdir(path_parent):\n",
        "\n",
        "  path = os.path.join(path_parent, dirname)\n",
        "  print(dirname, len(os.listdir(path)))"
      ],
      "execution_count": 9,
      "outputs": [
        {
          "output_type": "stream",
          "name": "stdout",
          "text": [
            "a dog 1499\n",
            "a cat 1499\n"
          ]
        }
      ]
    },
    {
      "cell_type": "code",
      "metadata": {
        "colab": {
          "base_uri": "https://localhost:8080/"
        },
        "id": "HYdl_tIGtxIc",
        "outputId": "159e356c-a86c-48fa-cd18-24004faab82d"
      },
      "source": [
        "count = 0\n",
        "res = {}\n",
        "path_parent = \"cat_dog_test\"\n",
        "for dirname in os.listdir(path_parent):\n",
        "\n",
        "  path = os.path.join(path_parent, dirname)\n",
        "  count = 0\n",
        "\n",
        "  for filename in tqdm(os.listdir(path)[:200]):\n",
        "\n",
        "    image = torch.tensor(np.asarray(Image.open(os.path.join(path, filename)))).permute(2, 0, 1)\n",
        "    image = torchvision.transforms.Resize((80, 80))(image)\n",
        "    image = torchvision.transforms.ToPILImage()(image)\n",
        "\n",
        "    image = preprocess(image).unsqueeze(0).to(device)\n",
        "\n",
        "    with torch.no_grad():\n",
        "      logits_per_image, logits_per_text = model(image, text)\n",
        "      probs = logits_per_image.softmax(dim=-1).cpu().numpy()\n",
        "    \n",
        "    if (classes[np.argmax(probs)] == dirname):\n",
        "      count += 1\n",
        "\n",
        "  print(\"\\n\", dirname, count / len(os.listdir(path)[:200]))\n",
        "  res[dirname] = count / len(os.listdir(path)[:200])"
      ],
      "execution_count": 16,
      "outputs": [
        {
          "output_type": "stream",
          "name": "stderr",
          "text": [
            "100%|██████████| 200/200 [00:16<00:00, 12.00it/s]\n"
          ]
        },
        {
          "output_type": "stream",
          "name": "stdout",
          "text": [
            "\n",
            " a dog 0.99\n"
          ]
        },
        {
          "output_type": "stream",
          "name": "stderr",
          "text": [
            "100%|██████████| 200/200 [00:16<00:00, 12.12it/s]"
          ]
        },
        {
          "output_type": "stream",
          "name": "stdout",
          "text": [
            "\n",
            " a cat 0.97\n"
          ]
        },
        {
          "output_type": "stream",
          "name": "stderr",
          "text": [
            "\n"
          ]
        }
      ]
    },
    {
      "cell_type": "code",
      "metadata": {
        "colab": {
          "base_uri": "https://localhost:8080/"
        },
        "id": "6sGphjMthPPo",
        "outputId": "5b60615c-8e1c-4948-faba-a08fdbafad66"
      },
      "source": [
        "print(res)"
      ],
      "execution_count": 19,
      "outputs": [
        {
          "output_type": "stream",
          "name": "stdout",
          "text": [
            "{'a dog': 0.99, 'a cat': 0.97}\n"
          ]
        }
      ]
    },
    {
      "cell_type": "code",
      "metadata": {
        "colab": {
          "base_uri": "https://localhost:8080/"
        },
        "id": "fzwoJBD_SUCr",
        "outputId": "98c54801-76da-46cc-b4e3-412aee032916"
      },
      "source": [
        "all = 0\n",
        "tr = 0\n",
        "for breed in res.keys():\n",
        "  tr += len(os.listdir(os.path.join(path_parent, breed))[:200]) * res[breed]\n",
        "  all += len(os.listdir(os.path.join(path_parent, breed))[:200])\n",
        "print(tr/all)"
      ],
      "execution_count": 18,
      "outputs": [
        {
          "output_type": "stream",
          "name": "stdout",
          "text": [
            "0.98\n"
          ]
        }
      ]
    }
  ]
}