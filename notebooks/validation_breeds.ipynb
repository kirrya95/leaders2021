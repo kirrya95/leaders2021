{
  "nbformat": 4,
  "nbformat_minor": 0,
  "metadata": {
    "colab": {
      "name": "validation_breeds.ipynb",
      "provenance": [],
      "collapsed_sections": []
    },
    "kernelspec": {
      "name": "python3",
      "display_name": "Python 3"
    },
    "language_info": {
      "name": "python"
    },
    "accelerator": "GPU"
  },
  "cells": [
    {
      "cell_type": "code",
      "metadata": {
        "id": "ONV6U38ANdqw"
      },
      "source": [
        "!pip install -q git+https://github.com/openai/CLIP.git\n",
        "import torch\n",
        "import shutil\n",
        "import os\n",
        "import numpy as np\n",
        "import matplotlib.pyplot as plt\n",
        "import matplotlib\n",
        "from torchvision.models import detection\n",
        "import torchvision\n",
        "from tqdm import tqdm, tqdm_notebook\n",
        "from PIL import Image"
      ],
      "execution_count": 28,
      "outputs": []
    },
    {
      "cell_type": "code",
      "metadata": {
        "id": "ODk0NOK-RoUJ"
      },
      "source": [
        "!tar -xvf drive/MyDrive/leadersd/images.tar"
      ],
      "execution_count": null,
      "outputs": []
    },
    {
      "cell_type": "code",
      "metadata": {
        "id": "5o-otH-PNpqf",
        "colab": {
          "base_uri": "https://localhost:8080/"
        },
        "outputId": "bd4c2618-db19-4a43-9059-48bc9a0fa900"
      },
      "source": [
        "import torch\n",
        "import clip\n",
        "from PIL import Image\n",
        "\n",
        "device =  \"cuda\"\n",
        "model, preprocess = clip.load(\"ViT-B/32\", device=device)\n",
        "breeds = ['a dachshund', 'a borzoi', 'a basset hound', 'a Pomeranian dog', \n",
        "          'a yorkshire terrier', 'a german shepherd', \n",
        "          'a Labrador', 'a husky', 'a jack russell terrier', \n",
        "          'a caucasian shepherd dog', 'a corgi', 'a French Bulldog', \n",
        "          'a pug', 'a poodle', 'a golden retriever', 'a rottweiler', \n",
        "          'a cocker spaniel', 'a deutscher boxer', 'a pekingese', \n",
        "          'a sharpey', 'a bull terrier', 'a doberman', 'a st. bernard', \n",
        "          'a newfoundland', 'a border collie', 'a shiba inu', 'a dalmatian', \n",
        "          'a samoyed', 'a bichon frise', 'a toy terrier', \n",
        "          'a cavalier king charles spaniel'] \n",
        "\n",
        "print(len(breeds))\n",
        "\n",
        "text = clip.tokenize(breeds).to(device)"
      ],
      "execution_count": 59,
      "outputs": [
        {
          "output_type": "stream",
          "name": "stdout",
          "text": [
            "30\n"
          ]
        }
      ]
    },
    {
      "cell_type": "code",
      "metadata": {
        "colab": {
          "base_uri": "https://localhost:8080/"
        },
        "id": "6BdA-QLwqxPv",
        "outputId": "4a743338-099d-4f2f-cc77-a53abb9dadca"
      },
      "source": [
        "for dirname in os.listdir(path_parent):\n",
        "\n",
        "  path = os.path.join(path_parent, dirname)\n",
        "  print(dirname, len(os.listdir(path)))"
      ],
      "execution_count": 54,
      "outputs": [
        {
          "output_type": "stream",
          "name": "stdout",
          "text": [
            "a st. bernard 170\n",
            "a French Bulldog 159\n",
            "a newfoundland 195\n",
            "a Pomeranian dog 219\n",
            "a pekingese 149\n",
            "a border collie 150\n",
            "a doberman 150\n",
            "a borzoi 151\n",
            "a golden retriever 150\n",
            "a labrador 171\n",
            "a basset hound 175\n",
            "a husky 192\n",
            "a deutscher boxer 151\n",
            "a cocker spaniel 159\n",
            "a toy terrier 172\n",
            "a yorkshire terrier 164\n",
            "a samoyed 218\n",
            "a pug 200\n",
            "a german shepherd 152\n",
            "a rottweiler 152\n"
          ]
        }
      ]
    },
    {
      "cell_type": "code",
      "metadata": {
        "colab": {
          "base_uri": "https://localhost:8080/"
        },
        "id": "HYdl_tIGtxIc",
        "outputId": "01d4574e-5306-44e0-f504-5e939e949295"
      },
      "source": [
        "count = 0\n",
        "res = {}\n",
        "path_parent = \"/content/Images\"\n",
        "for dirname in os.listdir(path_parent):\n",
        "\n",
        "  path = os.path.join(path_parent, dirname)\n",
        "  count = 0\n",
        "\n",
        "  for filename in tqdm(os.listdir(path)):\n",
        "\n",
        "    image = torch.tensor(np.asarray(Image.open(os.path.join(path, filename)))).permute(2, 0, 1)\n",
        "    image = torchvision.transforms.Resize((80, 80))(image)\n",
        "    image = torchvision.transforms.ToPILImage()(image)\n",
        "\n",
        "    image = preprocess(image).unsqueeze(0).to(device)\n",
        "\n",
        "    with torch.no_grad():\n",
        "      logits_per_image, logits_per_text = model(image, text)\n",
        "      probs = logits_per_image.softmax(dim=-1).cpu().numpy()\n",
        "    \n",
        "    if (breeds[np.argmax(probs)] == dirname):\n",
        "      count += 1\n",
        "\n",
        "  print(\"\\n\", dirname, count / len(os.listdir(path)))\n",
        "  res[dirname] = count / len(os.listdir(path))"
      ],
      "execution_count": 56,
      "outputs": [
        {
          "output_type": "stream",
          "name": "stderr",
          "text": [
            "100%|██████████| 170/170 [01:08<00:00,  2.49it/s]\n"
          ]
        },
        {
          "output_type": "stream",
          "name": "stdout",
          "text": [
            "\n",
            " a st. bernard 0.8117647058823529\n"
          ]
        },
        {
          "output_type": "stream",
          "name": "stderr",
          "text": [
            "100%|██████████| 159/159 [01:03<00:00,  2.49it/s]\n"
          ]
        },
        {
          "output_type": "stream",
          "name": "stdout",
          "text": [
            "\n",
            " a French Bulldog 0.5660377358490566\n"
          ]
        },
        {
          "output_type": "stream",
          "name": "stderr",
          "text": [
            "100%|██████████| 195/195 [01:18<00:00,  2.49it/s]\n"
          ]
        },
        {
          "output_type": "stream",
          "name": "stdout",
          "text": [
            "\n",
            " a newfoundland 0.5282051282051282\n"
          ]
        },
        {
          "output_type": "stream",
          "name": "stderr",
          "text": [
            "100%|██████████| 219/219 [01:27<00:00,  2.49it/s]\n"
          ]
        },
        {
          "output_type": "stream",
          "name": "stdout",
          "text": [
            "\n",
            " a Pomeranian dog 0.7534246575342466\n"
          ]
        },
        {
          "output_type": "stream",
          "name": "stderr",
          "text": [
            "100%|██████████| 149/149 [00:59<00:00,  2.50it/s]\n"
          ]
        },
        {
          "output_type": "stream",
          "name": "stdout",
          "text": [
            "\n",
            " a pekingese 0.5906040268456376\n"
          ]
        },
        {
          "output_type": "stream",
          "name": "stderr",
          "text": [
            "100%|██████████| 150/150 [01:00<00:00,  2.49it/s]\n"
          ]
        },
        {
          "output_type": "stream",
          "name": "stdout",
          "text": [
            "\n",
            " a border collie 0.8066666666666666\n"
          ]
        },
        {
          "output_type": "stream",
          "name": "stderr",
          "text": [
            "100%|██████████| 150/150 [01:00<00:00,  2.49it/s]\n"
          ]
        },
        {
          "output_type": "stream",
          "name": "stdout",
          "text": [
            "\n",
            " a doberman 0.6066666666666667\n"
          ]
        },
        {
          "output_type": "stream",
          "name": "stderr",
          "text": [
            "100%|██████████| 151/151 [01:00<00:00,  2.49it/s]\n"
          ]
        },
        {
          "output_type": "stream",
          "name": "stdout",
          "text": [
            "\n",
            " a borzoi 0.8940397350993378\n"
          ]
        },
        {
          "output_type": "stream",
          "name": "stderr",
          "text": [
            "100%|██████████| 150/150 [01:00<00:00,  2.49it/s]\n"
          ]
        },
        {
          "output_type": "stream",
          "name": "stdout",
          "text": [
            "\n",
            " a golden retriever 0.7133333333333334\n"
          ]
        },
        {
          "output_type": "stream",
          "name": "stderr",
          "text": [
            "100%|██████████| 171/171 [01:08<00:00,  2.49it/s]\n"
          ]
        },
        {
          "output_type": "stream",
          "name": "stdout",
          "text": [
            "\n",
            " a labrador 0.5029239766081871\n"
          ]
        },
        {
          "output_type": "stream",
          "name": "stderr",
          "text": [
            "100%|██████████| 175/175 [01:10<00:00,  2.49it/s]\n"
          ]
        },
        {
          "output_type": "stream",
          "name": "stdout",
          "text": [
            "\n",
            " a basset hound 0.8285714285714286\n"
          ]
        },
        {
          "output_type": "stream",
          "name": "stderr",
          "text": [
            "100%|██████████| 192/192 [01:17<00:00,  2.49it/s]\n"
          ]
        },
        {
          "output_type": "stream",
          "name": "stdout",
          "text": [
            "\n",
            " a husky 0.5416666666666666\n"
          ]
        },
        {
          "output_type": "stream",
          "name": "stderr",
          "text": [
            "100%|██████████| 151/151 [01:00<00:00,  2.49it/s]\n"
          ]
        },
        {
          "output_type": "stream",
          "name": "stdout",
          "text": [
            "\n",
            " a deutscher boxer 0.6887417218543046\n"
          ]
        },
        {
          "output_type": "stream",
          "name": "stderr",
          "text": [
            "100%|██████████| 159/159 [01:03<00:00,  2.49it/s]\n"
          ]
        },
        {
          "output_type": "stream",
          "name": "stdout",
          "text": [
            "\n",
            " a cocker spaniel 0.44654088050314467\n"
          ]
        },
        {
          "output_type": "stream",
          "name": "stderr",
          "text": [
            "100%|██████████| 172/172 [01:08<00:00,  2.49it/s]\n"
          ]
        },
        {
          "output_type": "stream",
          "name": "stdout",
          "text": [
            "\n",
            " a toy terrier 0.7848837209302325\n"
          ]
        },
        {
          "output_type": "stream",
          "name": "stderr",
          "text": [
            "100%|██████████| 164/164 [01:05<00:00,  2.49it/s]\n"
          ]
        },
        {
          "output_type": "stream",
          "name": "stdout",
          "text": [
            "\n",
            " a yorkshire terrier 0.0\n"
          ]
        },
        {
          "output_type": "stream",
          "name": "stderr",
          "text": [
            "100%|██████████| 218/218 [01:27<00:00,  2.49it/s]\n"
          ]
        },
        {
          "output_type": "stream",
          "name": "stdout",
          "text": [
            "\n",
            " a samoyed 0.7614678899082569\n"
          ]
        },
        {
          "output_type": "stream",
          "name": "stderr",
          "text": [
            "100%|██████████| 200/200 [01:20<00:00,  2.49it/s]\n"
          ]
        },
        {
          "output_type": "stream",
          "name": "stdout",
          "text": [
            "\n",
            " a pug 0.55\n"
          ]
        },
        {
          "output_type": "stream",
          "name": "stderr",
          "text": [
            "100%|██████████| 152/152 [01:01<00:00,  2.49it/s]\n"
          ]
        },
        {
          "output_type": "stream",
          "name": "stdout",
          "text": [
            "\n",
            " a german shepherd 0.0\n"
          ]
        },
        {
          "output_type": "stream",
          "name": "stderr",
          "text": [
            "100%|██████████| 152/152 [01:00<00:00,  2.49it/s]"
          ]
        },
        {
          "output_type": "stream",
          "name": "stdout",
          "text": [
            "\n",
            " a rottweiler 0.7631578947368421\n"
          ]
        },
        {
          "output_type": "stream",
          "name": "stderr",
          "text": [
            "\n"
          ]
        }
      ]
    },
    {
      "cell_type": "code",
      "metadata": {
        "colab": {
          "base_uri": "https://localhost:8080/"
        },
        "id": "6sGphjMthPPo",
        "outputId": "0b5dfa60-0e03-4d06-a3f8-01df776b7129"
      },
      "source": [
        "res"
      ],
      "execution_count": 67,
      "outputs": [
        {
          "output_type": "execute_result",
          "data": {
            "text/plain": [
              "{'a French Bulldog': 0.5660377358490566,\n",
              " 'a Pomeranian dog': 0.7534246575342466,\n",
              " 'a basset hound': 0.8285714285714286,\n",
              " 'a border collie': 0.8066666666666666,\n",
              " 'a borzoi': 0.8940397350993378,\n",
              " 'a cocker spaniel': 0.44654088050314467,\n",
              " 'a deutscher boxer': 0.6887417218543046,\n",
              " 'a doberman': 0.6066666666666667,\n",
              " 'a german shepherd': 0.716666666666666,\n",
              " 'a golden retriever': 0.7133333333333334,\n",
              " 'a husky': 0.5416666666666666,\n",
              " 'a labrador': 0.5029239766081871,\n",
              " 'a newfoundland': 0.5282051282051282,\n",
              " 'a pekingese': 0.5906040268456376,\n",
              " 'a pug': 0.55,\n",
              " 'a rottweiler': 0.7631578947368421,\n",
              " 'a samoyed': 0.7614678899082569,\n",
              " 'a st. bernard': 0.8117647058823529,\n",
              " 'a toy terrier': 0.7848837209302325,\n",
              " 'a yorkshire terrier': 0.7534246575342466}"
            ]
          },
          "metadata": {},
          "execution_count": 67
        }
      ]
    },
    {
      "cell_type": "code",
      "metadata": {
        "colab": {
          "base_uri": "https://localhost:8080/"
        },
        "id": "fzwoJBD_SUCr",
        "outputId": "6c8bf559-8b62-43c8-82f7-425fad46f43b"
      },
      "source": [
        "all = 0\n",
        "tr = 0\n",
        "for breed in res.keys():\n",
        "  tr += len(os.listdir(os.path.join(path_parent, breed))) * res[breed]\n",
        "  all += len(os.listdir(os.path.join(path_parent, breed)))\n",
        "print(tr/all)"
      ],
      "execution_count": 68,
      "outputs": [
        {
          "output_type": "stream",
          "name": "stdout",
          "text": [
            "0.6788746623033097\n"
          ]
        }
      ]
    }
  ]
}