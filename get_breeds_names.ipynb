{
  "nbformat": 4,
  "nbformat_minor": 0,
  "metadata": {
    "colab": {
      "name": "get_beeds_names.ipynb",
      "provenance": []
    },
    "kernelspec": {
      "name": "python3",
      "display_name": "Python 3"
    },
    "language_info": {
      "name": "python"
    },
    "widgets": {
      "application/vnd.jupyter.widget-state+json": {
        "0c05620ec8174f0a960ca922b10ba2ba": {
          "model_module": "@jupyter-widgets/controls",
          "model_name": "HBoxModel",
          "model_module_version": "1.5.0",
          "state": {
            "_view_name": "HBoxView",
            "_dom_classes": [],
            "_model_name": "HBoxModel",
            "_view_module": "@jupyter-widgets/controls",
            "_model_module_version": "1.5.0",
            "_view_count": null,
            "_view_module_version": "1.5.0",
            "box_style": "",
            "layout": "IPY_MODEL_98cbcd8cbb7144319809485375a2aaf7",
            "_model_module": "@jupyter-widgets/controls",
            "children": [
              "IPY_MODEL_17cf8b1fe6ba4d148122e2dfc03d3836",
              "IPY_MODEL_dbc6490a3bff41e98267523e062e03c9",
              "IPY_MODEL_b1688aad55894218880beda18ed7fb35"
            ]
          }
        },
        "98cbcd8cbb7144319809485375a2aaf7": {
          "model_module": "@jupyter-widgets/base",
          "model_name": "LayoutModel",
          "model_module_version": "1.2.0",
          "state": {
            "_view_name": "LayoutView",
            "grid_template_rows": null,
            "right": null,
            "justify_content": null,
            "_view_module": "@jupyter-widgets/base",
            "overflow": null,
            "_model_module_version": "1.2.0",
            "_view_count": null,
            "flex_flow": null,
            "width": null,
            "min_width": null,
            "border": null,
            "align_items": null,
            "bottom": null,
            "_model_module": "@jupyter-widgets/base",
            "top": null,
            "grid_column": null,
            "overflow_y": null,
            "overflow_x": null,
            "grid_auto_flow": null,
            "grid_area": null,
            "grid_template_columns": null,
            "flex": null,
            "_model_name": "LayoutModel",
            "justify_items": null,
            "grid_row": null,
            "max_height": null,
            "align_content": null,
            "visibility": null,
            "align_self": null,
            "height": null,
            "min_height": null,
            "padding": null,
            "grid_auto_rows": null,
            "grid_gap": null,
            "max_width": null,
            "order": null,
            "_view_module_version": "1.2.0",
            "grid_template_areas": null,
            "object_position": null,
            "object_fit": null,
            "grid_auto_columns": null,
            "margin": null,
            "display": null,
            "left": null
          }
        },
        "17cf8b1fe6ba4d148122e2dfc03d3836": {
          "model_module": "@jupyter-widgets/controls",
          "model_name": "HTMLModel",
          "model_module_version": "1.5.0",
          "state": {
            "_view_name": "HTMLView",
            "style": "IPY_MODEL_9ef228b0cc1f4c6885f77db022c2c42b",
            "_dom_classes": [],
            "description": "",
            "_model_name": "HTMLModel",
            "placeholder": "​",
            "_view_module": "@jupyter-widgets/controls",
            "_model_module_version": "1.5.0",
            "value": "100%",
            "_view_count": null,
            "_view_module_version": "1.5.0",
            "description_tooltip": null,
            "_model_module": "@jupyter-widgets/controls",
            "layout": "IPY_MODEL_b90e93469e6e4dd9ae829be7caeb8f07"
          }
        },
        "dbc6490a3bff41e98267523e062e03c9": {
          "model_module": "@jupyter-widgets/controls",
          "model_name": "FloatProgressModel",
          "model_module_version": "1.5.0",
          "state": {
            "_view_name": "ProgressView",
            "style": "IPY_MODEL_5a4e530a023d439a818ab646af95e174",
            "_dom_classes": [],
            "description": "",
            "_model_name": "FloatProgressModel",
            "bar_style": "success",
            "max": 102530333,
            "_view_module": "@jupyter-widgets/controls",
            "_model_module_version": "1.5.0",
            "value": 102530333,
            "_view_count": null,
            "_view_module_version": "1.5.0",
            "orientation": "horizontal",
            "min": 0,
            "description_tooltip": null,
            "_model_module": "@jupyter-widgets/controls",
            "layout": "IPY_MODEL_8375bed361ca48e5a6bff428e6c2c355"
          }
        },
        "b1688aad55894218880beda18ed7fb35": {
          "model_module": "@jupyter-widgets/controls",
          "model_name": "HTMLModel",
          "model_module_version": "1.5.0",
          "state": {
            "_view_name": "HTMLView",
            "style": "IPY_MODEL_d3edbca5be1549e39233b7beda8afb82",
            "_dom_classes": [],
            "description": "",
            "_model_name": "HTMLModel",
            "placeholder": "​",
            "_view_module": "@jupyter-widgets/controls",
            "_model_module_version": "1.5.0",
            "value": " 97.8M/97.8M [00:00&lt;00:00, 112MB/s]",
            "_view_count": null,
            "_view_module_version": "1.5.0",
            "description_tooltip": null,
            "_model_module": "@jupyter-widgets/controls",
            "layout": "IPY_MODEL_8f4dad2a55e241e6ace9f7786dccf5b7"
          }
        },
        "9ef228b0cc1f4c6885f77db022c2c42b": {
          "model_module": "@jupyter-widgets/controls",
          "model_name": "DescriptionStyleModel",
          "model_module_version": "1.5.0",
          "state": {
            "_view_name": "StyleView",
            "_model_name": "DescriptionStyleModel",
            "description_width": "",
            "_view_module": "@jupyter-widgets/base",
            "_model_module_version": "1.5.0",
            "_view_count": null,
            "_view_module_version": "1.2.0",
            "_model_module": "@jupyter-widgets/controls"
          }
        },
        "b90e93469e6e4dd9ae829be7caeb8f07": {
          "model_module": "@jupyter-widgets/base",
          "model_name": "LayoutModel",
          "model_module_version": "1.2.0",
          "state": {
            "_view_name": "LayoutView",
            "grid_template_rows": null,
            "right": null,
            "justify_content": null,
            "_view_module": "@jupyter-widgets/base",
            "overflow": null,
            "_model_module_version": "1.2.0",
            "_view_count": null,
            "flex_flow": null,
            "width": null,
            "min_width": null,
            "border": null,
            "align_items": null,
            "bottom": null,
            "_model_module": "@jupyter-widgets/base",
            "top": null,
            "grid_column": null,
            "overflow_y": null,
            "overflow_x": null,
            "grid_auto_flow": null,
            "grid_area": null,
            "grid_template_columns": null,
            "flex": null,
            "_model_name": "LayoutModel",
            "justify_items": null,
            "grid_row": null,
            "max_height": null,
            "align_content": null,
            "visibility": null,
            "align_self": null,
            "height": null,
            "min_height": null,
            "padding": null,
            "grid_auto_rows": null,
            "grid_gap": null,
            "max_width": null,
            "order": null,
            "_view_module_version": "1.2.0",
            "grid_template_areas": null,
            "object_position": null,
            "object_fit": null,
            "grid_auto_columns": null,
            "margin": null,
            "display": null,
            "left": null
          }
        },
        "5a4e530a023d439a818ab646af95e174": {
          "model_module": "@jupyter-widgets/controls",
          "model_name": "ProgressStyleModel",
          "model_module_version": "1.5.0",
          "state": {
            "_view_name": "StyleView",
            "_model_name": "ProgressStyleModel",
            "description_width": "",
            "_view_module": "@jupyter-widgets/base",
            "_model_module_version": "1.5.0",
            "_view_count": null,
            "_view_module_version": "1.2.0",
            "bar_color": null,
            "_model_module": "@jupyter-widgets/controls"
          }
        },
        "8375bed361ca48e5a6bff428e6c2c355": {
          "model_module": "@jupyter-widgets/base",
          "model_name": "LayoutModel",
          "model_module_version": "1.2.0",
          "state": {
            "_view_name": "LayoutView",
            "grid_template_rows": null,
            "right": null,
            "justify_content": null,
            "_view_module": "@jupyter-widgets/base",
            "overflow": null,
            "_model_module_version": "1.2.0",
            "_view_count": null,
            "flex_flow": null,
            "width": null,
            "min_width": null,
            "border": null,
            "align_items": null,
            "bottom": null,
            "_model_module": "@jupyter-widgets/base",
            "top": null,
            "grid_column": null,
            "overflow_y": null,
            "overflow_x": null,
            "grid_auto_flow": null,
            "grid_area": null,
            "grid_template_columns": null,
            "flex": null,
            "_model_name": "LayoutModel",
            "justify_items": null,
            "grid_row": null,
            "max_height": null,
            "align_content": null,
            "visibility": null,
            "align_self": null,
            "height": null,
            "min_height": null,
            "padding": null,
            "grid_auto_rows": null,
            "grid_gap": null,
            "max_width": null,
            "order": null,
            "_view_module_version": "1.2.0",
            "grid_template_areas": null,
            "object_position": null,
            "object_fit": null,
            "grid_auto_columns": null,
            "margin": null,
            "display": null,
            "left": null
          }
        },
        "d3edbca5be1549e39233b7beda8afb82": {
          "model_module": "@jupyter-widgets/controls",
          "model_name": "DescriptionStyleModel",
          "model_module_version": "1.5.0",
          "state": {
            "_view_name": "StyleView",
            "_model_name": "DescriptionStyleModel",
            "description_width": "",
            "_view_module": "@jupyter-widgets/base",
            "_model_module_version": "1.5.0",
            "_view_count": null,
            "_view_module_version": "1.2.0",
            "_model_module": "@jupyter-widgets/controls"
          }
        },
        "8f4dad2a55e241e6ace9f7786dccf5b7": {
          "model_module": "@jupyter-widgets/base",
          "model_name": "LayoutModel",
          "model_module_version": "1.2.0",
          "state": {
            "_view_name": "LayoutView",
            "grid_template_rows": null,
            "right": null,
            "justify_content": null,
            "_view_module": "@jupyter-widgets/base",
            "overflow": null,
            "_model_module_version": "1.2.0",
            "_view_count": null,
            "flex_flow": null,
            "width": null,
            "min_width": null,
            "border": null,
            "align_items": null,
            "bottom": null,
            "_model_module": "@jupyter-widgets/base",
            "top": null,
            "grid_column": null,
            "overflow_y": null,
            "overflow_x": null,
            "grid_auto_flow": null,
            "grid_area": null,
            "grid_template_columns": null,
            "flex": null,
            "_model_name": "LayoutModel",
            "justify_items": null,
            "grid_row": null,
            "max_height": null,
            "align_content": null,
            "visibility": null,
            "align_self": null,
            "height": null,
            "min_height": null,
            "padding": null,
            "grid_auto_rows": null,
            "grid_gap": null,
            "max_width": null,
            "order": null,
            "_view_module_version": "1.2.0",
            "grid_template_areas": null,
            "object_position": null,
            "object_fit": null,
            "grid_auto_columns": null,
            "margin": null,
            "display": null,
            "left": null
          }
        }
      }
    }
  },
  "cells": [
    {
      "cell_type": "code",
      "metadata": {
        "id": "yRL94AMGPcmm"
      },
      "source": [
        "!cp /content/drive/MyDrive/leadersd/beeds.csv breeds.csv"
      ],
      "execution_count": 1,
      "outputs": []
    },
    {
      "cell_type": "code",
      "metadata": {
        "colab": {
          "base_uri": "https://localhost:8080/",
          "height": 204
        },
        "id": "34HHP19DQ8hv",
        "outputId": "0d9a7c0b-40d8-4872-d830-ba457f43b189"
      },
      "source": [
        "import pandas as pd\n",
        "data = pd.read_csv('breeds.csv')\n",
        "data.head()"
      ],
      "execution_count": 2,
      "outputs": [
        {
          "output_type": "execute_result",
          "data": {
            "text/html": [
              "<div>\n",
              "<style scoped>\n",
              "    .dataframe tbody tr th:only-of-type {\n",
              "        vertical-align: middle;\n",
              "    }\n",
              "\n",
              "    .dataframe tbody tr th {\n",
              "        vertical-align: top;\n",
              "    }\n",
              "\n",
              "    .dataframe thead th {\n",
              "        text-align: right;\n",
              "    }\n",
              "</style>\n",
              "<table border=\"1\" class=\"dataframe\">\n",
              "  <thead>\n",
              "    <tr style=\"text-align: right;\">\n",
              "      <th></th>\n",
              "      <th>id</th>\n",
              "      <th>breed</th>\n",
              "    </tr>\n",
              "  </thead>\n",
              "  <tbody>\n",
              "    <tr>\n",
              "      <th>0</th>\n",
              "      <td>000bec180eb18c7604dcecc8fe0dba07</td>\n",
              "      <td>boston_bull</td>\n",
              "    </tr>\n",
              "    <tr>\n",
              "      <th>1</th>\n",
              "      <td>001513dfcb2ffafc82cccf4d8bbaba97</td>\n",
              "      <td>dingo</td>\n",
              "    </tr>\n",
              "    <tr>\n",
              "      <th>2</th>\n",
              "      <td>001cdf01b096e06d78e9e5112d419397</td>\n",
              "      <td>pekinese</td>\n",
              "    </tr>\n",
              "    <tr>\n",
              "      <th>3</th>\n",
              "      <td>00214f311d5d2247d5dfe4fe24b2303d</td>\n",
              "      <td>bluetick</td>\n",
              "    </tr>\n",
              "    <tr>\n",
              "      <th>4</th>\n",
              "      <td>0021f9ceb3235effd7fcde7f7538ed62</td>\n",
              "      <td>golden_retriever</td>\n",
              "    </tr>\n",
              "  </tbody>\n",
              "</table>\n",
              "</div>"
            ],
            "text/plain": [
              "                                 id             breed\n",
              "0  000bec180eb18c7604dcecc8fe0dba07       boston_bull\n",
              "1  001513dfcb2ffafc82cccf4d8bbaba97             dingo\n",
              "2  001cdf01b096e06d78e9e5112d419397          pekinese\n",
              "3  00214f311d5d2247d5dfe4fe24b2303d          bluetick\n",
              "4  0021f9ceb3235effd7fcde7f7538ed62  golden_retriever"
            ]
          },
          "metadata": {},
          "execution_count": 2
        }
      ]
    },
    {
      "cell_type": "code",
      "metadata": {
        "id": "b6gA0-n9RBWu"
      },
      "source": [
        "!cp /content/drive/MyDrive/leadersd/folders_breeds.tar breeds.tar"
      ],
      "execution_count": 3,
      "outputs": []
    },
    {
      "cell_type": "code",
      "metadata": {
        "id": "WBZLX2V4TolJ"
      },
      "source": [
        "!tar -xvf breeds.tar"
      ],
      "execution_count": null,
      "outputs": []
    },
    {
      "cell_type": "code",
      "metadata": {
        "colab": {
          "base_uri": "https://localhost:8080/"
        },
        "id": "y2oQERjLTquo",
        "outputId": "b08b2164-dead-46ae-f981-799d3d497bc2"
      },
      "source": [
        "a = [1, 2, 3]\n",
        "print(4 in a)"
      ],
      "execution_count": 8,
      "outputs": [
        {
          "output_type": "stream",
          "name": "stdout",
          "text": [
            "False\n"
          ]
        }
      ]
    },
    {
      "cell_type": "code",
      "metadata": {
        "id": "VOStV8j3T9D4"
      },
      "source": [
        "breeds = ['n02099601-golden_retriever', 'n02110063-malamute', 'n02097209-standard_schnauzer', 'n02089867-Walker_hound', 'n02108089-boxer', 'n02101006-Gordon_setter', 'n02102318-cocker_spaniel', 'n02089078-black-and-tan_coonhound', 'n02099712-Labrador_retriever', 'n02102177-Welsh_springer_spaniel', 'n02102480-Sussex_spaniel', 'n02095570-Lakeland_terrier', 'n02113799-standard_poodle', 'n02090379-redbone', 'n02100877-Irish_setter', 'n02092002-Scottish_deerhound', 'n02087394-Rhodesian_ridgeback', 'n02111889-Samoyed', 'n02088632-bluetick', 'n02105251-briard', 'n02111129-Leonberg', 'n02115641-dingo', 'n02096051-Airedale', 'n02088238-basset', 'n02099267-flat-coated_retriever', 'n02102973-Irish_water_spaniel', 'n02093754-Border_terrier', 'n02110185-Siberian_husky', 'n02111500-Great_Pyrenees', 'n02111277-Newfoundland', 'n02106550-Rottweiler', 'n02107142-Doberman', 'n02106030-collie', 'n02108551-Tibetan_mastiff', 'n02101388-Brittany_spaniel', 'n02092339-Weimaraner', 'n02093256-Staffordshire_bullterrier', 'n02112018-Pomeranian', 'n02091467-Norwegian_elkhound', 'n02090622-borzoi', 'n02087046-toy_terrier', 'n02086646-Blenheim_spaniel', 'n02089973-English_foxhound', 'n02088364-beagle', 'n02105855-Shetland_sheepdog', 'n02110958-pug', 'n02093991-Irish_terrier', 'n02094258-Norwich_terrier', 'n02105412-kelpie', 'n02095314-wire-haired_fox_terrier', 'n02094433-Yorkshire_terrier', 'n02096177-cairn', 'n02097130-giant_schnauzer', 'n02086079-Pekinese', 'n02112137-chow', 'n02085782-Japanese_spaniel', 'n02093428-American_Staffordshire_terrier', 'n02099849-Chesapeake_Bay_retriever', 'n02098105-soft-coated_wheaten_terrier', 'n02098286-West_Highland_white_terrier', 'n02094114-Norfolk_terrier']"
      ],
      "execution_count": 9,
      "outputs": []
    },
    {
      "cell_type": "code",
      "metadata": {
        "colab": {
          "base_uri": "https://localhost:8080/"
        },
        "id": "cjm-ntzrU621",
        "outputId": "9a2f2b8c-6ac6-4888-981e-f1bfb37fd09e"
      },
      "source": [
        "print(len(breeds))"
      ],
      "execution_count": 11,
      "outputs": [
        {
          "output_type": "stream",
          "name": "stdout",
          "text": [
            "61\n"
          ]
        }
      ]
    },
    {
      "cell_type": "code",
      "metadata": {
        "id": "nPcNTWRlU_s1"
      },
      "source": [
        "import os\n",
        "import shutil\n",
        "import torch\n",
        "import torchvision\n",
        "from torch import nn\n",
        "from PIL import Image\n",
        "import numpy as np\n",
        "from torchvision import transforms\n",
        "from tqdm.notebook import tqdm\n",
        "from matplotlib import pyplot as plt\n",
        "from torch import optim"
      ],
      "execution_count": 13,
      "outputs": []
    },
    {
      "cell_type": "code",
      "metadata": {
        "id": "j8nSFnWmU73i"
      },
      "source": [
        "k = 0\n",
        "for folder in os.listdir('Images'):\n",
        "  if not(folder in breeds):\n",
        "    shutil.rmtree(os.path.join('Images', folder))"
      ],
      "execution_count": 18,
      "outputs": []
    },
    {
      "cell_type": "code",
      "metadata": {
        "colab": {
          "base_uri": "https://localhost:8080/"
        },
        "id": "hCCFvlnnVW5r",
        "outputId": "d645e4e2-00a3-465f-b76d-1d9df0a0aa86"
      },
      "source": [
        "print(len(os.listdir('Images/')))"
      ],
      "execution_count": 19,
      "outputs": [
        {
          "output_type": "stream",
          "name": "stdout",
          "text": [
            "61\n"
          ]
        }
      ]
    },
    {
      "cell_type": "code",
      "metadata": {
        "colab": {
          "base_uri": "https://localhost:8080/",
          "height": 66,
          "referenced_widgets": [
            "0c05620ec8174f0a960ca922b10ba2ba",
            "98cbcd8cbb7144319809485375a2aaf7",
            "17cf8b1fe6ba4d148122e2dfc03d3836",
            "dbc6490a3bff41e98267523e062e03c9",
            "b1688aad55894218880beda18ed7fb35",
            "9ef228b0cc1f4c6885f77db022c2c42b",
            "b90e93469e6e4dd9ae829be7caeb8f07",
            "5a4e530a023d439a818ab646af95e174",
            "8375bed361ca48e5a6bff428e6c2c355",
            "d3edbca5be1549e39233b7beda8afb82",
            "8f4dad2a55e241e6ace9f7786dccf5b7"
          ]
        },
        "id": "oFIxvorDV1b3",
        "outputId": "da0b6f52-8ca3-47b2-864e-b8444fcb8dc2"
      },
      "source": [
        "model = torchvision.models.resnet50(pretrained=True)\n",
        "n_inputs = 1000\n",
        "n_classes = 61\n",
        "add_layers = nn.Sequential(\n",
        "                      nn.Linear(n_inputs, 512),\n",
        "                      nn.Tanh(),\n",
        "                      nn.Dropout(0.3),\n",
        "                      nn.Linear(512, 256),\n",
        "                      nn.ReLU(),\n",
        "                      nn.Linear(256, n_classes)\n",
        "                      )"
      ],
      "execution_count": 20,
      "outputs": [
        {
          "output_type": "stream",
          "name": "stderr",
          "text": [
            "Downloading: \"https://download.pytorch.org/models/resnet50-0676ba61.pth\" to /root/.cache/torch/hub/checkpoints/resnet50-0676ba61.pth\n"
          ]
        },
        {
          "output_type": "display_data",
          "data": {
            "application/vnd.jupyter.widget-view+json": {
              "model_id": "0c05620ec8174f0a960ca922b10ba2ba",
              "version_minor": 0,
              "version_major": 2
            },
            "text/plain": [
              "  0%|          | 0.00/97.8M [00:00<?, ?B/s]"
            ]
          },
          "metadata": {}
        }
      ]
    },
    {
      "cell_type": "code",
      "metadata": {
        "colab": {
          "base_uri": "https://localhost:8080/"
        },
        "id": "a4_H2BmqV_g0",
        "outputId": "83a6c08f-c20d-4e43-e8d0-b9d4e0937794"
      },
      "source": [
        ""
      ],
      "execution_count": 24,
      "outputs": [
        {
          "output_type": "execute_result",
          "data": {
            "text/plain": [
              "<All keys matched successfully>"
            ]
          },
          "metadata": {},
          "execution_count": 24
        }
      ]
    },
    {
      "cell_type": "code",
      "metadata": {
        "id": "yC6xvRRJXn7F"
      },
      "source": [
        "def load_dataset(data_path):\n",
        "    train_dataset = torchvision.datasets.ImageFolder(\n",
        "        root=data_path,\n",
        "        transform=transforms.Compose([\n",
        "                        transforms.ToTensor(),\n",
        "                        transforms.Resize((100, 100)),\n",
        "                        transforms.Normalize([0.485, 0.456, 0.406],\n",
        "                             [0.229, 0.224, 0.225]) \n",
        "\n",
        "        ])\n",
        "    )\n",
        "    return train_dataset\n",
        "\n",
        "def get_loader(train_dataset):\n",
        "    train_loader = torch.utils.data.DataLoader(\n",
        "        train_dataset,\n",
        "        batch_size=64,\n",
        "        num_workers=0,\n",
        "        shuffle=True\n",
        "    )\n",
        "    return train_loader"
      ],
      "execution_count": 33,
      "outputs": []
    },
    {
      "cell_type": "code",
      "metadata": {
        "id": "jhB3vQDwXrnv"
      },
      "source": [
        "test_data = load_dataset('Images')\n",
        "loader = get_loader(test_data)"
      ],
      "execution_count": 34,
      "outputs": []
    },
    {
      "cell_type": "code",
      "metadata": {
        "id": "Y8Ms-rJsa7-L"
      },
      "source": [
        "breeds_names_old = test_data.class_to_idx"
      ],
      "execution_count": 46,
      "outputs": []
    },
    {
      "cell_type": "code",
      "metadata": {
        "id": "VG93K4UVZA5I"
      },
      "source": [
        "breeds_names = {}\n",
        "for key in breeds_names_old:\n",
        "  breeds_names[breeds_names_old[key]] = key[10:]"
      ],
      "execution_count": 52,
      "outputs": []
    },
    {
      "cell_type": "code",
      "metadata": {
        "colab": {
          "base_uri": "https://localhost:8080/"
        },
        "id": "NWDujd1Qb4eA",
        "outputId": "16144985-a68a-4d65-a8f6-6dc83fdde236"
      },
      "source": [
        "print(breeds_names)"
      ],
      "execution_count": 53,
      "outputs": [
        {
          "output_type": "stream",
          "name": "stdout",
          "text": [
            "{0: 'Japanese_spaniel', 1: 'Pekinese', 2: 'Blenheim_spaniel', 3: 'toy_terrier', 4: 'Rhodesian_ridgeback', 5: 'basset', 6: 'beagle', 7: 'bluetick', 8: 'black-and-tan_coonhound', 9: 'Walker_hound', 10: 'English_foxhound', 11: 'redbone', 12: 'borzoi', 13: 'Norwegian_elkhound', 14: 'Scottish_deerhound', 15: 'Weimaraner', 16: 'Staffordshire_bullterrier', 17: 'American_Staffordshire_terrier', 18: 'Border_terrier', 19: 'Irish_terrier', 20: 'Norfolk_terrier', 21: 'Norwich_terrier', 22: 'Yorkshire_terrier', 23: 'wire-haired_fox_terrier', 24: 'Lakeland_terrier', 25: 'Airedale', 26: 'cairn', 27: 'giant_schnauzer', 28: 'standard_schnauzer', 29: 'soft-coated_wheaten_terrier', 30: 'West_Highland_white_terrier', 31: 'flat-coated_retriever', 32: 'golden_retriever', 33: 'Labrador_retriever', 34: 'Chesapeake_Bay_retriever', 35: 'Irish_setter', 36: 'Gordon_setter', 37: 'Brittany_spaniel', 38: 'Welsh_springer_spaniel', 39: 'cocker_spaniel', 40: 'Sussex_spaniel', 41: 'Irish_water_spaniel', 42: 'briard', 43: 'kelpie', 44: 'Shetland_sheepdog', 45: 'collie', 46: 'Rottweiler', 47: 'Doberman', 48: 'boxer', 49: 'Tibetan_mastiff', 50: 'malamute', 51: 'Siberian_husky', 52: 'pug', 53: 'Leonberg', 54: 'Newfoundland', 55: 'Great_Pyrenees', 56: 'Samoyed', 57: 'Pomeranian', 58: 'chow', 59: 'standard_poodle', 60: 'dingo'}\n"
          ]
        }
      ]
    },
    {
      "cell_type": "code",
      "metadata": {
        "id": "nyjVG1XHcTOH"
      },
      "source": [
        "import json\n",
        "with open('breeds_names.txt', 'w') as file:\n",
        "     file.write(json.dumps(breeds_names))"
      ],
      "execution_count": 54,
      "outputs": []
    },
    {
      "cell_type": "code",
      "metadata": {
        "id": "u7q98WfKcpeA"
      },
      "source": [
        ""
      ],
      "execution_count": null,
      "outputs": []
    }
  ]
}