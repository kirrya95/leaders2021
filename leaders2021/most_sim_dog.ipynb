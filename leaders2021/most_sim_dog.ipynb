{
  "nbformat": 4,
  "nbformat_minor": 0,
  "metadata": {
    "colab": {
      "name": "most_sim_dog.ipynb",
      "provenance": []
    },
    "kernelspec": {
      "name": "python3",
      "display_name": "Python 3"
    },
    "language_info": {
      "name": "python"
    }
  },
  "cells": [
    {
      "cell_type": "code",
      "metadata": {
        "id": "M98mQzIL_cfH"
      },
      "source": [
        "import numpy as np\n",
        "import clip\n",
        "import pandas as pd"
      ],
      "execution_count": null,
      "outputs": []
    },
    {
      "cell_type": "code",
      "metadata": {
        "id": "pqNpgtlP_fdZ"
      },
      "source": [
        "device =  \"cpu\"\n",
        "model, preprocess = clip.load(\"ViT-B/32\", device=device)"
      ],
      "execution_count": null,
      "outputs": []
    },
    {
      "cell_type": "code",
      "metadata": {
        "id": "YuVhZazR__Z2"
      },
      "source": [
        "breeds = [\n",
        "            \"a dachshund\",\n",
        "            \"a borzoi\",\n",
        "            \"a basset hound\",\n",
        "            \"a spitz\",\n",
        "            \"a yorkshire terrier\",\n",
        "            \"a chihuahua\",\n",
        "            \"a german shepherd\",\n",
        "            \"a labrador\",\n",
        "            \"a husky\",\n",
        "            \"a jack russell terrier\",\n",
        "            \"a caucasian shepherd dog\",\n",
        "            \"a corgi\",\n",
        "            \"a bulldog\",\n",
        "            \"a pug\",\n",
        "            \"a poodle\",\n",
        "            \"a golden retriever\",\n",
        "            \"a rottweiler\",\n",
        "            \"a beagle\",\n",
        "            \"a cocker spaniel\",\n",
        "            \"a deutscher boxer\",\n",
        "            \"a pekingese\",\n",
        "            \"a sharpey\",\n",
        "            \"a bull terrier\",\n",
        "]"
      ],
      "execution_count": 3,
      "outputs": []
    },
    {
      "cell_type": "code",
      "metadata": {
        "id": "jINhliuvAE7b"
      },
      "source": [
        "encoded_text = model.encode_text(text)"
      ],
      "execution_count": null,
      "outputs": []
    },
    {
      "cell_type": "code",
      "metadata": {
        "id": "QzpVLsgRAHMq"
      },
      "source": [
        "matrix_distance = []\n",
        "for i in range(len(encoded_text)):\n",
        "  s = []\n",
        "  for j in range(len(encoded_text)):\n",
        "    s.append(torch.mean((encoded_text[i] - encoded_text[j]) ** 2).item())\n",
        "  matrix_distance.append(s)\n",
        "matrix_distance = np.array(matrix_distance) / np.max(matrix_distance)\n",
        "print(matrix_distance.shape)"
      ],
      "execution_count": null,
      "outputs": []
    },
    {
      "cell_type": "code",
      "metadata": {
        "id": "iszTi9W1AS46"
      },
      "source": [
        "breeds_idx = {breeds[i]: i for i in range(len(breeds))}\n",
        "breeds_idx"
      ],
      "execution_count": null,
      "outputs": []
    },
    {
      "cell_type": "code",
      "metadata": {
        "id": "xnOxJp1zAWQ8"
      },
      "source": [
        "def metric_color(color, real):\n",
        "  if (color == real): return 0\n",
        "  return 1\n",
        "\n",
        "def metric_tail(tail, real):\n",
        "  if (tail == real): return 0\n",
        "  return 1\n",
        "\n",
        "def metric_breed(breeds, real, breeds_distance, breeds_idx):\n",
        "  breed = breeds.split(',')[0]\n",
        "  return breeds_distance[breeds_idx[breed]][breeds_idx[real]]\n",
        "\n",
        "def get_coord(cam):\n",
        "  return np.random.randn(2)\n",
        "\n",
        "def metric_dist(cam, real):\n",
        "  diam = 50\n",
        "  r1, r2 = get_coord(cam), get_coord(real)\n",
        "  return np.sqrt((r1[0] - r2[0]) ** 2 + (r1[1] - r2[1]) ** 2) / diam\n",
        "\n",
        "def find_most_sim_dog(csv_all: str, csv_sample: str, breeds_distance,\n",
        "                      breeds_idx):\n",
        "  weights = [0.5, 0.5, 1, 0.1] # tail, color, breed, distance\n",
        "  data = pd.read_csv(csv_all, index_col = 0)[\n",
        "    [\"color\", \"tail\", \"top3_breed\", \"cam_id\"]\n",
        "  ].to_numpy()\n",
        "  real = pd.read_csv(csv_all, index_col = 0)[\n",
        "    [\"color\", \"tail\", \"top3_breed\", \"cam_id\"]\n",
        "  ].to_numpy()  \n",
        "  dist = []\n",
        "  for inf in data:\n",
        "    metrics = [metric_color(inf[0], real[0]), metric_tail(inf[1], real[1]),\n",
        "               metric_breed(inf[2], real[2], breeds_distance, breeds_idx),\n",
        "               metric_dist(inf[3], real[3])] \n",
        "    dist.append(sum([m * w] for (m, w) in zip(mterics, weight)))\n",
        "  return(np.argmax(dist))"
      ],
      "execution_count": null,
      "outputs": []
    }
  ]
}