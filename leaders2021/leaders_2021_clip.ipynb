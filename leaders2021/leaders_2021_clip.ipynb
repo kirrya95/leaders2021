{
  "nbformat": 4,
  "nbformat_minor": 0,
  "metadata": {
    "colab": {
      "name": "leaders_2021_clip.ipynb",
      "provenance": [],
      "collapsed_sections": []
    },
    "kernelspec": {
      "name": "python3",
      "display_name": "Python 3"
    },
    "language_info": {
      "name": "python"
    },
    "accelerator": "GPU"
  },
  "cells": [
    {
      "cell_type": "code",
      "metadata": {
        "id": "RpaG0r3lmRgI"
      },
      "source": [
        "import torch\n",
        "import os\n",
        "import numpy as np\n",
        "import matplotlib.pyplot as plt\n",
        "import matplotlib\n",
        "from torchvision.models import detection\n",
        "import torchvision\n",
        "from tqdm import tqdm, tqdm_notebook\n",
        "from PIL import Image\n",
        "import matplotlib"
      ],
      "execution_count": 131,
      "outputs": []
    },
    {
      "cell_type": "code",
      "metadata": {
        "id": "xA9Uqs_6pRIk"
      },
      "source": [
        "!unzip -q \"drive/MyDrive/Colab Notebooks/Тестовые снимки.zip\""
      ],
      "execution_count": 102,
      "outputs": []
    },
    {
      "cell_type": "code",
      "metadata": {
        "id": "1DNPb2Chnj4C"
      },
      "source": [
        " def get_cropped_image(picture, coordinates, expand_coeff=2.0):\n",
        "        '''\n",
        "            picture: torch.Tensor\n",
        "            coordinates: \"indexed set\" of 4 coordinates: [x1, y1, x2, y2]\n",
        "        '''\n",
        "        x = coordinates[0]\n",
        "        y = coordinates[1]\n",
        "        w = coordinates[2] - coordinates[0]\n",
        "        h = coordinates[3] - coordinates[1]\n",
        "        w_expanded = int(w * expand_coeff)\n",
        "        h_expanded = int(h * expand_coeff)\n",
        "        x_expanded = int(x - (w_expanded - w) / 2.0)\n",
        "        y_expanded = int(y - (h_expanded - h) / 2.0)\n",
        "\n",
        "        return torchvision.transforms.functional.crop(\n",
        "            picture, \n",
        "            int(y_expanded), \n",
        "            int(x_expanded), \n",
        "            int(h_expanded), \n",
        "            int(w_expanded),\n",
        "        )"
      ],
      "execution_count": null,
      "outputs": []
    },
    {
      "cell_type": "code",
      "metadata": {
        "id": "vbkbWDsIoC4K"
      },
      "source": [
        "# picture: torch.Tensor or np.array\n",
        "# boxes: indexed object\n",
        "# labels: indexed object\n",
        "def draw_pic_with_rect(picture, boxes, labels, n=5):\n",
        "    boxes = boxes[:n]\n",
        "    labels = labels[:n]\n",
        "    if isinstance(picture, torch.Tensor):\n",
        "        picture = (picture.detach().squeeze(0) * 256).permute(1, 2, 0).numpy()\n",
        "    picture = picture.astype(dtype=np.int)\n",
        "\n",
        "    fig, ax = plt.subplots(figsize = (15, 15))\n",
        "    ax.imshow(picture)\n",
        "\n",
        "    for box, lab in zip(boxes, labels):\n",
        "        rect = matplotlib.patches.Rectangle((box[0], box[1]), box[2] - box[0], box[3] - box[1],\n",
        "                                       linewidth=1, edgecolor='r', facecolor='none')\n",
        "        ax.text(box[0], box[1], inst_classes[lab], fontsize = 12)\n",
        "        ax.add_patch(rect)\n",
        "\n",
        "    fig.show()"
      ],
      "execution_count": null,
      "outputs": []
    },
    {
      "cell_type": "code",
      "metadata": {
        "id": "Wg4ybNWookw2"
      },
      "source": [
        "inst_classes = [\n",
        "    '__background__', 'person', 'bicycle', 'car', 'motorcycle', 'airplane', 'bus',\n",
        "    'train', 'truck', 'boat', 'traffic light', 'fire hydrant', 'N/A', 'stop sign',\n",
        "    'parking meter', 'bench', 'bird', 'cat', 'dog', 'horse', 'sheep', 'cow',\n",
        "    'elephant', 'bear', 'zebra', 'giraffe', 'N/A', 'backpack', 'umbrella', 'N/A', 'N/A',\n",
        "    'handbag', 'tie', 'suitcase', 'frisbee', 'skis', 'snowboard', 'sports ball',\n",
        "    'kite', 'baseball bat', 'baseball glove', 'skateboard', 'surfboard', 'tennis racket',\n",
        "    'bottle', 'N/A', 'wine glass', 'cup', 'fork', 'knife', 'spoon', 'bowl',\n",
        "    'banana', 'apple', 'sandwich', 'orange', 'broccoli', 'carrot', 'hot dog', 'pizza',\n",
        "    'donut', 'cake', 'chair', 'couch', 'potted plant', 'bed', 'N/A', 'dining table',\n",
        "    'N/A', 'N/A', 'toilet', 'N/A', 'tv', 'laptop', 'mouse', 'remote', 'keyboard', 'cell phone',\n",
        "    'microwave', 'oven', 'toaster', 'sink', 'refrigerator', 'N/A', 'book',\n",
        "    'clock', 'vase', 'scissors', 'teddy bear', 'hair drier', 'toothbrush'\n",
        "]"
      ],
      "execution_count": 2,
      "outputs": []
    },
    {
      "cell_type": "code",
      "metadata": {
        "id": "MUAVSUFzO2ir"
      },
      "source": [
        "animals = [\n",
        "            \"an animal\", \n",
        "            \"not an animal\",\n",
        "            \"a person\",\n",
        "            \"a bench\",\n",
        "            \"a car\",\n",
        "]\n",
        "\n",
        "is_dog = [\n",
        "            \"a dog\",\n",
        "            \"a cat\",\n",
        "            \"a bird\",\n",
        "            \"a bench\",\n",
        "]\n",
        "\n",
        "interensting_indices = [\n",
        "    inst_classes.index(\"bird\"),\n",
        "    inst_classes.index(\"cat\"),\n",
        "    inst_classes.index(\"dog\"),\n",
        "    inst_classes.index(\"horse\"),\n",
        "    inst_classes.index(\"sheep\"),\n",
        "    inst_classes.index(\"cow\"),\n",
        "    inst_classes.index(\"elephant\"),\n",
        "    inst_classes.index(\"bear\"),\n",
        "    inst_classes.index(\"zebra\"),\n",
        "    inst_classes.index(\"giraffe\"),\n",
        "    inst_classes.index(\"bench\"),          \n",
        "    inst_classes.index(\"person\"),\n",
        "]"
      ],
      "execution_count": 339,
      "outputs": []
    },
    {
      "cell_type": "code",
      "metadata": {
        "id": "aJOnkNEPLE8h"
      },
      "source": [
        "converter_tail = {\n",
        "    \"a dachshund\": 1,\n",
        "    \"a borzoi\" : 2,\n",
        "    \"a basset hound\" : 2,\n",
        "    \"a spitz\": 1,\n",
        "    \"a yorkshire terrier\": 1,\n",
        "    \"a chihuahua\": 1,\n",
        "    \"a german shepherd\" : 2,\n",
        "    \"a labrador\" : 2,\n",
        "    \"a husky\" : 2,\n",
        "    \"a jack russell terrier\" : 2,\n",
        "    \"a caucasian shepherd dog\": 1,\n",
        "    \"a corgi\": 1,\n",
        "    \"a bulldog\": 1,\n",
        "    \"a pug\": 1,\n",
        "    \"a poodle\": 1,\n",
        "    \"a golden retriever\" : 2,\n",
        "    \"a rottweiler\": 1,\n",
        "    \"a beagle\" : 2,\n",
        "    \"a cocker spaniel\": 1,\n",
        "    \"a deutscher boxer\": 1,\n",
        "    \"a pekingese\": 1,\n",
        "    \"a sharpey\": 1,\n",
        "    \"a bull terrier\" : 2,\n",
        "    \"a doberman\": 1,\n",
        "    \"a st. bernard\" : 2,\n",
        "    \"a newfoundland\" : 2,\n",
        "    \"a border collie\" : 2,\n",
        "    \"a shiba inu\": 1,\n",
        "    \"a dalmatian\" : 2,\n",
        "    \"a samoyed\" : 2,\n",
        "    \"a bichon frise\": 1,\n",
        "    \"a toy terrier\": 1,\n",
        "    \"a cavalier king charles spaniel\": 2,\n",
        "}"
      ],
      "execution_count": 17,
      "outputs": []
    },
    {
      "cell_type": "code",
      "metadata": {
        "colab": {
          "base_uri": "https://localhost:8080/"
        },
        "id": "k4MHQ-mMm2SD",
        "outputId": "4374e758-c15a-4498-f8f4-e0f340900477"
      },
      "source": [
        "!pip install git+https://github.com/openai/CLIP.git"
      ],
      "execution_count": 3,
      "outputs": [
        {
          "output_type": "stream",
          "name": "stdout",
          "text": [
            "Collecting git+https://github.com/openai/CLIP.git\n",
            "  Cloning https://github.com/openai/CLIP.git to /tmp/pip-req-build-ug3qbliy\n",
            "  Running command git clone -q https://github.com/openai/CLIP.git /tmp/pip-req-build-ug3qbliy\n",
            "Collecting ftfy\n",
            "  Downloading ftfy-6.0.3.tar.gz (64 kB)\n",
            "\u001b[K     |████████████████████████████████| 64 kB 2.4 MB/s \n",
            "\u001b[?25hRequirement already satisfied: regex in /usr/local/lib/python3.7/dist-packages (from clip==1.0) (2019.12.20)\n",
            "Requirement already satisfied: tqdm in /usr/local/lib/python3.7/dist-packages (from clip==1.0) (4.62.3)\n",
            "Requirement already satisfied: torch in /usr/local/lib/python3.7/dist-packages (from clip==1.0) (1.9.0+cu111)\n",
            "Requirement already satisfied: torchvision in /usr/local/lib/python3.7/dist-packages (from clip==1.0) (0.10.0+cu111)\n",
            "Requirement already satisfied: wcwidth in /usr/local/lib/python3.7/dist-packages (from ftfy->clip==1.0) (0.2.5)\n",
            "Requirement already satisfied: typing-extensions in /usr/local/lib/python3.7/dist-packages (from torch->clip==1.0) (3.7.4.3)\n",
            "Requirement already satisfied: numpy in /usr/local/lib/python3.7/dist-packages (from torchvision->clip==1.0) (1.19.5)\n",
            "Requirement already satisfied: pillow>=5.3.0 in /usr/local/lib/python3.7/dist-packages (from torchvision->clip==1.0) (7.1.2)\n",
            "Building wheels for collected packages: clip, ftfy\n",
            "  Building wheel for clip (setup.py) ... \u001b[?25l\u001b[?25hdone\n",
            "  Created wheel for clip: filename=clip-1.0-py3-none-any.whl size=1369107 sha256=b9f356b6cf7e94432c318fcbae2f064653b441d73258380d4d48f039d6aa93dd\n",
            "  Stored in directory: /tmp/pip-ephem-wheel-cache-agf4b1qp/wheels/fd/b9/c3/5b4470e35ed76e174bff77c92f91da82098d5e35fd5bc8cdac\n",
            "  Building wheel for ftfy (setup.py) ... \u001b[?25l\u001b[?25hdone\n",
            "  Created wheel for ftfy: filename=ftfy-6.0.3-py3-none-any.whl size=41933 sha256=b650adf6c6f4fd38b7a93d8e9886b1d724d763f2a695c367639e77740f81a2a7\n",
            "  Stored in directory: /root/.cache/pip/wheels/19/f5/38/273eb3b5e76dfd850619312f693716ac4518b498f5ffb6f56d\n",
            "Successfully built clip ftfy\n",
            "Installing collected packages: ftfy, clip\n",
            "Successfully installed clip-1.0 ftfy-6.0.3\n"
          ]
        }
      ]
    },
    {
      "cell_type": "code",
      "metadata": {
        "colab": {
          "base_uri": "https://localhost:8080/"
        },
        "id": "v-uXqsrSb6KK",
        "outputId": "e19ba202-e519-4386-a4c8-69790d3d41ae"
      },
      "source": [
        "device = \"cuda\" if torch.cuda.is_available() else \"cpu\"\n",
        "print(device)"
      ],
      "execution_count": 9,
      "outputs": [
        {
          "output_type": "stream",
          "name": "stdout",
          "text": [
            "cuda\n"
          ]
        }
      ]
    },
    {
      "cell_type": "code",
      "metadata": {
        "id": "5U4r3oc1ntEJ"
      },
      "source": [
        "model_detection = torchvision.models.detection.fasterrcnn_mobilenet_v3_large_fpn(pretrained = True).to(device=device)"
      ],
      "execution_count": 25,
      "outputs": []
    },
    {
      "cell_type": "code",
      "metadata": {
        "colab": {
          "base_uri": "https://localhost:8080/"
        },
        "id": "J9b_MW24bxuM",
        "outputId": "53fc1555-7d1b-4548-eead-3253e80ec83c"
      },
      "source": [
        "import clip\n",
        "model, preprocess = clip.load(\"ViT-B/32\", device=device)"
      ],
      "execution_count": 10,
      "outputs": [
        {
          "output_type": "stream",
          "name": "stderr",
          "text": [
            "100%|████████████████████████████████████████| 338M/338M [00:03<00:00, 117MiB/s]\n"
          ]
        }
      ]
    },
    {
      "cell_type": "code",
      "metadata": {
        "colab": {
          "base_uri": "https://localhost:8080/"
        },
        "id": "vdpQGrR8Tc7T",
        "outputId": "290a15b0-874b-471a-81ec-7c204062b6a1"
      },
      "source": [
        "!pip3 install pytesseract\n",
        "!sudo apt install tesseract-ocr\n",
        "!sudo apt-get install tesseract-ocr-rus\n",
        "!pip3 install opencv-contrib-python --upgrade"
      ],
      "execution_count": 11,
      "outputs": [
        {
          "output_type": "stream",
          "name": "stdout",
          "text": [
            "Collecting pytesseract\n",
            "  Downloading pytesseract-0.3.8.tar.gz (14 kB)\n",
            "Requirement already satisfied: Pillow in /usr/local/lib/python3.7/dist-packages (from pytesseract) (7.1.2)\n",
            "Building wheels for collected packages: pytesseract\n",
            "  Building wheel for pytesseract (setup.py) ... \u001b[?25l\u001b[?25hdone\n",
            "  Created wheel for pytesseract: filename=pytesseract-0.3.8-py2.py3-none-any.whl size=14072 sha256=b748cf2bca461257f8510086f8b8d5e59ce098ffecf377571a10688bf0467033\n",
            "  Stored in directory: /root/.cache/pip/wheels/a4/89/b9/3f11250225d0f90e5454fcc30fd1b7208db226850715aa9ace\n",
            "Successfully built pytesseract\n",
            "Installing collected packages: pytesseract\n",
            "Successfully installed pytesseract-0.3.8\n",
            "Reading package lists... Done\n",
            "Building dependency tree       \n",
            "Reading state information... Done\n",
            "The following additional packages will be installed:\n",
            "  tesseract-ocr-eng tesseract-ocr-osd\n",
            "The following NEW packages will be installed:\n",
            "  tesseract-ocr tesseract-ocr-eng tesseract-ocr-osd\n",
            "0 upgraded, 3 newly installed, 0 to remove and 37 not upgraded.\n",
            "Need to get 4,795 kB of archives.\n",
            "After this operation, 15.8 MB of additional disk space will be used.\n",
            "Get:1 http://archive.ubuntu.com/ubuntu bionic/universe amd64 tesseract-ocr-eng all 4.00~git24-0e00fe6-1.2 [1,588 kB]\n",
            "Get:2 http://archive.ubuntu.com/ubuntu bionic/universe amd64 tesseract-ocr-osd all 4.00~git24-0e00fe6-1.2 [2,989 kB]\n",
            "Get:3 http://archive.ubuntu.com/ubuntu bionic/universe amd64 tesseract-ocr amd64 4.00~git2288-10f4998a-2 [218 kB]\n",
            "Fetched 4,795 kB in 0s (28.7 MB/s)\n",
            "debconf: unable to initialize frontend: Dialog\n",
            "debconf: (No usable dialog-like program is installed, so the dialog based frontend cannot be used. at /usr/share/perl5/Debconf/FrontEnd/Dialog.pm line 76, <> line 3.)\n",
            "debconf: falling back to frontend: Readline\n",
            "debconf: unable to initialize frontend: Readline\n",
            "debconf: (This frontend requires a controlling tty.)\n",
            "debconf: falling back to frontend: Teletype\n",
            "dpkg-preconfigure: unable to re-open stdin: \n",
            "Selecting previously unselected package tesseract-ocr-eng.\n",
            "(Reading database ... 155219 files and directories currently installed.)\n",
            "Preparing to unpack .../tesseract-ocr-eng_4.00~git24-0e00fe6-1.2_all.deb ...\n",
            "Unpacking tesseract-ocr-eng (4.00~git24-0e00fe6-1.2) ...\n",
            "Selecting previously unselected package tesseract-ocr-osd.\n",
            "Preparing to unpack .../tesseract-ocr-osd_4.00~git24-0e00fe6-1.2_all.deb ...\n",
            "Unpacking tesseract-ocr-osd (4.00~git24-0e00fe6-1.2) ...\n",
            "Selecting previously unselected package tesseract-ocr.\n",
            "Preparing to unpack .../tesseract-ocr_4.00~git2288-10f4998a-2_amd64.deb ...\n",
            "Unpacking tesseract-ocr (4.00~git2288-10f4998a-2) ...\n",
            "Setting up tesseract-ocr-osd (4.00~git24-0e00fe6-1.2) ...\n",
            "Setting up tesseract-ocr-eng (4.00~git24-0e00fe6-1.2) ...\n",
            "Setting up tesseract-ocr (4.00~git2288-10f4998a-2) ...\n",
            "Processing triggers for man-db (2.8.3-2ubuntu0.1) ...\n",
            "Reading package lists... Done\n",
            "Building dependency tree       \n",
            "Reading state information... Done\n",
            "The following NEW packages will be installed:\n",
            "  tesseract-ocr-rus\n",
            "0 upgraded, 1 newly installed, 0 to remove and 37 not upgraded.\n",
            "Need to get 1,272 kB of archives.\n",
            "After this operation, 3,877 kB of additional disk space will be used.\n",
            "Get:1 http://archive.ubuntu.com/ubuntu bionic/universe amd64 tesseract-ocr-rus all 4.00~git24-0e00fe6-1.2 [1,272 kB]\n",
            "Fetched 1,272 kB in 0s (13.0 MB/s)\n",
            "debconf: unable to initialize frontend: Dialog\n",
            "debconf: (No usable dialog-like program is installed, so the dialog based frontend cannot be used. at /usr/share/perl5/Debconf/FrontEnd/Dialog.pm line 76, <> line 1.)\n",
            "debconf: falling back to frontend: Readline\n",
            "debconf: unable to initialize frontend: Readline\n",
            "debconf: (This frontend requires a controlling tty.)\n",
            "debconf: falling back to frontend: Teletype\n",
            "dpkg-preconfigure: unable to re-open stdin: \n",
            "Selecting previously unselected package tesseract-ocr-rus.\n",
            "(Reading database ... 155266 files and directories currently installed.)\n",
            "Preparing to unpack .../tesseract-ocr-rus_4.00~git24-0e00fe6-1.2_all.deb ...\n",
            "Unpacking tesseract-ocr-rus (4.00~git24-0e00fe6-1.2) ...\n",
            "Setting up tesseract-ocr-rus (4.00~git24-0e00fe6-1.2) ...\n",
            "Requirement already satisfied: opencv-contrib-python in /usr/local/lib/python3.7/dist-packages (4.1.2.30)\n",
            "Collecting opencv-contrib-python\n",
            "  Downloading opencv_contrib_python-4.5.4.58-cp37-cp37m-manylinux2014_x86_64.whl (66.5 MB)\n",
            "\u001b[K     |████████████████████████████████| 66.5 MB 7.6 kB/s \n",
            "\u001b[?25hRequirement already satisfied: numpy>=1.14.5 in /usr/local/lib/python3.7/dist-packages (from opencv-contrib-python) (1.19.5)\n",
            "Installing collected packages: opencv-contrib-python\n",
            "  Attempting uninstall: opencv-contrib-python\n",
            "    Found existing installation: opencv-contrib-python 4.1.2.30\n",
            "    Uninstalling opencv-contrib-python-4.1.2.30:\n",
            "      Successfully uninstalled opencv-contrib-python-4.1.2.30\n",
            "Successfully installed opencv-contrib-python-4.5.4.58\n"
          ]
        }
      ]
    },
    {
      "cell_type": "code",
      "metadata": {
        "id": "nD9f4fpwTgMS"
      },
      "source": [
        "import pytesseract\n",
        "import cv2\n",
        "import re"
      ],
      "execution_count": 13,
      "outputs": []
    },
    {
      "cell_type": "code",
      "metadata": {
        "id": "ftuRCgsNNBRG"
      },
      "source": [
        "converter_color = {\n",
        "    \"a black dog\": 1,\n",
        "    \"a white dog\": 2,\n",
        "    \"a brown dog\": 3,\n",
        "    \"an orange dog\": 3,\n",
        "    \"a chocolate dog\": 3,\n",
        "    \"a liver dog\": 3,\n",
        "    \"a red dog\": 3,\n",
        "    \"a gold dog\": 2,\n",
        "    \"a cream dog\": 2,\n",
        "    \"a fawn dog\": 2,\n",
        "    \"a blue dog\": 3,\n",
        "    \"a gray dog\": 2,\n",
        "    \"a grey dog\": 2,\n",
        "}"
      ],
      "execution_count": 18,
      "outputs": []
    },
    {
      "cell_type": "code",
      "metadata": {
        "id": "9rdv18t3t0zg"
      },
      "source": [
        "# picture: torch.Tensor or np.array\n",
        "# boxes: indexed object\n",
        "# labels: indexed object\n",
        "def draw_pic_with_rect(picture, boxes, labels, n=5):\n",
        "    boxes = boxes[:n]\n",
        "    labels = labels[:n]\n",
        "    if isinstance(picture, torch.Tensor):\n",
        "        picture = (picture.cpu().detach().squeeze(0) * 256).permute(1, 2, 0).numpy()\n",
        "    picture = picture.astype(dtype=np.int)\n",
        "\n",
        "    fig, ax = plt.subplots(figsize = (15, 15))\n",
        "    ax.imshow(picture)\n",
        "\n",
        "    for box, lab in zip(boxes, labels):\n",
        "        rect = matplotlib.patches.Rectangle((box[0], box[1]), box[2] - box[0], box[3] - box[1],\n",
        "                                       linewidth=1, edgecolor='r', facecolor='none')\n",
        "        ax.text(box[0], box[1], inst_classes[lab], fontsize = 12)\n",
        "        ax.add_patch(rect)\n",
        "\n",
        "    fig.show()"
      ],
      "execution_count": 130,
      "outputs": []
    },
    {
      "cell_type": "code",
      "metadata": {
        "id": "mERnnNqiyjnn"
      },
      "source": [
        "class ResultType:\n",
        "    def __init__(self, \n",
        "                 filename, \n",
        "                 is_animal_there, \n",
        "                 is_it_a_dog, \n",
        "                 is_the_owner_there, \n",
        "                 color, \n",
        "                 breed,  \n",
        "                 tail, \n",
        "                 address, \n",
        "                 cam_id,  \n",
        "                 date):\n",
        "        \n",
        "        self.res = {\n",
        "            \"filename\": filename,\n",
        "            \"is_animal_there\": is_animal_there,\n",
        "            \"is_it_a_dog\": is_it_a_dog,\n",
        "            \"is_the_owner_there\": is_the_owner_there,\n",
        "            \"color\": color,\n",
        "            \"breed\": breed,\n",
        "            \"tail\": tail,\n",
        "            \"address\": address,\n",
        "            \"cam_id\": cam_id,\n",
        "            \"date\": date,\n",
        "        }\n",
        "\n",
        "    def make_readable(self):\n",
        "        raise NotImplementedError()\n",
        "    \n"
      ],
      "execution_count": 295,
      "outputs": []
    },
    {
      "cell_type": "code",
      "metadata": {
        "colab": {
          "base_uri": "https://localhost:8080/",
          "height": 225
        },
        "id": "Q7rVGJ47oqcW",
        "outputId": "066a0ca5-3e8f-4d25-8c1f-16411499aabc"
      },
      "source": [
        "class FindLostAnimal():\n",
        "    def __init__(self, \n",
        "                 model_detection, \n",
        "                 model_clip, \n",
        "                 preprocess,\n",
        "                 model_superres,\n",
        "                 interesting_indices,\n",
        "                 animals, \n",
        "                 is_animal_index,\n",
        "                 is_dog,\n",
        "                 is_dog_index,\n",
        "                 breeds,\n",
        "                 colors,\n",
        "                 converter_tail,\n",
        "                 converter_color,\n",
        "                 person_label=1,\n",
        "                 device=\"cpu\"\n",
        "                 ):\n",
        "        \n",
        "        self.device = device\n",
        "        self.model_detection = model_detection\n",
        "        self.model_clip = model_clip\n",
        "        self.preprocess_clip = preprocess\n",
        "        self.model_superres = model_superres # TODO\n",
        "\n",
        "        self.interesting_indices = interesting_indices\n",
        "\n",
        "        self.tokens_animal = clip.tokenize(animals).to(self.device)\n",
        "        self.tokens_color = clip.tokenize(colors).to(self.device)\n",
        "        self.tokens_is_dog = clip.tokenize(is_dog).to(self.device)\n",
        "        self.tokens_breed = clip.tokenize(breeds).to(self.device)\n",
        "        self.is_animal_index = is_animal_index\n",
        "        self.is_dog_index = is_dog_index\n",
        "        self.breeds = breeds\n",
        "        self.colors = colors\n",
        "        self.converter_tail = converter_tail\n",
        "        self.converter_color = converter_color\n",
        "        self.person_label = person_label\n",
        "\n",
        "        self.model_detection.eval()\n",
        "        self.model_clip.eval()\n",
        "\n",
        "        self.num_saved_pictures = 0 # TODO\n",
        "\n",
        "    def __get_cropped_image(self, picture: torch.Tensor, coordinates: list, expand_coeff=3.0):\n",
        "        '''\n",
        "            picture: torch.Tensor\n",
        "            coordinates: \"indexed set\" of 4 coordinates: [x1, y1, x2, y2]\n",
        "        '''\n",
        "        x = coordinates[0]\n",
        "        y = coordinates[1]\n",
        "        w = coordinates[2] - coordinates[0]\n",
        "        h = coordinates[3] - coordinates[1]\n",
        "        w_expanded = int(w * expand_coeff)\n",
        "        h_expanded = int(h * expand_coeff)\n",
        "        x_expanded = int(x - (w_expanded - w) / 2.0)\n",
        "        y_expanded = int(y - (h_expanded - h) / 2.0)\n",
        "\n",
        "        return torchvision.transforms.functional.crop(\n",
        "            picture, \n",
        "            int(y_expanded), \n",
        "            int(x_expanded), \n",
        "            int(h_expanded), \n",
        "            int(w_expanded),\n",
        "        )\n",
        "\n",
        "    def __check_intersection(self, cr_1, cr_2):\n",
        "        x1 = [cr_1[0], cr_1[2]]\n",
        "        y1 = [cr_1[1], cr_1[3]]\n",
        "        x2 = [cr_2[0], cr_2[2]]\n",
        "        y2 = [cr_2[1], cr_2[3]]\n",
        "\n",
        "        return not (max(x1) < min(x2) or \n",
        "                    min(x1) > max(x2) or \n",
        "                    max(y1) < min(y2) or \n",
        "                    min(y1) > max(y2))\n",
        "\n",
        "\n",
        "    def __drop_uninformative_boxes(\n",
        "                                    self, \n",
        "                                    boxes, \n",
        "                                    labels, \n",
        "                                    probabilities, \n",
        "                                    dog_label, \n",
        "                                    THRESHOLD_SIZE=25, \n",
        "                                    THRESHOLD_PROBABILITY=0.08\n",
        "        ):\n",
        "        '''\n",
        "            drop small useless boxes with low probabilities\n",
        "        '''\n",
        "        bad_boxes = np.zeros(len(boxes))\n",
        "        for i in range(len(boxes)):\n",
        "            if min(boxes[i][2] - boxes[i][0], boxes[i][3] - boxes[i][1]) <= THRESHOLD_SIZE or \\\n",
        "            (probabilities[i] < THRESHOLD_PROBABILITY and labels[i] != dog_label):\n",
        "                bad_boxes[i] = 1\n",
        "\n",
        "        for i in range(len(boxes)):\n",
        "            if bad_boxes[i] == 1:\n",
        "                    continue\n",
        "            for j in range(i + 1, len(boxes)):\n",
        "                if bad_boxes[j] == 1:\n",
        "                    continue\n",
        "                    \n",
        "                if self.__check_intersection(boxes[i], boxes[j]):\n",
        "                    if labels[i] == dog_label and labels[j] == dog_label:\n",
        "                        s1 = (boxes[i][2] - boxes[i][0]) * (boxes[i][3] - boxes[i][1])\n",
        "                        s2 = (boxes[j][2] - boxes[j][0]) * (boxes[j][3] - boxes[j][1])\n",
        "\n",
        "                        if s1 > s2:\n",
        "                            bad_boxes[j] = 1\n",
        "                        else:\n",
        "                            bad_boxes[i] = 1\n",
        "                            break\n",
        "\n",
        "\n",
        "        result_boxes = []\n",
        "        result_labels = []\n",
        "\n",
        "        for i in range(len(bad_boxes)):\n",
        "            if bad_boxes[i] == 0:\n",
        "                result_boxes.append(boxes[i])\n",
        "                result_labels.append(labels[i].cpu().item())\n",
        "\n",
        "        return result_boxes, result_labels\n",
        "\n",
        "    def __extract_text(self, path):\n",
        "        image_cv = cv2.imread(path)\n",
        "        image_cv = image_cv[:image_cv.shape[0] // 10, :image_cv.shape[0] // 3, :]\n",
        "        image_cv = cv2.resize(image_cv, (image_cv.shape[1] * 3, image_cv.shape[0] * 3))\n",
        "        string = pytesseract.image_to_string(image_cv, lang='eng+rus')\n",
        "        id = re.findall(r\"\\s.*_\\d.*\\s\", string, re.M)\n",
        "        if len(id) > 0:\n",
        "            id = id[0][1:-1]\n",
        "        else:\n",
        "            id = None\n",
        "        date = re.findall(r'^.*\\d\\d:\\d\\d:\\d\\d$', string, re.M)\n",
        "        if len(date) > 0:\n",
        "            date = date[0]\n",
        "        else:\n",
        "            date = None\n",
        "        address = re.findall(r'^.*\\sдом.*$', string, re.M)\n",
        "        if len(address) > 0:\n",
        "            address = address[0]\n",
        "        else:\n",
        "            address = None\n",
        "\n",
        "        return id, address, date\n",
        "\n",
        "    def __has_owner(self, dog, persons, THRESHOLD=4):\n",
        "        dist = np.zeros(len(persons), dtype=np.float32)\n",
        "        for i in range(len(persons)):\n",
        "                delta_x = abs((persons[i][2] + persons[i][0]) / 2 -  \n",
        "                                (dog[2] + dog[0]) / 2) / ((dog[2] - dog[0]))\n",
        "\n",
        "                delta_y = abs((persons[i][3] + persons[i][1]) / 2 -  \n",
        "                                (dog[3] + dog[1]) / 2) / (persons[i][3] - persons[i][1])\n",
        "\n",
        "                dist[i] = max(delta_x, delta_y)\n",
        "        return np.sum(dist < THRESHOLD) > 0\n",
        "\n",
        "    def __is_an_animal(self, image) -> bool:\n",
        "        logits_per_image, logits_per_text = model(image, self.tokens_animal)\n",
        "        return logits_per_image[0].argmax().item() == self.is_animal_index\n",
        "\n",
        "    def __is_a_dog(self, image) -> bool:\n",
        "        logits_per_image, logits_per_text = model(image, self.tokens_is_dog)\n",
        "        return logits_per_image[0].argmax().item() == self.is_dog_index\n",
        "\n",
        "    def __get_breed_tail(self, image) -> bool:\n",
        "        logits_per_image, logits_per_text = model(image, self.tokens_breed)\n",
        "        breed = logits_per_image[0].argmax().item()\n",
        "        return self.breeds[breed], self.converter_tail[self.breeds[breed]]\n",
        "\n",
        "    def __get_color(self, image):\n",
        "        logits_per_image, logits_per_text = model(image, self.tokens_color)\n",
        "        return self.converter_color[self.colors[logits_per_image.argmax().item()]]\n",
        "\n",
        "    def __get_features(self, image, box, persons, result_of_extract_text, path):\n",
        "        is_the_owner_there = int(self.__has_owner(box, persons))\n",
        "        color = self.__get_color(image)\n",
        "        breed, tail = self.__get_breed_tail(image)\n",
        "        cam_id, address, date = result_of_extract_text\n",
        "        return ResultType(\n",
        "            os.path.basename(path), 1, 1, \n",
        "            is_the_owner_there, \n",
        "            color, breed, \n",
        "            tail, cam_id, \n",
        "            address, date\n",
        "        )\n",
        "\n",
        "    def __not_a_dog(self, result_of_extract_text, path):\n",
        "        cam_id, address, date = result_of_extract_text\n",
        "        return ResultType(os.path.basename(path), 1, 0, 0, 0, 0, 0, address, cam_id, date)\n",
        "\n",
        "    def __empty(self, result_of_extract_text, path):\n",
        "        cam_id, address, date = result_of_extract_text\n",
        "        return ResultType(os.path.basename(path), 0, 0, 0, 0, 0, 0, address, cam_id, date)\n",
        "\n",
        "    def __choose_answer(self, results: list) -> ResultType:\n",
        "        for result in results:\n",
        "            if result.res[\"is_it_a_dog\"] == 1:\n",
        "                return result\n",
        "        return results[0]\n",
        "\n",
        "    def __call__(self, path):\n",
        "        image = Image.open(path)\n",
        "\n",
        "        features = []\n",
        "        # if it is a png file\n",
        "        picture_numpy = np.asarray(image)[:, :, :3]\n",
        "\n",
        "        picture_torch = torch.from_numpy(picture_numpy).\\\n",
        "        to(dtype=torch.float32, device=self.device).permute(2, 0, 1) / 256\n",
        "        picture_torch.unsqueeze_(0)\n",
        "\n",
        "        # get detector predictions\n",
        "        detector_predictions = self.model_detection(picture_torch)[0]\n",
        "        boxes = detector_predictions[\"boxes\"]\n",
        "        labels = detector_predictions[\"labels\"]\n",
        "        probabilities = detector_predictions[\"scores\"]\n",
        "\n",
        "        bird_here = (inst_classes.index(\"bird\") in labels)\n",
        "\n",
        "        # drop uninformative boxes\n",
        "        boxes, labels = self.__drop_uninformative_boxes(\n",
        "            boxes, \n",
        "            labels, \n",
        "            probabilities,\n",
        "            18,\n",
        "        )\n",
        "\n",
        "        result_of_extract_text = self.__extract_text(path)\n",
        "\n",
        "        persons = [box for box, label in zip(boxes, labels) if label == self.person_label]\n",
        "        for box, label in zip(boxes, labels):\n",
        "            # if is in not in interesting_indices\n",
        "            if not label in self.interesting_indices:\n",
        "                continue\n",
        "\n",
        "            cropped_image = self.__get_cropped_image(picture_torch, box)\n",
        "            cropped_image_not_expanded = self.__get_cropped_image(\n",
        "                picture_torch, box, 1.5\n",
        "            )\n",
        "\n",
        "\n",
        "            cropped_clip = self.preprocess_clip(\n",
        "                torchvision.transforms.ToPILImage()(cropped_image[0])\n",
        "            ).unsqueeze(0).to(self.device)\n",
        "\n",
        "            cropped_clip_not_expanded = self.preprocess_clip(\n",
        "                torchvision.transforms.ToPILImage()(cropped_image_not_expanded[0])\n",
        "            ).unsqueeze(0).to(self.device)\n",
        "\n",
        "            # draw_pic_with_rect(cropped_image_not_expanded, [], [])\n",
        "            # logits_per_image, logits_per_text = model(cropped_clip_not_expanded, self.tokens_animal)\n",
        "            # print(logits_per_image)\n",
        "\n",
        "            # if it is not an animal\n",
        "            if not self.__is_an_animal(cropped_clip_not_expanded):\n",
        "                continue\n",
        "\n",
        "            # get features of a dog\n",
        "            if self.__is_a_dog(cropped_clip):\n",
        "                features.append(self.__get_features(\n",
        "                    cropped_clip, \n",
        "                    box, \n",
        "                    persons, \n",
        "                    result_of_extract_text,\n",
        "                    path\n",
        "                ))\n",
        "            else:\n",
        "                features.append(self.__not_a_dog(\n",
        "                    result_of_extract_text,\n",
        "                    path,\n",
        "                ))\n",
        "\n",
        "        if len(features) == 0 and bird_here:\n",
        "            features.append(self.__not_a_dog(\n",
        "                result_of_extract_text,\n",
        "                path,\n",
        "            ))\n",
        "\n",
        "        if len(features) == 0:\n",
        "            features.append(self.__empty(\n",
        "                result_of_extract_text,\n",
        "                path,\n",
        "            ))\n",
        "\n",
        "        return self.__choose_answer(features)\n",
        "        # return features\n",
        "\n",
        "\n",
        "find_lost_animal = FindLostAnimal(model_detection, \n",
        "               model, \n",
        "               preprocess, \n",
        "               None, \n",
        "               interensting_indices, \n",
        "               animals, \n",
        "               0, \n",
        "               is_dog, \n",
        "               0, \n",
        "               list(converter_tail.keys()), \n",
        "               list(converter_color.keys()),\n",
        "               converter_tail,\n",
        "               converter_color,\n",
        "               1,\n",
        "               \"cuda\",\n",
        "               )\n",
        "\n",
        "result = find_lost_animal(\"/content/Тестовые снимки/Только собаки/ТЕМНЫЙ ДЛИННЫЙ/B111.jpg\")\n",
        "for res in result:\n",
        "    print(res.res)"
      ],
      "execution_count": 343,
      "outputs": [
        {
          "output_type": "error",
          "ename": "TypeError",
          "evalue": "ignored",
          "traceback": [
            "\u001b[0;31m---------------------------------------------------------------------------\u001b[0m",
            "\u001b[0;31mTypeError\u001b[0m                                 Traceback (most recent call last)",
            "\u001b[0;32m<ipython-input-343-9143a10bde44>\u001b[0m in \u001b[0;36m<module>\u001b[0;34m()\u001b[0m\n\u001b[1;32m    307\u001b[0m \u001b[0;34m\u001b[0m\u001b[0m\n\u001b[1;32m    308\u001b[0m \u001b[0mresult\u001b[0m \u001b[0;34m=\u001b[0m \u001b[0mfind_lost_animal\u001b[0m\u001b[0;34m(\u001b[0m\u001b[0;34m\"/content/Тестовые снимки/Только собаки/ТЕМНЫЙ ДЛИННЫЙ/B111.jpg\"\u001b[0m\u001b[0;34m)\u001b[0m\u001b[0;34m\u001b[0m\u001b[0;34m\u001b[0m\u001b[0m\n\u001b[0;32m--> 309\u001b[0;31m \u001b[0;32mfor\u001b[0m \u001b[0mres\u001b[0m \u001b[0;32min\u001b[0m \u001b[0mresult\u001b[0m\u001b[0;34m:\u001b[0m\u001b[0;34m\u001b[0m\u001b[0;34m\u001b[0m\u001b[0m\n\u001b[0m\u001b[1;32m    310\u001b[0m     \u001b[0mprint\u001b[0m\u001b[0;34m(\u001b[0m\u001b[0mres\u001b[0m\u001b[0;34m.\u001b[0m\u001b[0mres\u001b[0m\u001b[0;34m)\u001b[0m\u001b[0;34m\u001b[0m\u001b[0;34m\u001b[0m\u001b[0m\n",
            "\u001b[0;31mTypeError\u001b[0m: 'ResultType' object is not iterable"
          ]
        }
      ]
    },
    {
      "cell_type": "code",
      "metadata": {
        "colab": {
          "base_uri": "https://localhost:8080/"
        },
        "id": "_7V2yps2UE-u",
        "outputId": "0f529c68-5b1d-447e-d2fb-02a7586d52d8"
      },
      "source": [
        "path_ = \"/content/Тестовые снимки/Хоязин и собака/С60.jpg\"\n",
        "result = find_lost_animal(path_)\n",
        "print(result.res)\n",
        "# for res in result:\n",
        "#     print(res.res)"
      ],
      "execution_count": 344,
      "outputs": [
        {
          "output_type": "stream",
          "name": "stdout",
          "text": [
            "{'filename': 'С60.jpg', 'is_animal_there': 1, 'is_it_a_dog': 1, 'is_the_owner_there': 1, 'color': 1, 'breed': 'a labrador', 'tail': 2, 'address': \"P'¥N_hd_TSAO_3647_1\", 'cam_id': None, 'date': None}\n"
          ]
        }
      ]
    },
    {
      "cell_type": "code",
      "metadata": {
        "id": "dh4A2TwJ7qzu"
      },
      "source": [
        "import pandas as pd"
      ],
      "execution_count": 192,
      "outputs": []
    },
    {
      "cell_type": "code",
      "metadata": {
        "colab": {
          "base_uri": "https://localhost:8080/"
        },
        "id": "age6peyL8TVa",
        "outputId": "0de7c532-8b7e-4e6c-ff57-2daf983d5ff4"
      },
      "source": [
        "empty_result = []\n",
        "path_to_dir = \"/content/Тестовые снимки/Пустые\"\n",
        "for image_name in tqdm(os.listdir(path_to_dir)):\n",
        "    path_to_pic = os.path.join(path_to_dir, image_name)\n",
        "    empty_result.append(\n",
        "        find_lost_animal(path_to_pic).res\n",
        "    )"
      ],
      "execution_count": 321,
      "outputs": [
        {
          "output_type": "stream",
          "name": "stderr",
          "text": [
            "100%|██████████| 48/48 [01:39<00:00,  2.08s/it]\n"
          ]
        }
      ]
    },
    {
      "cell_type": "code",
      "metadata": {
        "id": "wWk6cUdKNhRX"
      },
      "source": [
        "print(*empty_result, sep=\"\\n\")"
      ],
      "execution_count": null,
      "outputs": []
    },
    {
      "cell_type": "code",
      "metadata": {
        "colab": {
          "base_uri": "https://localhost:8080/"
        },
        "id": "rrXld99tOS_k",
        "outputId": "796ebfea-403a-4a02-9a71-cd356a49ad5d"
      },
      "source": [
        "_cnt = 0\n",
        "for res in empty_result:\n",
        "    _cnt += res[\"is_animal_there\"]\n",
        "\n",
        "print(_cnt / len(empty_result))"
      ],
      "execution_count": 323,
      "outputs": [
        {
          "output_type": "stream",
          "name": "stdout",
          "text": [
            "0.16666666666666666\n"
          ]
        }
      ]
    },
    {
      "cell_type": "code",
      "metadata": {
        "id": "PguuDpt2NcPG"
      },
      "source": [
        "empty_result_copy = deepcopy(empty_result)"
      ],
      "execution_count": 324,
      "outputs": []
    },
    {
      "cell_type": "code",
      "metadata": {
        "id": "GpmbISYP_PtC"
      },
      "source": [
        "only_dogs = []"
      ],
      "execution_count": 326,
      "outputs": []
    },
    {
      "cell_type": "code",
      "metadata": {
        "colab": {
          "base_uri": "https://localhost:8080/"
        },
        "id": "KcOgDGAf-PtX",
        "outputId": "35598fab-cbfa-4a71-e7a7-88172be096dc"
      },
      "source": [
        "path_to_dir = \"/content/Тестовые снимки/Только собаки\"\n",
        "for directory in os.listdir(path_to_dir):\n",
        "    for image_name in tqdm(os.listdir(os.path.join(path_to_dir, directory))):\n",
        "        path_to_pic = os.path.join(path_to_dir, directory, image_name)\n",
        "        try:\n",
        "            only_dogs.append(\n",
        "                find_lost_animal(path_to_pic).res\n",
        "            )\n",
        "        except Exception:\n",
        "            print(\"fucking fuck!!!\")"
      ],
      "execution_count": 349,
      "outputs": [
        {
          "output_type": "stream",
          "name": "stderr",
          "text": [
            "100%|██████████| 24/24 [00:56<00:00,  2.34s/it]\n",
            " 14%|█▍        | 4/29 [00:11<01:06,  2.66s/it]"
          ]
        },
        {
          "output_type": "stream",
          "name": "stdout",
          "text": [
            "fucking fuck!!!\n"
          ]
        },
        {
          "output_type": "stream",
          "name": "stderr",
          "text": [
            " 66%|██████▌   | 19/29 [00:43<00:29,  2.96s/it]"
          ]
        },
        {
          "output_type": "stream",
          "name": "stdout",
          "text": [
            "fucking fuck!!!\n"
          ]
        },
        {
          "output_type": "stream",
          "name": "stderr",
          "text": [
            "100%|██████████| 29/29 [00:58<00:00,  2.01s/it]\n",
            " 19%|█▉        | 7/37 [00:16<01:04,  2.15s/it]"
          ]
        },
        {
          "output_type": "stream",
          "name": "stdout",
          "text": [
            "fucking fuck!!!\n"
          ]
        },
        {
          "output_type": "stream",
          "name": "stderr",
          "text": [
            " 46%|████▌     | 17/37 [00:35<00:50,  2.55s/it]"
          ]
        },
        {
          "output_type": "stream",
          "name": "stdout",
          "text": [
            "fucking fuck!!!\n"
          ]
        },
        {
          "output_type": "stream",
          "name": "stderr",
          "text": [
            "\r 51%|█████▏    | 19/37 [00:37<00:32,  1.81s/it]"
          ]
        },
        {
          "output_type": "stream",
          "name": "stdout",
          "text": [
            "fucking fuck!!!\n"
          ]
        },
        {
          "output_type": "stream",
          "name": "stderr",
          "text": [
            " 62%|██████▏   | 23/37 [00:42<00:23,  1.68s/it]"
          ]
        },
        {
          "output_type": "stream",
          "name": "stdout",
          "text": [
            "fucking fuck!!!\n"
          ]
        },
        {
          "output_type": "stream",
          "name": "stderr",
          "text": [
            " 73%|███████▎  | 27/37 [00:48<00:16,  1.67s/it]"
          ]
        },
        {
          "output_type": "stream",
          "name": "stdout",
          "text": [
            "fucking fuck!!!\n"
          ]
        },
        {
          "output_type": "stream",
          "name": "stderr",
          "text": [
            "100%|██████████| 37/37 [01:08<00:00,  1.85s/it]\n",
            "  7%|▋         | 2/30 [00:04<01:01,  2.19s/it]"
          ]
        },
        {
          "output_type": "stream",
          "name": "stdout",
          "text": [
            "fucking fuck!!!\n"
          ]
        },
        {
          "output_type": "stream",
          "name": "stderr",
          "text": [
            " 83%|████████▎ | 25/30 [00:53<00:09,  1.93s/it]"
          ]
        },
        {
          "output_type": "stream",
          "name": "stdout",
          "text": [
            "fucking fuck!!!\n"
          ]
        },
        {
          "output_type": "stream",
          "name": "stderr",
          "text": [
            "100%|██████████| 30/30 [00:56<00:00,  1.90s/it]\n",
            "100%|██████████| 29/29 [01:10<00:00,  2.44s/it]\n",
            "100%|██████████| 31/31 [01:17<00:00,  2.50s/it]\n"
          ]
        }
      ]
    },
    {
      "cell_type": "code",
      "metadata": {
        "id": "uXJlZHLAWAPQ"
      },
      "source": [
        "only_dogs_copy = deepcopy(only_dogs)"
      ],
      "execution_count": 353,
      "outputs": []
    },
    {
      "cell_type": "code",
      "metadata": {
        "colab": {
          "base_uri": "https://localhost:8080/"
        },
        "id": "5UFt_rgABc73",
        "outputId": "00d1e28f-1cc1-4086-fd16-814ad6f0280a"
      },
      "source": [
        "print(*only_dogs, sep=\"\\n\")"
      ],
      "execution_count": 350,
      "outputs": [
        {
          "output_type": "stream",
          "name": "stdout",
          "text": [
            "{'filename': 'А98.jpg', 'is_animal_there': 0, 'is_it_a_dog': 0, 'is_the_owner_there': 0, 'color': 0, 'breed': 0, 'tail': 0, 'address': None, 'cam_id': None, 'date': None}\n",
            "{'filename': 'А30.jpg', 'is_animal_there': 1, 'is_it_a_dog': 0, 'is_the_owner_there': 0, 'color': 0, 'breed': 0, 'tail': 0, 'address': None, 'cam_id': 'ЦМЧ_ЗАО_027_8', 'date': '27 сент. 2021, 08:45:49'}\n",
            "{'filename': 'А49.jpg', 'is_animal_there': 1, 'is_it_a_dog': 1, 'is_the_owner_there': 0, 'color': 1, 'breed': 'a labrador', 'tail': 2, 'address': None, 'cam_id': None, 'date': None}\n",
            "{'filename': 'B19.jpg', 'is_animal_there': 1, 'is_it_a_dog': 1, 'is_the_owner_there': 0, 'color': 1, 'breed': 'a labrador', 'tail': 2, 'address': None, 'cam_id': None, 'date': None}\n",
            "{'filename': 'B111.jpg', 'is_animal_there': 0, 'is_it_a_dog': 0, 'is_the_owner_there': 0, 'color': 0, 'breed': 0, 'tail': 0, 'address': None, 'cam_id': None, 'date': None}\n",
            "{'filename': 'B47.jpg', 'is_animal_there': 0, 'is_it_a_dog': 0, 'is_the_owner_there': 0, 'color': 0, 'breed': 0, 'tail': 0, 'address': 'СВАО улица Корнейчука, дом 414', 'cam_id': None, 'date': '28 сент. 2021, 08:58:08'}\n",
            "{'filename': 'А5.jpg', 'is_animal_there': 1, 'is_it_a_dog': 1, 'is_the_owner_there': 1, 'color': 1, 'breed': 'a rottweiler', 'tail': 1, 'address': \"P'VN_hd_SZAO_36_3\", 'cam_id': None, 'date': None}\n",
            "{'filename': 'B119.jpg', 'is_animal_there': 0, 'is_it_a_dog': 0, 'is_the_owner_there': 0, 'color': 0, 'breed': 0, 'tail': 0, 'address': None, 'cam_id': None, 'date': None}\n",
            "{'filename': 'B89.jpg', 'is_animal_there': 1, 'is_it_a_dog': 1, 'is_the_owner_there': 1, 'color': 2, 'breed': 'a chihuahua', 'tail': 1, 'address': \"P'¥N_hd_SVAO_3055_1\", 'cam_id': 'СВАО проспект Мира, дом 182, корпус 3', 'date': '05 окт. 2021, 09:05:51'}\n",
            "{'filename': 'А6.jpg', 'is_animal_there': 1, 'is_it_a_dog': 1, 'is_the_owner_there': 1, 'color': 1, 'breed': 'a border collie', 'tail': 2, 'address': None, 'cam_id': None, 'date': None}\n",
            "{'filename': 'С59.jpg', 'is_animal_there': 0, 'is_it_a_dog': 0, 'is_the_owner_there': 0, 'color': 0, 'breed': 0, 'tail': 0, 'address': None, 'cam_id': \"P'¥N_hd_TSAO_3647_1\", 'date': None}\n",
            "{'filename': 'А48.jpg', 'is_animal_there': 0, 'is_it_a_dog': 0, 'is_the_owner_there': 0, 'color': 0, 'breed': 0, 'tail': 0, 'address': 'ЮЗАО улицайкадемика Варги, дом 28', 'cam_id': \"P'¥N_hd_UZAO_1100_15\", 'date': '04 окт. 2021, 07:11:58'}\n",
            "{'filename': 'А25.jpg', 'is_animal_there': 1, 'is_it_a_dog': 0, 'is_the_owner_there': 0, 'color': 0, 'breed': 0, 'tail': 0, 'address': 'САО Ленинградский проспект, дом 35', 'cam_id': 'УММ_5АО_027_8', 'date': None}\n",
            "{'filename': 'А1.jpg', 'is_animal_there': 1, 'is_it_a_dog': 0, 'is_the_owner_there': 0, 'color': 0, 'breed': 0, 'tail': 0, 'address': None, 'cam_id': \"P'VN_hd_SZAO_36_3\", 'date': None}\n",
            "{'filename': 'B50.jpg', 'is_animal_there': 0, 'is_it_a_dog': 0, 'is_the_owner_there': 0, 'color': 0, 'breed': 0, 'tail': 0, 'address': 'СВАО улица Корнейчука, дом 414', 'cam_id': None, 'date': '28 сент. 2021, 17:52:19'}\n",
            "{'filename': 'B17.jpg', 'is_animal_there': 1, 'is_it_a_dog': 1, 'is_the_owner_there': 0, 'color': 1, 'breed': 'a german shepherd', 'tail': 2, 'address': \"P'¥N_hd_SVAO_3055_1\", 'cam_id': 'СВАО проспект Мира, дом 182, корпус 3', 'date': '05 окт. 2021, 08:38:15'}\n",
            "{'filename': 'С102.jpg', 'is_animal_there': 0, 'is_it_a_dog': 0, 'is_the_owner_there': 0, 'color': 0, 'breed': 0, 'tail': 0, 'address': None, 'cam_id': None, 'date': None}\n",
            "{'filename': 'B5.jpg', 'is_animal_there': 1, 'is_it_a_dog': 0, 'is_the_owner_there': 0, 'color': 0, 'breed': 0, 'tail': 0, 'address': 'СВАО Новоалексеевская улица, дом 5А', 'cam_id': \"P'¥N_hd_SVAO_3040_1\", 'date': None}\n",
            "{'filename': 'С61.jpg', 'is_animal_there': 1, 'is_it_a_dog': 1, 'is_the_owner_there': 0, 'color': 1, 'breed': 'a chihuahua', 'tail': 1, 'address': \"P'V¥N_hd_TSAO_3647_1\", 'cam_id': None, 'date': None}\n",
            "{'filename': 'B30.jpg', 'is_animal_there': 1, 'is_it_a_dog': 1, 'is_the_owner_there': 0, 'color': 1, 'breed': 'a german shepherd', 'tail': 2, 'address': 'PVN_hd_SVAQ_3426_1', 'cam_id': 'СВАО Мелиховская улица, дом 2', 'date': '28 сент. 2021, 17:00:11'}\n",
            "{'filename': 'B10.jpg', 'is_animal_there': 1, 'is_it_a_dog': 1, 'is_the_owner_there': 0, 'color': 3, 'breed': 'a labrador', 'tail': 2, 'address': \"P'¥N_hd_SVAO_1652_1\", 'cam_id': 'СВАО улица Академика Королёва, дом 28, кор', 'date': '28 сент. 2021, 17:39:11'}\n",
            "{'filename': 'А38.jpg', 'is_animal_there': 0, 'is_it_a_dog': 0, 'is_the_owner_there': 0, 'color': 0, 'breed': 0, 'tail': 0, 'address': None, 'cam_id': None, 'date': None}\n",
            "{'filename': 'B9.jpg', 'is_animal_there': 1, 'is_it_a_dog': 0, 'is_the_owner_there': 0, 'color': 0, 'breed': 0, 'tail': 0, 'address': 'СВАО Новоалексеевская улица, дом 5А', 'cam_id': \"P'¥N_hd_SVAO_3040_1\", 'date': '05 я 2021, 07:31:47'}\n",
            "{'filename': 'B92.jpg', 'is_animal_there': 1, 'is_it_a_dog': 1, 'is_the_owner_there': 1, 'color': 2, 'breed': 'a german shepherd', 'tail': 2, 'address': 'PVN_hd_SVAQ_3087_5', 'cam_id': 'СВАО улица Бориса Галушкина, дом 25', 'date': '05 окт. 2021, 08:54:16'}\n",
            "{'filename': 'С54.jpg', 'is_animal_there': 1, 'is_it_a_dog': 1, 'is_the_owner_there': 1, 'color': 2, 'breed': 'a dachshund', 'tail': 1, 'address': None, 'cam_id': None, 'date': None}\n",
            "{'filename': 'B51.jpg', 'is_animal_there': 1, 'is_it_a_dog': 1, 'is_the_owner_there': 1, 'color': 3, 'breed': 'a chihuahua', 'tail': 1, 'address': \"P'¥N_hd_SVAO_3040_1\", 'cam_id': 'СВАО Новоалексеевская улица, дом 5А', 'date': '05 окт. 2021, 08:03:53'}\n",
            "{'filename': 'B120.jpg', 'is_animal_there': 1, 'is_it_a_dog': 1, 'is_the_owner_there': 1, 'color': 3, 'breed': 'a pug', 'tail': 1, 'address': None, 'cam_id': None, 'date': None}\n",
            "{'filename': 'B77.jpg', 'is_animal_there': 0, 'is_it_a_dog': 0, 'is_the_owner_there': 0, 'color': 0, 'breed': 0, 'tail': 0, 'address': 'ЦАО Верхняя Сыромятническая улица, дом 2', 'cam_id': 'PVN_hd_TSAO_5300_3', 'date': '28 сент. 2021, 17:26:53'}\n",
            "{'filename': 'B80.jpg', 'is_animal_there': 0, 'is_it_a_dog': 0, 'is_the_owner_there': 0, 'color': 0, 'breed': 0, 'tail': 0, 'address': 'СВАО улица Бориса Галушкина, дом 18', 'cam_id': \"P'V¥N_hd_SVAO_3081_5\", 'date': '05 окт. 2021, 07:49:37'}\n",
            "{'filename': 'B112.jpg', 'is_animal_there': 0, 'is_it_a_dog': 0, 'is_the_owner_there': 0, 'color': 0, 'breed': 0, 'tail': 0, 'address': None, 'cam_id': None, 'date': None}\n",
            "{'filename': 'B53.jpg', 'is_animal_there': 0, 'is_it_a_dog': 0, 'is_the_owner_there': 0, 'color': 0, 'breed': 0, 'tail': 0, 'address': 'СВАО улица Корнейчука, дом 414', 'cam_id': None, 'date': '28 сент. 2021, 18:10:53'}\n",
            "{'filename': 'B87.jpg', 'is_animal_there': 1, 'is_it_a_dog': 1, 'is_the_owner_there': 0, 'color': 2, 'breed': 'a chihuahua', 'tail': 1, 'address': 'PVN_hd TSAQ_3766_1', 'cam_id': 'ЦАО 5-й Монетчиковский переулок, дом 13', 'date': 'Е Веки 2021, 17:41:49'}\n",
            "{'filename': 'А39.jpg', 'is_animal_there': 1, 'is_it_a_dog': 1, 'is_the_owner_there': 0, 'color': 2, 'breed': 'a husky', 'tail': 2, 'address': None, 'cam_id': None, 'date': None}\n",
            "{'filename': 'B16.jpg', 'is_animal_there': 1, 'is_it_a_dog': 1, 'is_the_owner_there': 0, 'color': 2, 'breed': 'a pug', 'tail': 1, 'address': None, 'cam_id': None, 'date': None}\n",
            "{'filename': 'B107.jpg', 'is_animal_there': 0, 'is_it_a_dog': 0, 'is_the_owner_there': 0, 'color': 0, 'breed': 0, 'tail': 0, 'address': None, 'cam_id': None, 'date': None}\n",
            "{'filename': 'B18.jpg', 'is_animal_there': 1, 'is_it_a_dog': 1, 'is_the_owner_there': 0, 'color': 2, 'breed': 'a pekingese', 'tail': 1, 'address': None, 'cam_id': None, 'date': None}\n",
            "{'filename': 'А94.jpg', 'is_animal_there': 1, 'is_it_a_dog': 0, 'is_the_owner_there': 0, 'color': 0, 'breed': 0, 'tail': 0, 'address': None, 'cam_id': \"P'¥N_hd_UZAO_8352_4\", 'date': '27 сент. 2021, 08:08:57'}\n",
            "{'filename': 'B76.jpg', 'is_animal_there': 1, 'is_it_a_dog': 1, 'is_the_owner_there': 1, 'color': 3, 'breed': 'a pug', 'tail': 1, 'address': \"P'¥N_hd_SVAO_3055_1\", 'cam_id': 'СВАО проспект Мира, дом 182, корпус 3', 'date': '05 окт. 2021, 08:59:49'}\n",
            "{'filename': 'С98.jpg', 'is_animal_there': 0, 'is_it_a_dog': 0, 'is_the_owner_there': 0, 'color': 0, 'breed': 0, 'tail': 0, 'address': 'ЦАО Центросоюзный переулок, дом 4', 'cam_id': 'PVN_hd_TSAO_3647_1', 'date': '01 окт. 2021, 05:51:08'}\n",
            "{'filename': 'B64.jpg', 'is_animal_there': 0, 'is_it_a_dog': 0, 'is_the_owner_there': 0, 'color': 0, 'breed': 0, 'tail': 0, 'address': 'ЦАО Верхняя Сыромятническая улица, дом 2', 'cam_id': 'PVN_hd_TSAO_5300_3', 'date': '28 сент. 2021, 08:20:50'}\n",
            "{'filename': 'А58.jpg', 'is_animal_there': 1, 'is_it_a_dog': 1, 'is_the_owner_there': 0, 'color': 2, 'breed': 'a border collie', 'tail': 2, 'address': 'РУМ_НЯ 7АС_9544_4', 'cam_id': 'ЗАО улица Крылатские Холмы, дом 32, корпус', 'date': '28 сент. 2021, 08:03:19'}\n",
            "{'filename': 'С65.jpg', 'is_animal_there': 1, 'is_it_a_dog': 1, 'is_the_owner_there': 0, 'color': 2, 'breed': 'a jack russell terrier', 'tail': 2, 'address': \"P'V¥N_hd_TSAO_3647_1\", 'cam_id': None, 'date': '29 сент. 2021, 07:20:45'}\n",
            "{'filename': 'С75.jpg', 'is_animal_there': 0, 'is_it_a_dog': 0, 'is_the_owner_there': 0, 'color': 0, 'breed': 0, 'tail': 0, 'address': 'ЮАО 1-й Нижний Михайловский проезд, дом |', 'cam_id': 'PVN_hd_UAO_7270_3', 'date': '29 сент. 2021, 07:38:39'}\n",
            "{'filename': 'С94.jpg', 'is_animal_there': 0, 'is_it_a_dog': 0, 'is_the_owner_there': 0, 'color': 0, 'breed': 0, 'tail': 0, 'address': None, 'cam_id': None, 'date': None}\n",
            "{'filename': 'А55.jpg', 'is_animal_there': 0, 'is_it_a_dog': 0, 'is_the_owner_there': 0, 'color': 0, 'breed': 0, 'tail': 0, 'address': None, 'cam_id': None, 'date': None}\n",
            "{'filename': 'С82.jpg', 'is_animal_there': 1, 'is_it_a_dog': 0, 'is_the_owner_there': 0, 'color': 0, 'breed': 0, 'tail': 0, 'address': 'ВАО улица Преображенский Вал, дом 24, корп', 'cam_id': 'РУМ_НЯ МАО_5390_22', 'date': '29 сент. 2021, 06:39:35'}\n",
            "{'filename': 'С47.jpg', 'is_animal_there': 0, 'is_it_a_dog': 0, 'is_the_owner_there': 0, 'color': 0, 'breed': 0, 'tail': 0, 'address': None, 'cam_id': None, 'date': None}\n",
            "{'filename': 'B75.jpg', 'is_animal_there': 1, 'is_it_a_dog': 1, 'is_the_owner_there': 0, 'color': 2, 'breed': 'a dalmatian', 'tail': 2, 'address': 'РУМ_Га Т$АО_5300_3', 'cam_id': 'ЦАО Верхняя Сыромятническая улица, дом 2', 'date': '28 сент. 2021, 10:33:49'}\n",
            "{'filename': 'С55.jpg', 'is_animal_there': 0, 'is_it_a_dog': 0, 'is_the_owner_there': 0, 'color': 0, 'breed': 0, 'tail': 0, 'address': 'САО Левобережная улица, дом 4, корпус 12', 'cam_id': \"P'V¥N_hd_SAO_6159_54\", 'date': '29 сент. 2021. 07:13:55'}\n",
            "{'filename': 'B74.jpg', 'is_animal_there': 1, 'is_it_a_dog': 1, 'is_the_owner_there': 0, 'color': 3, 'breed': 'a pekingese', 'tail': 1, 'address': None, 'cam_id': None, 'date': None}\n",
            "{'filename': 'С81.jpg', 'is_animal_there': 1, 'is_it_a_dog': 0, 'is_the_owner_there': 0, 'color': 0, 'breed': 0, 'tail': 0, 'address': 'ВАО улица Преображенский Вал, дом 24, корп', 'cam_id': 'РУМ_НЯ МАО_5390_22', 'date': '29 сент. 2021, 06:39:31'}\n",
            "{'filename': 'B49.jpg', 'is_animal_there': 1, 'is_it_a_dog': 1, 'is_the_owner_there': 0, 'color': 2, 'breed': 'a chihuahua', 'tail': 1, 'address': \"P'¥N_hd_SVAO_3040_1\", 'cam_id': 'СВАО Новоалексеевская улица, дом 5А', 'date': None}\n",
            "{'filename': 'С103.jpg', 'is_animal_there': 0, 'is_it_a_dog': 0, 'is_the_owner_there': 0, 'color': 0, 'breed': 0, 'tail': 0, 'address': None, 'cam_id': None, 'date': None}\n",
            "{'filename': 'А62.jpg', 'is_animal_there': 0, 'is_it_a_dog': 0, 'is_the_owner_there': 0, 'color': 0, 'breed': 0, 'tail': 0, 'address': 'ЗАО улица Крылатские Холмы, дом 32, корпус', 'cam_id': None, 'date': '28 сент. 2021, 07:28:59'}\n",
            "{'filename': 'А20.jpg', 'is_animal_there': 1, 'is_it_a_dog': 1, 'is_the_owner_there': 0, 'color': 2, 'breed': 'a poodle', 'tail': 1, 'address': 'ЦМЧ_ЗАО_027_7', 'cam_id': 'САО Ленинградский проспект, дом 35', 'date': '27 сент. 2021, 06:48:08'}\n",
            "{'filename': 'А12.jpg', 'is_animal_there': 0, 'is_it_a_dog': 0, 'is_the_owner_there': 0, 'color': 0, 'breed': 0, 'tail': 0, 'address': 'САО Ленинградский проспект, дом 35', 'cam_id': 'УММ_$АО_027_2', 'date': '27 сент. 2021, 06:44:47'}\n",
            "{'filename': 'С80.jpg', 'is_animal_there': 0, 'is_it_a_dog': 0, 'is_the_owner_there': 0, 'color': 0, 'breed': 0, 'tail': 0, 'address': 'САО Ленинградское шоссе, дом 35', 'cam_id': 'P¥N_hd_SAGQ_2_7228_1', 'date': 'ОБ окт. 2021, 07:13:48'}\n",
            "{'filename': 'B93.jpg', 'is_animal_there': 0, 'is_it_a_dog': 0, 'is_the_owner_there': 0, 'color': 0, 'breed': 0, 'tail': 0, 'address': 'СВАО проезд Черского, дом 5', 'cam_id': \"P'¥N_hd_SVAO_1325_1\", 'date': 'Ди 2021. 17:23:46'}\n",
            "{'filename': 'B48.jpg', 'is_animal_there': 1, 'is_it_a_dog': 1, 'is_the_owner_there': 0, 'color': 3, 'breed': 'a cocker spaniel', 'tail': 1, 'address': None, 'cam_id': None, 'date': None}\n",
            "{'filename': 'А78.jpg', 'is_animal_there': 1, 'is_it_a_dog': 1, 'is_the_owner_there': 0, 'color': 2, 'breed': 'a husky', 'tail': 2, 'address': None, 'cam_id': None, 'date': None}\n",
            "{'filename': 'С40.jpg', 'is_animal_there': 0, 'is_it_a_dog': 0, 'is_the_owner_there': 0, 'color': 0, 'breed': 0, 'tail': 0, 'address': 'ЮАО 1-й Нижний Михайловский проезд, дом |', 'cam_id': \"P'¥N_hd_UAG_7270_3\", 'date': 'Fa | ue 2021, 06:51:06'}\n",
            "{'filename': 'А66.jpg', 'is_animal_there': 1, 'is_it_a_dog': 1, 'is_the_owner_there': 0, 'color': 2, 'breed': 'a dalmatian', 'tail': 2, 'address': None, 'cam_id': None, 'date': None}\n",
            "{'filename': 'А97.jpg', 'is_animal_there': 1, 'is_it_a_dog': 0, 'is_the_owner_there': 0, 'color': 0, 'breed': 0, 'tail': 0, 'address': None, 'cam_id': \"P'¥N_hd_UZAO_8352_4\", 'date': '27 сент. 2021, 07:44:59'}\n",
            "{'filename': 'С35.jpg', 'is_animal_there': 1, 'is_it_a_dog': 1, 'is_the_owner_there': 1, 'color': 3, 'breed': 'a newfoundland', 'tail': 2, 'address': None, 'cam_id': None, 'date': None}\n",
            "{'filename': 'B104.jpg', 'is_animal_there': 0, 'is_it_a_dog': 0, 'is_the_owner_there': 0, 'color': 0, 'breed': 0, 'tail': 0, 'address': 'СВАО проспект Мира, дом 182, корпус 3', 'cam_id': \"P'¥N_hd_SVAO_3055_1\", 'date': '05 окт. 2021, 08:58:46'}\n",
            "{'filename': 'B54.jpg', 'is_animal_there': 1, 'is_it_a_dog': 1, 'is_the_owner_there': 1, 'color': 2, 'breed': 'a samoyed', 'tail': 2, 'address': \"P'¥N_hd_SVAO_3055_1\", 'cam_id': 'СВАО проспект Мира, дом 182, корпус 3', 'date': '05 okt. 2021, 08:43:16'}\n",
            "{'filename': 'B118.jpg', 'is_animal_there': 1, 'is_it_a_dog': 1, 'is_the_owner_there': 1, 'color': 2, 'breed': 'a pekingese', 'tail': 1, 'address': None, 'cam_id': None, 'date': None}\n",
            "{'filename': 'С90.jpg', 'is_animal_there': 1, 'is_it_a_dog': 0, 'is_the_owner_there': 0, 'color': 0, 'breed': 0, 'tail': 0, 'address': 'САО Левобережная улица, дом 4, корпус 12', 'cam_id': \"P'¥N_hd_SAO_6159_54\", 'date': '01 окт. 2021, 05:35:31'}\n",
            "{'filename': 'С21.jpg', 'is_animal_there': 0, 'is_it_a_dog': 0, 'is_the_owner_there': 0, 'color': 0, 'breed': 0, 'tail': 0, 'address': None, 'cam_id': None, 'date': None}\n",
            "{'filename': 'А3.jpg', 'is_animal_there': 0, 'is_it_a_dog': 0, 'is_the_owner_there': 0, 'color': 0, 'breed': 0, 'tail': 0, 'address': 'СЗАО улица Свободы, дом 3', 'cam_id': \"P'VN_hd_SZAO_36_3\", 'date': '27 сент. 2021, 06:53:53'}\n",
            "{'filename': 'B40.jpg', 'is_animal_there': 1, 'is_it_a_dog': 1, 'is_the_owner_there': 1, 'color': 2, 'breed': 'a golden retriever', 'tail': 2, 'address': None, 'cam_id': 'СВАО улица Корнейчука, дом 414', 'date': '28 сент. 2021, 07:41:21'}\n",
            "{'filename': 'С67.jpg', 'is_animal_there': 0, 'is_it_a_dog': 0, 'is_the_owner_there': 0, 'color': 0, 'breed': 0, 'tail': 0, 'address': 'САО 1-й Амбулаторный проезд, дом 7, корпус', 'cam_id': \"P'V¥N_hd_SAGQ_2559_3\", 'date': '29 сент. 2021. 07:20:50'}\n",
            "{'filename': 'С34.jpg', 'is_animal_there': 0, 'is_it_a_dog': 0, 'is_the_owner_there': 0, 'color': 0, 'breed': 0, 'tail': 0, 'address': None, 'cam_id': None, 'date': None}\n",
            "{'filename': 'B4.jpg', 'is_animal_there': 1, 'is_it_a_dog': 1, 'is_the_owner_there': 0, 'color': 2, 'breed': 'a chihuahua', 'tail': 1, 'address': None, 'cam_id': None, 'date': None}\n",
            "{'filename': 'B14.jpg', 'is_animal_there': 1, 'is_it_a_dog': 1, 'is_the_owner_there': 0, 'color': 2, 'breed': 'a pug', 'tail': 1, 'address': None, 'cam_id': None, 'date': None}\n",
            "{'filename': 'B71.jpg', 'is_animal_there': 1, 'is_it_a_dog': 1, 'is_the_owner_there': 0, 'color': 2, 'breed': 'a labrador', 'tail': 2, 'address': 'PVN_hd_TSAO_5300_3', 'cam_id': 'ЦАО Верхняя Сыромятническая улица, дом 2', 'date': '28 сент. 2021, 09:58:44'}\n",
            "{'filename': 'B2.jpg', 'is_animal_there': 1, 'is_it_a_dog': 1, 'is_the_owner_there': 0, 'color': 2, 'breed': 'a borzoi', 'tail': 2, 'address': \"P'¥N_hd_SVAO_1652_1\", 'cam_id': 'СВАО улица Академика Королёва, дом 28, кор', 'date': '28 сент. 2021, 07:12:05'}\n",
            "{'filename': 'B110.jpg', 'is_animal_there': 0, 'is_it_a_dog': 0, 'is_the_owner_there': 0, 'color': 0, 'breed': 0, 'tail': 0, 'address': 'СВАО улица Бориса Галушкина, дом 25', 'cam_id': 'PVN_hd_SVAQ_3087_5', 'date': '05 окт. 2021, 08:42:49'}\n",
            "{'filename': 'А50.jpg', 'is_animal_there': 1, 'is_it_a_dog': 0, 'is_the_owner_there': 0, 'color': 0, 'breed': 0, 'tail': 0, 'address': 'ЦАО Шелепихинская набережная, дом 22', 'cam_id': \"P'V¥N_hd_TSAO_4915_2\", 'date': '28 сент. 2021, 07:30:48'}\n",
            "{'filename': 'B36.jpg', 'is_animal_there': 1, 'is_it_a_dog': 1, 'is_the_owner_there': 0, 'color': 2, 'breed': 'a pekingese', 'tail': 1, 'address': None, 'cam_id': 'СВАО улица Корнейчука, дом 414', 'date': '28 сент. 2021, 07:19:00'}\n",
            "{'filename': 'С42.jpg', 'is_animal_there': 0, 'is_it_a_dog': 0, 'is_the_owner_there': 0, 'color': 0, 'breed': 0, 'tail': 0, 'address': 'САО Левобережная улица, дом 4, корпус 12', 'cam_id': \"P'V¥N_hd_SAO_6159_54\", 'date': '29 сент. 2021, 06:56:27'}\n",
            "{'filename': 'А19.jpg', 'is_animal_there': 1, 'is_it_a_dog': 0, 'is_the_owner_there': 0, 'color': 0, 'breed': 0, 'tail': 0, 'address': None, 'cam_id': None, 'date': None}\n",
            "{'filename': 'А7.jpg', 'is_animal_there': 1, 'is_it_a_dog': 0, 'is_the_owner_there': 0, 'color': 0, 'breed': 0, 'tail': 0, 'address': None, 'cam_id': None, 'date': None}\n",
            "{'filename': 'B66.jpg', 'is_animal_there': 1, 'is_it_a_dog': 0, 'is_the_owner_there': 0, 'color': 0, 'breed': 0, 'tail': 0, 'address': 'ЦАО Верхняя Сыромятническая улица, дом 2', 'cam_id': 'PVN_hd_TSAO_5300_3', 'date': '28 сент. 2021, 08:31:26'}\n",
            "{'filename': 'B20.jpg', 'is_animal_there': 1, 'is_it_a_dog': 0, 'is_the_owner_there': 0, 'color': 0, 'breed': 0, 'tail': 0, 'address': 'СВАО Мелиховская улица, дом 2', 'cam_id': \"P'¥N_hd_SVAO_3426_1\", 'date': '28 сент. 2021, 08:03:22'}\n",
            "{'filename': 'А93.jpg', 'is_animal_there': 1, 'is_it_a_dog': 0, 'is_the_owner_there': 0, 'color': 0, 'breed': 0, 'tail': 0, 'address': None, 'cam_id': None, 'date': None}\n",
            "{'filename': 'B24.jpg', 'is_animal_there': 1, 'is_it_a_dog': 1, 'is_the_owner_there': 0, 'color': 3, 'breed': 'a chihuahua', 'tail': 1, 'address': None, 'cam_id': None, 'date': None}\n",
            "{'filename': 'B102.jpg', 'is_animal_there': 1, 'is_it_a_dog': 0, 'is_the_owner_there': 0, 'color': 0, 'breed': 0, 'tail': 0, 'address': None, 'cam_id': None, 'date': None}\n",
            "{'filename': 'С64.jpg', 'is_animal_there': 1, 'is_it_a_dog': 1, 'is_the_owner_there': 0, 'color': 3, 'breed': 'a dachshund', 'tail': 1, 'address': \"P'¥N_hd_TSAO_3647_1\", 'cam_id': None, 'date': None}\n",
            "{'filename': 'B23.jpg', 'is_animal_there': 1, 'is_it_a_dog': 1, 'is_the_owner_there': 0, 'color': 3, 'breed': 'a dachshund', 'tail': 1, 'address': None, 'cam_id': None, 'date': None}\n",
            "{'filename': 'B32.jpg', 'is_animal_there': 1, 'is_it_a_dog': 1, 'is_the_owner_there': 0, 'color': 1, 'breed': 'a doberman', 'tail': 1, 'address': \"P'¥N_hd_SVAO_3040_1\", 'cam_id': 'СВАО Новоалексеевская улица, дом 5А', 'date': 'es ae 2021. 08:21:45'}\n",
            "{'filename': 'B37.jpg', 'is_animal_there': 0, 'is_it_a_dog': 0, 'is_the_owner_there': 0, 'color': 0, 'breed': 0, 'tail': 0, 'address': None, 'cam_id': 'P¥N_hd_SVAO_3498 4', 'date': '28 сент. 2021, 07:27:05'}\n",
            "{'filename': 'А16.jpg', 'is_animal_there': 1, 'is_it_a_dog': 0, 'is_the_owner_there': 0, 'color': 0, 'breed': 0, 'tail': 0, 'address': 'САО Ленинградский проспект, дом 35', 'cam_id': 'УММ_$5АО_027_7', 'date': '27 сент. 2021, 09:09:05'}\n",
            "{'filename': 'С89.jpg', 'is_animal_there': 1, 'is_it_a_dog': 1, 'is_the_owner_there': 0, 'color': 1, 'breed': 'a toy terrier', 'tail': 1, 'address': \"P'V¥N_hd_TSAO_3647_1\", 'cam_id': None, 'date': None}\n",
            "{'filename': 'B41.jpg', 'is_animal_there': 1, 'is_it_a_dog': 1, 'is_the_owner_there': 0, 'color': 1, 'breed': 'a labrador', 'tail': 2, 'address': \"P'¥N_hd_SVAO_3040_1\", 'cam_id': 'СВАО Новоалексеевская улица, дом 5А', 'date': '05 окт. 2021, 08:14:29'}\n",
            "{'filename': 'А82.jpg', 'is_animal_there': 0, 'is_it_a_dog': 0, 'is_the_owner_there': 0, 'color': 0, 'breed': 0, 'tail': 0, 'address': None, 'cam_id': None, 'date': None}\n",
            "{'filename': 'С96.jpg', 'is_animal_there': 1, 'is_it_a_dog': 0, 'is_the_owner_there': 0, 'color': 0, 'breed': 0, 'tail': 0, 'address': 'ЦАО Центросоюзный переулок, дом 4', 'cam_id': 'PVN_hd_TSAO_3647_1', 'date': '01 окт. 2021, 05:50:13'}\n",
            "{'filename': 'B39.jpg', 'is_animal_there': 1, 'is_it_a_dog': 1, 'is_the_owner_there': 0, 'color': 1, 'breed': 'a labrador', 'tail': 2, 'address': None, 'cam_id': None, 'date': None}\n",
            "{'filename': 'С27.jpg', 'is_animal_there': 0, 'is_it_a_dog': 0, 'is_the_owner_there': 0, 'color': 0, 'breed': 0, 'tail': 0, 'address': 'ЦАО Центросоюзный переулок, дом 4', 'cam_id': 'PVN_hd_TSAO_3647_1', 'date': '29 сент. 2021, 05:35:02'}\n",
            "{'filename': 'B52.jpg', 'is_animal_there': 1, 'is_it_a_dog': 1, 'is_the_owner_there': 1, 'color': 1, 'breed': 'a labrador', 'tail': 2, 'address': None, 'cam_id': 'СВАО улица Корнейчука, дом 414', 'date': '28 сент. 2021, 18:08:01'}\n",
            "{'filename': 'B103.jpg', 'is_animal_there': 0, 'is_it_a_dog': 0, 'is_the_owner_there': 0, 'color': 0, 'breed': 0, 'tail': 0, 'address': 'ЮЗАО улица Академика Семёнова, дом 3', 'cam_id': 'PVN_hd_UZAQ_8740_4', 'date': None}\n",
            "{'filename': 'B78.jpg', 'is_animal_there': 1, 'is_it_a_dog': 0, 'is_the_owner_there': 0, 'color': 0, 'breed': 0, 'tail': 0, 'address': None, 'cam_id': None, 'date': None}\n",
            "{'filename': 'B101.jpg', 'is_animal_there': 0, 'is_it_a_dog': 0, 'is_the_owner_there': 0, 'color': 0, 'breed': 0, 'tail': 0, 'address': None, 'cam_id': 'РУМЧ_В9 ЦУАО_8772_3', 'date': '27 сент. 2021, 17:26:11'}\n",
            "{'filename': 'B90.jpg', 'is_animal_there': 0, 'is_it_a_dog': 0, 'is_the_owner_there': 0, 'color': 0, 'breed': 0, 'tail': 0, 'address': None, 'cam_id': None, 'date': '27 сент. 2021, 07:11:36'}\n",
            "{'filename': 'А36.jpg', 'is_animal_there': 1, 'is_it_a_dog': 1, 'is_the_owner_there': 0, 'color': 3, 'breed': 'a chihuahua', 'tail': 1, 'address': \"P'¥N_hd_SZA0_5745_1\", 'cam_id': 'СЗАО улица Исаковского, дом 28, корпус 1', 'date': '28 сент. 2021, 07:32:05'}\n",
            "{'filename': 'B25.jpg', 'is_animal_there': 0, 'is_it_a_dog': 0, 'is_the_owner_there': 0, 'color': 0, 'breed': 0, 'tail': 0, 'address': None, 'cam_id': None, 'date': None}\n",
            "{'filename': 'B59.jpg', 'is_animal_there': 1, 'is_it_a_dog': 1, 'is_the_owner_there': 1, 'color': 1, 'breed': 'a rottweiler', 'tail': 1, 'address': None, 'cam_id': None, 'date': None}\n",
            "{'filename': 'С48.jpg', 'is_animal_there': 0, 'is_it_a_dog': 0, 'is_the_owner_there': 0, 'color': 0, 'breed': 0, 'tail': 0, 'address': None, 'cam_id': None, 'date': None}\n",
            "{'filename': 'С25.jpg', 'is_animal_there': 0, 'is_it_a_dog': 0, 'is_the_owner_there': 0, 'color': 0, 'breed': 0, 'tail': 0, 'address': None, 'cam_id': None, 'date': None}\n",
            "{'filename': 'А10.jpg', 'is_animal_there': 0, 'is_it_a_dog': 0, 'is_the_owner_there': 0, 'color': 0, 'breed': 0, 'tail': 0, 'address': 'САО Ленинградский проспект, дом 35', 'cam_id': 'ЦМЧ_ЗАО_027_2', 'date': None}\n",
            "{'filename': 'А31.jpg', 'is_animal_there': 1, 'is_it_a_dog': 0, 'is_the_owner_there': 0, 'color': 0, 'breed': 0, 'tail': 0, 'address': None, 'cam_id': None, 'date': None}\n",
            "{'filename': 'B43.jpg', 'is_animal_there': 1, 'is_it_a_dog': 1, 'is_the_owner_there': 0, 'color': 1, 'breed': 'a border collie', 'tail': 2, 'address': None, 'cam_id': 'СВАО улица Корнейчука, дом 414', 'date': '28 сент. 2021, 08:23:37'}\n",
            "{'filename': 'А67.jpg', 'is_animal_there': 0, 'is_it_a_dog': 0, 'is_the_owner_there': 0, 'color': 0, 'breed': 0, 'tail': 0, 'address': None, 'cam_id': None, 'date': None}\n",
            "{'filename': 'С92.jpg', 'is_animal_there': 1, 'is_it_a_dog': 0, 'is_the_owner_there': 0, 'color': 0, 'breed': 0, 'tail': 0, 'address': 'САО Левобережная улица, дом 4, корпус 12', 'cam_id': \"P'¥N_hd_SAO_6159_54\", 'date': '01 окт. 2021, 06:37:12'}\n",
            "{'filename': 'B44.jpg', 'is_animal_there': 1, 'is_it_a_dog': 1, 'is_the_owner_there': 1, 'color': 3, 'breed': 'a doberman', 'tail': 1, 'address': None, 'cam_id': None, 'date': None}\n",
            "{'filename': 'А68.jpg', 'is_animal_there': 0, 'is_it_a_dog': 0, 'is_the_owner_there': 0, 'color': 0, 'breed': 0, 'tail': 0, 'address': 'ЗАО Филёвский бульвар, дом 15', 'cam_id': \"P'¥N_hd_ZA0_10482_1\", 'date': '28 сент. 2021, 08:24:56'}\n",
            "{'filename': 'С24.jpg', 'is_animal_there': 1, 'is_it_a_dog': 0, 'is_the_owner_there': 0, 'color': 0, 'breed': 0, 'tail': 0, 'address': 'САО Левобережная улица, дом 4, корпус 12', 'cam_id': 'PVN_hd_SAO_6159_54', 'date': '04 окт. 2021, 06:43:04'}\n",
            "{'filename': 'B26.jpg', 'is_animal_there': 1, 'is_it_a_dog': 1, 'is_the_owner_there': 1, 'color': 3, 'breed': 'a basset hound', 'tail': 2, 'address': None, 'cam_id': None, 'date': None}\n",
            "{'filename': 'А96.jpg', 'is_animal_there': 1, 'is_it_a_dog': 1, 'is_the_owner_there': 1, 'color': 1, 'breed': 'a borzoi', 'tail': 2, 'address': \"P'¥N_hd_UZAO_8352_4\", 'cam_id': None, 'date': '27 ceHT. 2021, 07:45:04'}\n",
            "{'filename': 'B70.jpg', 'is_animal_there': 1, 'is_it_a_dog': 1, 'is_the_owner_there': 0, 'color': 2, 'breed': 'a borzoi', 'tail': 2, 'address': 'PVN_hd_TSAO_5300_3', 'cam_id': 'ЦАО Верхняя Сыромятническая улица, дом 2', 'date': '28 сент. 2021, 09:23:53'}\n",
            "{'filename': 'B27.jpg', 'is_animal_there': 1, 'is_it_a_dog': 1, 'is_the_owner_there': 0, 'color': 2, 'breed': 'a basset hound', 'tail': 2, 'address': \"P'¥N_hd_SVAO_3426_1\", 'cam_id': 'СВАО Мелиховская улица, дом 2', 'date': '28 сент. 2021, 09:21:58'}\n",
            "{'filename': 'А11.jpg', 'is_animal_there': 1, 'is_it_a_dog': 1, 'is_the_owner_there': 0, 'color': 2, 'breed': 'a corgi', 'tail': 1, 'address': 'УММЧ_$АО_027_2', 'cam_id': 'САО Ленинградский проспект, дом 35', 'date': '27 сент. 2021, 07:31:09'}\n",
            "{'filename': 'С62.jpg', 'is_animal_there': 1, 'is_it_a_dog': 0, 'is_the_owner_there': 0, 'color': 0, 'breed': 0, 'tail': 0, 'address': None, 'cam_id': None, 'date': None}\n",
            "{'filename': 'B57.jpg', 'is_animal_there': 1, 'is_it_a_dog': 1, 'is_the_owner_there': 1, 'color': 2, 'breed': 'a borzoi', 'tail': 2, 'address': None, 'cam_id': None, 'date': None}\n",
            "{'filename': 'B60.jpg', 'is_animal_there': 0, 'is_it_a_dog': 0, 'is_the_owner_there': 0, 'color': 0, 'breed': 0, 'tail': 0, 'address': 'СВАО улица Бориса Галушкина, дом 18', 'cam_id': \"P'V¥N_hd_SVAO_3081_5\", 'date': '[= Ба 2021, 09:00:38'}\n",
            "{'filename': 'А79.jpg', 'is_animal_there': 1, 'is_it_a_dog': 1, 'is_the_owner_there': 0, 'color': 2, 'breed': 'a bulldog', 'tail': 1, 'address': None, 'cam_id': None, 'date': None}\n",
            "{'filename': 'А59.jpg', 'is_animal_there': 0, 'is_it_a_dog': 0, 'is_the_owner_there': 0, 'color': 0, 'breed': 0, 'tail': 0, 'address': None, 'cam_id': None, 'date': None}\n",
            "{'filename': 'B115.jpg', 'is_animal_there': 1, 'is_it_a_dog': 1, 'is_the_owner_there': 1, 'color': 2, 'breed': 'a husky', 'tail': 2, 'address': 'PVN_hd_SVAQ_3087_5', 'cam_id': 'СВАО улица Бориса Галушкина, дом 25', 'date': '05 окт. 2021, 08:07:36'}\n",
            "{'filename': 'А26.jpg', 'is_animal_there': 1, 'is_it_a_dog': 0, 'is_the_owner_there': 0, 'color': 0, 'breed': 0, 'tail': 0, 'address': 'САО Ленинградский проспект, дом 35', 'cam_id': 'ЦМЧ_ЗАО_027_8', 'date': None}\n",
            "{'filename': 'А90.jpg', 'is_animal_there': 1, 'is_it_a_dog': 1, 'is_the_owner_there': 0, 'color': 2, 'breed': 'a husky', 'tail': 2, 'address': None, 'cam_id': None, 'date': None}\n",
            "{'filename': 'А95.jpg', 'is_animal_there': 1, 'is_it_a_dog': 1, 'is_the_owner_there': 0, 'color': 1, 'breed': 'a rottweiler', 'tail': 1, 'address': 'РУМ_В9 ЦАО_2565_1', 'cam_id': 'ЮАО Домодедовская улица, дом 24, корпус 4', 'date': '04 окт. 2021, 07:15:43'}\n",
            "{'filename': 'B69.jpg', 'is_animal_there': 1, 'is_it_a_dog': 1, 'is_the_owner_there': 0, 'color': 2, 'breed': 'a pekingese', 'tail': 1, 'address': 'PVN_hd_TSAO_5300_3', 'cam_id': 'ЦАО Верхняя Сыромятническая улица, дом 2', 'date': '28 сент. 2021, 09:22:38'}\n",
            "{'filename': 'А87.jpg', 'is_animal_there': 1, 'is_it_a_dog': 1, 'is_the_owner_there': 0, 'color': 2, 'breed': 'a husky', 'tail': 2, 'address': \"P'¥N_hd_UZAO_8297_1\", 'cam_id': 'ЮЗАО Севастопольский проспект, дом 50/11', 'date': '27 сент. 2021, 07:58:55'}\n",
            "{'filename': 'С32.jpg', 'is_animal_there': 0, 'is_it_a_dog': 0, 'is_the_owner_there': 0, 'color': 0, 'breed': 0, 'tail': 0, 'address': 'САО Левобережная улица, дом 4, корпус 12', 'cam_id': 'PVN_hd_SAO_6159_54', 'date': '04 окт. 2021, 06:43:12'}\n",
            "{'filename': 'B82.jpg', 'is_animal_there': 0, 'is_it_a_dog': 0, 'is_the_owner_there': 0, 'color': 0, 'breed': 0, 'tail': 0, 'address': None, 'cam_id': None, 'date': None}\n",
            "{'filename': 'А53.jpg', 'is_animal_there': 0, 'is_it_a_dog': 0, 'is_the_owner_there': 0, 'color': 0, 'breed': 0, 'tail': 0, 'address': 'ЗАО улица Крылатские Холмы, дом 32, корпус', 'cam_id': 'РУМ_В9 7АО_9544_4', 'date': '28 сент. 2021, 07:55:41'}\n",
            "{'filename': 'А102.jpg', 'is_animal_there': 1, 'is_it_a_dog': 1, 'is_the_owner_there': 0, 'color': 2, 'breed': 'a husky', 'tail': 2, 'address': None, 'cam_id': None, 'date': None}\n",
            "{'filename': 'А34.jpg', 'is_animal_there': 1, 'is_it_a_dog': 1, 'is_the_owner_there': 0, 'color': 2, 'breed': 'a borzoi', 'tail': 2, 'address': \"P'¥N_hd_SZA0_5745_1\", 'cam_id': 'СЗАО улица Исаковского, дом 28, корпус 1', 'date': '28 сент. 2021, 06:55:42'}\n",
            "{'filename': 'А72.jpg', 'is_animal_there': 1, 'is_it_a_dog': 1, 'is_the_owner_there': 0, 'color': 1, 'breed': 'a spitz', 'tail': 1, 'address': None, 'cam_id': 'ЮАО Днепропетровская улица, дом 31', 'date': '27 сент. 2021, 07:06:41'}\n",
            "{'filename': 'А21.jpg', 'is_animal_there': 1, 'is_it_a_dog': 0, 'is_the_owner_there': 0, 'color': 0, 'breed': 0, 'tail': 0, 'address': 'САО Ленинградский проспект, дом 35', 'cam_id': 'УММ_$5АО_027_7', 'date': '27 сент. 2021, 06:56:06'}\n",
            "{'filename': 'С44.jpg', 'is_animal_there': 1, 'is_it_a_dog': 1, 'is_the_owner_there': 0, 'color': 2, 'breed': 'a chihuahua', 'tail': 1, 'address': None, 'cam_id': None, 'date': None}\n",
            "{'filename': 'B11.jpg', 'is_animal_there': 1, 'is_it_a_dog': 1, 'is_the_owner_there': 1, 'color': 2, 'breed': 'a bulldog', 'tail': 1, 'address': None, 'cam_id': None, 'date': None}\n",
            "{'filename': 'А8.jpg', 'is_animal_there': 1, 'is_it_a_dog': 0, 'is_the_owner_there': 0, 'color': 0, 'breed': 0, 'tail': 0, 'address': None, 'cam_id': None, 'date': None}\n",
            "{'filename': 'B65.jpg', 'is_animal_there': 1, 'is_it_a_dog': 1, 'is_the_owner_there': 1, 'color': 2, 'breed': 'a borzoi', 'tail': 2, 'address': 'PVN_hd_TSAO_5300_3', 'cam_id': 'ЦАО Верхняя Сыромятническая улица, дом 2', 'date': '28 сент. 2021, 08:26:15'}\n",
            "{'filename': 'B117.jpg', 'is_animal_there': 1, 'is_it_a_dog': 1, 'is_the_owner_there': 0, 'color': 2, 'breed': 'a caucasian shepherd dog', 'tail': 1, 'address': None, 'cam_id': None, 'date': None}\n",
            "{'filename': 'А27.jpg', 'is_animal_there': 1, 'is_it_a_dog': 1, 'is_the_owner_there': 0, 'color': 2, 'breed': 'a labrador', 'tail': 2, 'address': None, 'cam_id': None, 'date': None}\n",
            "{'filename': 'B84.jpg', 'is_animal_there': 1, 'is_it_a_dog': 0, 'is_the_owner_there': 0, 'color': 0, 'breed': 0, 'tail': 0, 'address': 'СВАО улица Бориса Галушкина, дом 25', 'cam_id': \"P'¥N_hd_SVAO_3087_5\", 'date': '05 окт. 2021, 07:47:15'}\n",
            "{'filename': 'А28.jpg', 'is_animal_there': 0, 'is_it_a_dog': 0, 'is_the_owner_there': 0, 'color': 0, 'breed': 0, 'tail': 0, 'address': 'САО Ленинградский проспект, дом 35', 'cam_id': 'ЦМЧ_ЗАО_027_8', 'date': '27 сент. 2021, 08:15:34'}\n",
            "{'filename': 'А91.jpg', 'is_animal_there': 1, 'is_it_a_dog': 1, 'is_the_owner_there': 1, 'color': 2, 'breed': 'a borzoi', 'tail': 2, 'address': None, 'cam_id': None, 'date': None}\n",
            "{'filename': 'А13.jpg', 'is_animal_there': 0, 'is_it_a_dog': 0, 'is_the_owner_there': 0, 'color': 0, 'breed': 0, 'tail': 0, 'address': None, 'cam_id': None, 'date': None}\n",
            "{'filename': 'B45.jpg', 'is_animal_there': 1, 'is_it_a_dog': 1, 'is_the_owner_there': 0, 'color': 2, 'breed': 'a toy terrier', 'tail': 1, 'address': None, 'cam_id': None, 'date': '28 сент. 2021, 08:27:01'}\n",
            "{'filename': 'С36.jpg', 'is_animal_there': 1, 'is_it_a_dog': 1, 'is_the_owner_there': 0, 'color': 2, 'breed': 'a chihuahua', 'tail': 1, 'address': 'PVN_hd_UAO_7270_3', 'cam_id': 'ЮАО 1-й Нижний Михайловский проезд, дом |', 'date': '29 сент. 2021, 06:48:15'}\n",
            "{'filename': 'B83.jpg', 'is_animal_there': 0, 'is_it_a_dog': 0, 'is_the_owner_there': 0, 'color': 0, 'breed': 0, 'tail': 0, 'address': 'СВАО улица Бориса Галушкина, дом 18', 'cam_id': \"P'V¥N_hd_SVAO_3081_5\", 'date': '05 окт. 2021, 08:03:42'}\n",
            "{'filename': 'А43.jpg', 'is_animal_there': 0, 'is_it_a_dog': 0, 'is_the_owner_there': 0, 'color': 0, 'breed': 0, 'tail': 0, 'address': 'ЦАО Шелепихинская набережная, дом 22', 'cam_id': \"P'¥N_hd_TSAO_4915_2\", 'date': '28 сент. 2021, 07:04:28'}\n",
            "{'filename': 'B33.jpg', 'is_animal_there': 1, 'is_it_a_dog': 1, 'is_the_owner_there': 0, 'color': 2, 'breed': 'a samoyed', 'tail': 2, 'address': \"P'¥N_hd_SVAO_3055_1\", 'cam_id': 'СВАО проспект Мира, дом 182, корпус 3', 'date': '05 окт. 2021, 08:15:52'}\n",
            "{'filename': 'А99.jpg', 'is_animal_there': 1, 'is_it_a_dog': 1, 'is_the_owner_there': 0, 'color': 2, 'breed': 'a chihuahua', 'tail': 1, 'address': \"P'¥N_hd_UZAO_8352_4\", 'cam_id': 'ЮЗАО улица Каховка, дом 18, корпус 5', 'date': '27 сент. 2021. 08:09:03'}\n",
            "{'filename': 'С37.jpg', 'is_animal_there': 1, 'is_it_a_dog': 1, 'is_the_owner_there': 1, 'color': 2, 'breed': 'a samoyed', 'tail': 2, 'address': 'PVN_hd_UAO_7270_3', 'cam_id': 'ЮАО 1-й Нижний Михайловский проезд, дом |', 'date': None}\n",
            "{'filename': 'А52.jpg', 'is_animal_there': 1, 'is_it_a_dog': 1, 'is_the_owner_there': 0, 'color': 2, 'breed': 'a chihuahua', 'tail': 1, 'address': \"P'V¥N_hd_TSAO_4915_2\", 'cam_id': None, 'date': '28 сент. 2021, 08:02:18'}\n",
            "{'filename': 'B94.jpg', 'is_animal_there': 0, 'is_it_a_dog': 0, 'is_the_owner_there': 0, 'color': 0, 'breed': 0, 'tail': 0, 'address': 'СВАО проезд Черского, дом 5', 'cam_id': \"P'¥N_hd_SVAO_1325_1\", 'date': None}\n",
            "{'filename': 'B116.jpg', 'is_animal_there': 1, 'is_it_a_dog': 1, 'is_the_owner_there': 1, 'color': 2, 'breed': 'a chihuahua', 'tail': 1, 'address': None, 'cam_id': None, 'date': None}\n",
            "{'filename': 'А9.jpg', 'is_animal_there': 1, 'is_it_a_dog': 1, 'is_the_owner_there': 0, 'color': 2, 'breed': 'a labrador', 'tail': 2, 'address': None, 'cam_id': None, 'date': None}\n",
            "{'filename': 'B6.jpg', 'is_animal_there': 1, 'is_it_a_dog': 1, 'is_the_owner_there': 0, 'color': 2, 'breed': 'a chihuahua', 'tail': 1, 'address': \"P'¥N_hd_SVAO_1652_1\", 'cam_id': 'СВАО улица Академика Королёва, дом 28, кор', 'date': None}\n",
            "{'filename': 'А51.jpg', 'is_animal_there': 1, 'is_it_a_dog': 1, 'is_the_owner_there': 0, 'color': 2, 'breed': 'a chihuahua', 'tail': 1, 'address': None, 'cam_id': None, 'date': None}\n",
            "{'filename': 'А74.jpg', 'is_animal_there': 1, 'is_it_a_dog': 1, 'is_the_owner_there': 0, 'color': 3, 'breed': 'a chihuahua', 'tail': 1, 'address': \"P'¥N_hd_UZAO_1100_15\", 'cam_id': 'ЮЗАО улицайкадемика Варги, дом 28', 'date': '04 окт. 2021, 07:38:23'}\n",
            "{'filename': 'С57.jpg', 'is_animal_there': 0, 'is_it_a_dog': 0, 'is_the_owner_there': 0, 'color': 0, 'breed': 0, 'tail': 0, 'address': 'САО Левобережная улица, дом 4, корпус 12', 'cam_id': \"P'¥N_hd_SAO_6159_54\", 'date': '29 сент. 2021, 07:19:23'}\n",
            "{'filename': 'А41.jpg', 'is_animal_there': 1, 'is_it_a_dog': 1, 'is_the_owner_there': 0, 'color': 2, 'breed': 'a samoyed', 'tail': 2, 'address': \"P'V¥N_hd_TSAO_4915_2\", 'cam_id': 'ЦАО Шелепихинская набережная, дом 22', 'date': '28 сент. 2021, 06:58:39'}\n",
            "{'filename': 'B46.jpg', 'is_animal_there': 1, 'is_it_a_dog': 1, 'is_the_owner_there': 1, 'color': 3, 'breed': 'a labrador', 'tail': 2, 'address': \"P'¥N_hd_SVAO_3055_1\", 'cam_id': 'СВАО проспект Мира, дом 182, корпус 3', 'date': '05 окт. 2021, 08:52:25'}\n",
            "{'filename': 'С73.jpg', 'is_animal_there': 1, 'is_it_a_dog': 0, 'is_the_owner_there': 0, 'color': 0, 'breed': 0, 'tail': 0, 'address': 'САО Левобережная улица, дом 4, корпус 12', 'cam_id': \"P'¥N_hd_SAO_6159_54\", 'date': '29 сент. 2021, 07:35:18'}\n",
            "{'filename': 'С70.jpg', 'is_animal_there': 0, 'is_it_a_dog': 0, 'is_the_owner_there': 0, 'color': 0, 'breed': 0, 'tail': 0, 'address': None, 'cam_id': None, 'date': None}\n",
            "{'filename': 'А44.jpg', 'is_animal_there': 1, 'is_it_a_dog': 0, 'is_the_owner_there': 0, 'color': 0, 'breed': 0, 'tail': 0, 'address': 'ЦАО Шелепихинская набережная, дом 22', 'cam_id': \"P'¥N_hd_TSAO_4915_2\", 'date': '28 сент. 2021, 07:08:52'}\n",
            "{'filename': 'B56.jpg', 'is_animal_there': 1, 'is_it_a_dog': 0, 'is_the_owner_there': 0, 'color': 0, 'breed': 0, 'tail': 0, 'address': None, 'cam_id': None, 'date': None}\n",
            "{'filename': 'А98.jpg', 'is_animal_there': 0, 'is_it_a_dog': 0, 'is_the_owner_there': 0, 'color': 0, 'breed': 0, 'tail': 0, 'address': None, 'cam_id': None, 'date': None}\n",
            "{'filename': 'А30.jpg', 'is_animal_there': 1, 'is_it_a_dog': 0, 'is_the_owner_there': 0, 'color': 0, 'breed': 0, 'tail': 0, 'address': None, 'cam_id': 'ЦМЧ_ЗАО_027_8', 'date': '27 сент. 2021, 08:45:49'}\n",
            "{'filename': 'А49.jpg', 'is_animal_there': 1, 'is_it_a_dog': 1, 'is_the_owner_there': 0, 'color': 1, 'breed': 'a labrador', 'tail': 2, 'address': None, 'cam_id': None, 'date': None}\n",
            "{'filename': 'B19.jpg', 'is_animal_there': 1, 'is_it_a_dog': 1, 'is_the_owner_there': 0, 'color': 1, 'breed': 'a labrador', 'tail': 2, 'address': None, 'cam_id': None, 'date': None}\n",
            "{'filename': 'B111.jpg', 'is_animal_there': 0, 'is_it_a_dog': 0, 'is_the_owner_there': 0, 'color': 0, 'breed': 0, 'tail': 0, 'address': None, 'cam_id': None, 'date': None}\n",
            "{'filename': 'B47.jpg', 'is_animal_there': 0, 'is_it_a_dog': 0, 'is_the_owner_there': 0, 'color': 0, 'breed': 0, 'tail': 0, 'address': 'СВАО улица Корнейчука, дом 414', 'cam_id': None, 'date': '28 сент. 2021, 08:58:08'}\n",
            "{'filename': 'А5.jpg', 'is_animal_there': 1, 'is_it_a_dog': 1, 'is_the_owner_there': 1, 'color': 1, 'breed': 'a rottweiler', 'tail': 1, 'address': \"P'VN_hd_SZAO_36_3\", 'cam_id': None, 'date': None}\n",
            "{'filename': 'B119.jpg', 'is_animal_there': 0, 'is_it_a_dog': 0, 'is_the_owner_there': 0, 'color': 0, 'breed': 0, 'tail': 0, 'address': None, 'cam_id': None, 'date': None}\n",
            "{'filename': 'B89.jpg', 'is_animal_there': 1, 'is_it_a_dog': 1, 'is_the_owner_there': 1, 'color': 2, 'breed': 'a chihuahua', 'tail': 1, 'address': \"P'¥N_hd_SVAO_3055_1\", 'cam_id': 'СВАО проспект Мира, дом 182, корпус 3', 'date': '05 окт. 2021, 09:05:51'}\n",
            "{'filename': 'А6.jpg', 'is_animal_there': 1, 'is_it_a_dog': 1, 'is_the_owner_there': 1, 'color': 1, 'breed': 'a border collie', 'tail': 2, 'address': None, 'cam_id': None, 'date': None}\n",
            "{'filename': 'С59.jpg', 'is_animal_there': 0, 'is_it_a_dog': 0, 'is_the_owner_there': 0, 'color': 0, 'breed': 0, 'tail': 0, 'address': None, 'cam_id': \"P'¥N_hd_TSAO_3647_1\", 'date': None}\n",
            "{'filename': 'А48.jpg', 'is_animal_there': 0, 'is_it_a_dog': 0, 'is_the_owner_there': 0, 'color': 0, 'breed': 0, 'tail': 0, 'address': 'ЮЗАО улицайкадемика Варги, дом 28', 'cam_id': \"P'¥N_hd_UZAO_1100_15\", 'date': '04 окт. 2021, 07:11:58'}\n",
            "{'filename': 'А25.jpg', 'is_animal_there': 1, 'is_it_a_dog': 0, 'is_the_owner_there': 0, 'color': 0, 'breed': 0, 'tail': 0, 'address': 'САО Ленинградский проспект, дом 35', 'cam_id': 'УММ_5АО_027_8', 'date': None}\n",
            "{'filename': 'А1.jpg', 'is_animal_there': 1, 'is_it_a_dog': 0, 'is_the_owner_there': 0, 'color': 0, 'breed': 0, 'tail': 0, 'address': None, 'cam_id': \"P'VN_hd_SZAO_36_3\", 'date': None}\n",
            "{'filename': 'B50.jpg', 'is_animal_there': 0, 'is_it_a_dog': 0, 'is_the_owner_there': 0, 'color': 0, 'breed': 0, 'tail': 0, 'address': 'СВАО улица Корнейчука, дом 414', 'cam_id': None, 'date': '28 сент. 2021, 17:52:19'}\n",
            "{'filename': 'B17.jpg', 'is_animal_there': 1, 'is_it_a_dog': 1, 'is_the_owner_there': 0, 'color': 1, 'breed': 'a german shepherd', 'tail': 2, 'address': \"P'¥N_hd_SVAO_3055_1\", 'cam_id': 'СВАО проспект Мира, дом 182, корпус 3', 'date': '05 окт. 2021, 08:38:15'}\n",
            "{'filename': 'С102.jpg', 'is_animal_there': 0, 'is_it_a_dog': 0, 'is_the_owner_there': 0, 'color': 0, 'breed': 0, 'tail': 0, 'address': None, 'cam_id': None, 'date': None}\n",
            "{'filename': 'B5.jpg', 'is_animal_there': 1, 'is_it_a_dog': 0, 'is_the_owner_there': 0, 'color': 0, 'breed': 0, 'tail': 0, 'address': 'СВАО Новоалексеевская улица, дом 5А', 'cam_id': \"P'¥N_hd_SVAO_3040_1\", 'date': None}\n",
            "{'filename': 'С61.jpg', 'is_animal_there': 1, 'is_it_a_dog': 1, 'is_the_owner_there': 0, 'color': 1, 'breed': 'a chihuahua', 'tail': 1, 'address': \"P'V¥N_hd_TSAO_3647_1\", 'cam_id': None, 'date': None}\n",
            "{'filename': 'B30.jpg', 'is_animal_there': 1, 'is_it_a_dog': 1, 'is_the_owner_there': 0, 'color': 1, 'breed': 'a german shepherd', 'tail': 2, 'address': 'PVN_hd_SVAQ_3426_1', 'cam_id': 'СВАО Мелиховская улица, дом 2', 'date': '28 сент. 2021, 17:00:11'}\n",
            "{'filename': 'B10.jpg', 'is_animal_there': 1, 'is_it_a_dog': 1, 'is_the_owner_there': 0, 'color': 3, 'breed': 'a labrador', 'tail': 2, 'address': \"P'¥N_hd_SVAO_1652_1\", 'cam_id': 'СВАО улица Академика Королёва, дом 28, кор', 'date': '28 сент. 2021, 17:39:11'}\n",
            "{'filename': 'А38.jpg', 'is_animal_there': 1, 'is_it_a_dog': 1, 'is_the_owner_there': 1, 'color': 1, 'breed': 'a doberman', 'tail': 1, 'address': None, 'cam_id': None, 'date': None}\n",
            "{'filename': 'B9.jpg', 'is_animal_there': 1, 'is_it_a_dog': 0, 'is_the_owner_there': 0, 'color': 0, 'breed': 0, 'tail': 0, 'address': 'СВАО Новоалексеевская улица, дом 5А', 'cam_id': \"P'¥N_hd_SVAO_3040_1\", 'date': '05 я 2021, 07:31:47'}\n",
            "{'filename': 'B92.jpg', 'is_animal_there': 1, 'is_it_a_dog': 1, 'is_the_owner_there': 1, 'color': 2, 'breed': 'a german shepherd', 'tail': 2, 'address': 'PVN_hd_SVAQ_3087_5', 'cam_id': 'СВАО улица Бориса Галушкина, дом 25', 'date': '05 окт. 2021, 08:54:16'}\n",
            "{'filename': 'С54.jpg', 'is_animal_there': 1, 'is_it_a_dog': 1, 'is_the_owner_there': 1, 'color': 2, 'breed': 'a dachshund', 'tail': 1, 'address': None, 'cam_id': None, 'date': None}\n",
            "{'filename': 'B51.jpg', 'is_animal_there': 1, 'is_it_a_dog': 1, 'is_the_owner_there': 1, 'color': 3, 'breed': 'a chihuahua', 'tail': 1, 'address': \"P'¥N_hd_SVAO_3040_1\", 'cam_id': 'СВАО Новоалексеевская улица, дом 5А', 'date': '05 окт. 2021, 08:03:53'}\n",
            "{'filename': 'B120.jpg', 'is_animal_there': 1, 'is_it_a_dog': 1, 'is_the_owner_there': 1, 'color': 3, 'breed': 'a pug', 'tail': 1, 'address': None, 'cam_id': None, 'date': None}\n",
            "{'filename': 'B77.jpg', 'is_animal_there': 0, 'is_it_a_dog': 0, 'is_the_owner_there': 0, 'color': 0, 'breed': 0, 'tail': 0, 'address': 'ЦАО Верхняя Сыромятническая улица, дом 2', 'cam_id': 'PVN_hd_TSAO_5300_3', 'date': '28 сент. 2021, 17:26:53'}\n",
            "{'filename': 'B80.jpg', 'is_animal_there': 0, 'is_it_a_dog': 0, 'is_the_owner_there': 0, 'color': 0, 'breed': 0, 'tail': 0, 'address': 'СВАО улица Бориса Галушкина, дом 18', 'cam_id': \"P'V¥N_hd_SVAO_3081_5\", 'date': '05 окт. 2021, 07:49:37'}\n",
            "{'filename': 'B112.jpg', 'is_animal_there': 0, 'is_it_a_dog': 0, 'is_the_owner_there': 0, 'color': 0, 'breed': 0, 'tail': 0, 'address': None, 'cam_id': None, 'date': None}\n",
            "{'filename': 'B53.jpg', 'is_animal_there': 0, 'is_it_a_dog': 0, 'is_the_owner_there': 0, 'color': 0, 'breed': 0, 'tail': 0, 'address': 'СВАО улица Корнейчука, дом 414', 'cam_id': None, 'date': '28 сент. 2021, 18:10:53'}\n",
            "{'filename': 'B87.jpg', 'is_animal_there': 1, 'is_it_a_dog': 1, 'is_the_owner_there': 0, 'color': 2, 'breed': 'a chihuahua', 'tail': 1, 'address': 'PVN_hd TSAQ_3766_1', 'cam_id': 'ЦАО 5-й Монетчиковский переулок, дом 13', 'date': 'Е Веки 2021, 17:41:49'}\n",
            "{'filename': 'А39.jpg', 'is_animal_there': 1, 'is_it_a_dog': 1, 'is_the_owner_there': 0, 'color': 2, 'breed': 'a husky', 'tail': 2, 'address': None, 'cam_id': None, 'date': None}\n",
            "{'filename': 'B16.jpg', 'is_animal_there': 1, 'is_it_a_dog': 1, 'is_the_owner_there': 0, 'color': 2, 'breed': 'a pug', 'tail': 1, 'address': None, 'cam_id': None, 'date': None}\n",
            "{'filename': 'B107.jpg', 'is_animal_there': 0, 'is_it_a_dog': 0, 'is_the_owner_there': 0, 'color': 0, 'breed': 0, 'tail': 0, 'address': None, 'cam_id': None, 'date': None}\n",
            "{'filename': 'B18.jpg', 'is_animal_there': 1, 'is_it_a_dog': 1, 'is_the_owner_there': 0, 'color': 2, 'breed': 'a pekingese', 'tail': 1, 'address': None, 'cam_id': None, 'date': None}\n",
            "{'filename': 'А94.jpg', 'is_animal_there': 1, 'is_it_a_dog': 0, 'is_the_owner_there': 0, 'color': 0, 'breed': 0, 'tail': 0, 'address': None, 'cam_id': \"P'¥N_hd_UZAO_8352_4\", 'date': '27 сент. 2021, 08:08:57'}\n",
            "{'filename': 'B76.jpg', 'is_animal_there': 1, 'is_it_a_dog': 1, 'is_the_owner_there': 1, 'color': 3, 'breed': 'a pug', 'tail': 1, 'address': \"P'¥N_hd_SVAO_3055_1\", 'cam_id': 'СВАО проспект Мира, дом 182, корпус 3', 'date': '05 окт. 2021, 08:59:49'}\n",
            "{'filename': 'С98.jpg', 'is_animal_there': 0, 'is_it_a_dog': 0, 'is_the_owner_there': 0, 'color': 0, 'breed': 0, 'tail': 0, 'address': 'ЦАО Центросоюзный переулок, дом 4', 'cam_id': 'PVN_hd_TSAO_3647_1', 'date': '01 окт. 2021, 05:51:08'}\n",
            "{'filename': 'B64.jpg', 'is_animal_there': 0, 'is_it_a_dog': 0, 'is_the_owner_there': 0, 'color': 0, 'breed': 0, 'tail': 0, 'address': 'ЦАО Верхняя Сыромятническая улица, дом 2', 'cam_id': 'PVN_hd_TSAO_5300_3', 'date': '28 сент. 2021, 08:20:50'}\n",
            "{'filename': 'А58.jpg', 'is_animal_there': 1, 'is_it_a_dog': 1, 'is_the_owner_there': 0, 'color': 2, 'breed': 'a border collie', 'tail': 2, 'address': 'РУМ_НЯ 7АС_9544_4', 'cam_id': 'ЗАО улица Крылатские Холмы, дом 32, корпус', 'date': '28 сент. 2021, 08:03:19'}\n",
            "{'filename': 'С65.jpg', 'is_animal_there': 1, 'is_it_a_dog': 1, 'is_the_owner_there': 0, 'color': 2, 'breed': 'a jack russell terrier', 'tail': 2, 'address': \"P'V¥N_hd_TSAO_3647_1\", 'cam_id': None, 'date': '29 сент. 2021, 07:20:45'}\n",
            "{'filename': 'С75.jpg', 'is_animal_there': 0, 'is_it_a_dog': 0, 'is_the_owner_there': 0, 'color': 0, 'breed': 0, 'tail': 0, 'address': 'ЮАО 1-й Нижний Михайловский проезд, дом |', 'cam_id': 'PVN_hd_UAO_7270_3', 'date': '29 сент. 2021, 07:38:39'}\n",
            "{'filename': 'С94.jpg', 'is_animal_there': 0, 'is_it_a_dog': 0, 'is_the_owner_there': 0, 'color': 0, 'breed': 0, 'tail': 0, 'address': None, 'cam_id': None, 'date': None}\n",
            "{'filename': 'А55.jpg', 'is_animal_there': 0, 'is_it_a_dog': 0, 'is_the_owner_there': 0, 'color': 0, 'breed': 0, 'tail': 0, 'address': None, 'cam_id': None, 'date': None}\n",
            "{'filename': 'С82.jpg', 'is_animal_there': 1, 'is_it_a_dog': 0, 'is_the_owner_there': 0, 'color': 0, 'breed': 0, 'tail': 0, 'address': 'ВАО улица Преображенский Вал, дом 24, корп', 'cam_id': 'РУМ_НЯ МАО_5390_22', 'date': '29 сент. 2021, 06:39:35'}\n",
            "{'filename': 'С47.jpg', 'is_animal_there': 0, 'is_it_a_dog': 0, 'is_the_owner_there': 0, 'color': 0, 'breed': 0, 'tail': 0, 'address': None, 'cam_id': None, 'date': None}\n",
            "{'filename': 'B75.jpg', 'is_animal_there': 1, 'is_it_a_dog': 1, 'is_the_owner_there': 0, 'color': 2, 'breed': 'a dalmatian', 'tail': 2, 'address': 'РУМ_Га Т$АО_5300_3', 'cam_id': 'ЦАО Верхняя Сыромятническая улица, дом 2', 'date': '28 сент. 2021, 10:33:49'}\n",
            "{'filename': 'С55.jpg', 'is_animal_there': 0, 'is_it_a_dog': 0, 'is_the_owner_there': 0, 'color': 0, 'breed': 0, 'tail': 0, 'address': 'САО Левобережная улица, дом 4, корпус 12', 'cam_id': \"P'V¥N_hd_SAO_6159_54\", 'date': '29 сент. 2021. 07:13:55'}\n",
            "{'filename': 'B74.jpg', 'is_animal_there': 1, 'is_it_a_dog': 1, 'is_the_owner_there': 0, 'color': 3, 'breed': 'a pekingese', 'tail': 1, 'address': None, 'cam_id': None, 'date': None}\n",
            "{'filename': 'С81.jpg', 'is_animal_there': 1, 'is_it_a_dog': 0, 'is_the_owner_there': 0, 'color': 0, 'breed': 0, 'tail': 0, 'address': 'ВАО улица Преображенский Вал, дом 24, корп', 'cam_id': 'РУМ_НЯ МАО_5390_22', 'date': '29 сент. 2021, 06:39:31'}\n",
            "{'filename': 'B49.jpg', 'is_animal_there': 1, 'is_it_a_dog': 1, 'is_the_owner_there': 0, 'color': 2, 'breed': 'a chihuahua', 'tail': 1, 'address': \"P'¥N_hd_SVAO_3040_1\", 'cam_id': 'СВАО Новоалексеевская улица, дом 5А', 'date': None}\n",
            "{'filename': 'С103.jpg', 'is_animal_there': 0, 'is_it_a_dog': 0, 'is_the_owner_there': 0, 'color': 0, 'breed': 0, 'tail': 0, 'address': None, 'cam_id': None, 'date': None}\n",
            "{'filename': 'А62.jpg', 'is_animal_there': 1, 'is_it_a_dog': 0, 'is_the_owner_there': 0, 'color': 0, 'breed': 0, 'tail': 0, 'address': 'ЗАО улица Крылатские Холмы, дом 32, корпус', 'cam_id': None, 'date': '28 сент. 2021, 07:28:59'}\n",
            "{'filename': 'А20.jpg', 'is_animal_there': 1, 'is_it_a_dog': 1, 'is_the_owner_there': 0, 'color': 2, 'breed': 'a poodle', 'tail': 1, 'address': 'ЦМЧ_ЗАО_027_7', 'cam_id': 'САО Ленинградский проспект, дом 35', 'date': '27 сент. 2021, 06:48:08'}\n",
            "{'filename': 'А12.jpg', 'is_animal_there': 0, 'is_it_a_dog': 0, 'is_the_owner_there': 0, 'color': 0, 'breed': 0, 'tail': 0, 'address': 'САО Ленинградский проспект, дом 35', 'cam_id': 'УММ_$АО_027_2', 'date': '27 сент. 2021, 06:44:47'}\n",
            "{'filename': 'С80.jpg', 'is_animal_there': 0, 'is_it_a_dog': 0, 'is_the_owner_there': 0, 'color': 0, 'breed': 0, 'tail': 0, 'address': 'САО Ленинградское шоссе, дом 35', 'cam_id': 'P¥N_hd_SAGQ_2_7228_1', 'date': 'ОБ окт. 2021, 07:13:48'}\n",
            "{'filename': 'B93.jpg', 'is_animal_there': 0, 'is_it_a_dog': 0, 'is_the_owner_there': 0, 'color': 0, 'breed': 0, 'tail': 0, 'address': 'СВАО проезд Черского, дом 5', 'cam_id': \"P'¥N_hd_SVAO_1325_1\", 'date': 'Ди 2021. 17:23:46'}\n",
            "{'filename': 'B48.jpg', 'is_animal_there': 1, 'is_it_a_dog': 1, 'is_the_owner_there': 0, 'color': 3, 'breed': 'a cocker spaniel', 'tail': 1, 'address': None, 'cam_id': None, 'date': None}\n",
            "{'filename': 'А78.jpg', 'is_animal_there': 1, 'is_it_a_dog': 1, 'is_the_owner_there': 0, 'color': 2, 'breed': 'a husky', 'tail': 2, 'address': None, 'cam_id': None, 'date': None}\n",
            "{'filename': 'С40.jpg', 'is_animal_there': 0, 'is_it_a_dog': 0, 'is_the_owner_there': 0, 'color': 0, 'breed': 0, 'tail': 0, 'address': 'ЮАО 1-й Нижний Михайловский проезд, дом |', 'cam_id': \"P'¥N_hd_UAG_7270_3\", 'date': 'Fa | ue 2021, 06:51:06'}\n",
            "{'filename': 'А66.jpg', 'is_animal_there': 1, 'is_it_a_dog': 1, 'is_the_owner_there': 0, 'color': 2, 'breed': 'a dalmatian', 'tail': 2, 'address': None, 'cam_id': None, 'date': None}\n",
            "{'filename': 'А97.jpg', 'is_animal_there': 1, 'is_it_a_dog': 0, 'is_the_owner_there': 0, 'color': 0, 'breed': 0, 'tail': 0, 'address': None, 'cam_id': \"P'¥N_hd_UZAO_8352_4\", 'date': '27 сент. 2021, 07:44:59'}\n",
            "{'filename': 'С35.jpg', 'is_animal_there': 1, 'is_it_a_dog': 1, 'is_the_owner_there': 1, 'color': 3, 'breed': 'a newfoundland', 'tail': 2, 'address': None, 'cam_id': None, 'date': None}\n",
            "{'filename': 'B104.jpg', 'is_animal_there': 0, 'is_it_a_dog': 0, 'is_the_owner_there': 0, 'color': 0, 'breed': 0, 'tail': 0, 'address': 'СВАО проспект Мира, дом 182, корпус 3', 'cam_id': \"P'¥N_hd_SVAO_3055_1\", 'date': '05 окт. 2021, 08:58:46'}\n",
            "{'filename': 'B54.jpg', 'is_animal_there': 1, 'is_it_a_dog': 1, 'is_the_owner_there': 1, 'color': 2, 'breed': 'a samoyed', 'tail': 2, 'address': \"P'¥N_hd_SVAO_3055_1\", 'cam_id': 'СВАО проспект Мира, дом 182, корпус 3', 'date': '05 okt. 2021, 08:43:16'}\n",
            "{'filename': 'B118.jpg', 'is_animal_there': 1, 'is_it_a_dog': 1, 'is_the_owner_there': 1, 'color': 2, 'breed': 'a pekingese', 'tail': 1, 'address': None, 'cam_id': None, 'date': None}\n",
            "{'filename': 'С90.jpg', 'is_animal_there': 1, 'is_it_a_dog': 0, 'is_the_owner_there': 0, 'color': 0, 'breed': 0, 'tail': 0, 'address': 'САО Левобережная улица, дом 4, корпус 12', 'cam_id': \"P'¥N_hd_SAO_6159_54\", 'date': '01 окт. 2021, 05:35:31'}\n",
            "{'filename': 'С21.jpg', 'is_animal_there': 0, 'is_it_a_dog': 0, 'is_the_owner_there': 0, 'color': 0, 'breed': 0, 'tail': 0, 'address': None, 'cam_id': None, 'date': None}\n",
            "{'filename': 'А3.jpg', 'is_animal_there': 0, 'is_it_a_dog': 0, 'is_the_owner_there': 0, 'color': 0, 'breed': 0, 'tail': 0, 'address': 'СЗАО улица Свободы, дом 3', 'cam_id': \"P'VN_hd_SZAO_36_3\", 'date': '27 сент. 2021, 06:53:53'}\n",
            "{'filename': 'B40.jpg', 'is_animal_there': 1, 'is_it_a_dog': 1, 'is_the_owner_there': 1, 'color': 2, 'breed': 'a golden retriever', 'tail': 2, 'address': None, 'cam_id': 'СВАО улица Корнейчука, дом 414', 'date': '28 сент. 2021, 07:41:21'}\n",
            "{'filename': 'С67.jpg', 'is_animal_there': 0, 'is_it_a_dog': 0, 'is_the_owner_there': 0, 'color': 0, 'breed': 0, 'tail': 0, 'address': 'САО 1-й Амбулаторный проезд, дом 7, корпус', 'cam_id': \"P'V¥N_hd_SAGQ_2559_3\", 'date': '29 сент. 2021. 07:20:50'}\n",
            "{'filename': 'С34.jpg', 'is_animal_there': 0, 'is_it_a_dog': 0, 'is_the_owner_there': 0, 'color': 0, 'breed': 0, 'tail': 0, 'address': None, 'cam_id': None, 'date': None}\n",
            "{'filename': 'B4.jpg', 'is_animal_there': 1, 'is_it_a_dog': 1, 'is_the_owner_there': 0, 'color': 2, 'breed': 'a chihuahua', 'tail': 1, 'address': None, 'cam_id': None, 'date': None}\n",
            "{'filename': 'B14.jpg', 'is_animal_there': 1, 'is_it_a_dog': 1, 'is_the_owner_there': 0, 'color': 2, 'breed': 'a pug', 'tail': 1, 'address': None, 'cam_id': None, 'date': None}\n",
            "{'filename': 'B71.jpg', 'is_animal_there': 1, 'is_it_a_dog': 1, 'is_the_owner_there': 0, 'color': 2, 'breed': 'a labrador', 'tail': 2, 'address': 'PVN_hd_TSAO_5300_3', 'cam_id': 'ЦАО Верхняя Сыромятническая улица, дом 2', 'date': '28 сент. 2021, 09:58:44'}\n",
            "{'filename': 'B2.jpg', 'is_animal_there': 1, 'is_it_a_dog': 1, 'is_the_owner_there': 0, 'color': 2, 'breed': 'a borzoi', 'tail': 2, 'address': \"P'¥N_hd_SVAO_1652_1\", 'cam_id': 'СВАО улица Академика Королёва, дом 28, кор', 'date': '28 сент. 2021, 07:12:05'}\n",
            "{'filename': 'B110.jpg', 'is_animal_there': 1, 'is_it_a_dog': 1, 'is_the_owner_there': 1, 'color': 2, 'breed': 'a chihuahua', 'tail': 1, 'address': 'PVN_hd_SVAQ_3087_5', 'cam_id': 'СВАО улица Бориса Галушкина, дом 25', 'date': '05 окт. 2021, 08:42:49'}\n",
            "{'filename': 'А50.jpg', 'is_animal_there': 1, 'is_it_a_dog': 0, 'is_the_owner_there': 0, 'color': 0, 'breed': 0, 'tail': 0, 'address': 'ЦАО Шелепихинская набережная, дом 22', 'cam_id': \"P'V¥N_hd_TSAO_4915_2\", 'date': '28 сент. 2021, 07:30:48'}\n",
            "{'filename': 'B36.jpg', 'is_animal_there': 1, 'is_it_a_dog': 1, 'is_the_owner_there': 0, 'color': 2, 'breed': 'a pekingese', 'tail': 1, 'address': None, 'cam_id': 'СВАО улица Корнейчука, дом 414', 'date': '28 сент. 2021, 07:19:00'}\n",
            "{'filename': 'С42.jpg', 'is_animal_there': 0, 'is_it_a_dog': 0, 'is_the_owner_there': 0, 'color': 0, 'breed': 0, 'tail': 0, 'address': 'САО Левобережная улица, дом 4, корпус 12', 'cam_id': \"P'V¥N_hd_SAO_6159_54\", 'date': '29 сент. 2021, 06:56:27'}\n",
            "{'filename': 'А19.jpg', 'is_animal_there': 1, 'is_it_a_dog': 0, 'is_the_owner_there': 0, 'color': 0, 'breed': 0, 'tail': 0, 'address': None, 'cam_id': None, 'date': None}\n",
            "{'filename': 'А7.jpg', 'is_animal_there': 1, 'is_it_a_dog': 0, 'is_the_owner_there': 0, 'color': 0, 'breed': 0, 'tail': 0, 'address': None, 'cam_id': None, 'date': None}\n",
            "{'filename': 'B66.jpg', 'is_animal_there': 1, 'is_it_a_dog': 0, 'is_the_owner_there': 0, 'color': 0, 'breed': 0, 'tail': 0, 'address': 'ЦАО Верхняя Сыромятническая улица, дом 2', 'cam_id': 'PVN_hd_TSAO_5300_3', 'date': '28 сент. 2021, 08:31:26'}\n",
            "{'filename': 'B20.jpg', 'is_animal_there': 1, 'is_it_a_dog': 0, 'is_the_owner_there': 0, 'color': 0, 'breed': 0, 'tail': 0, 'address': 'СВАО Мелиховская улица, дом 2', 'cam_id': \"P'¥N_hd_SVAO_3426_1\", 'date': '28 сент. 2021, 08:03:22'}\n",
            "{'filename': 'А93.jpg', 'is_animal_there': 1, 'is_it_a_dog': 0, 'is_the_owner_there': 0, 'color': 0, 'breed': 0, 'tail': 0, 'address': None, 'cam_id': None, 'date': None}\n",
            "{'filename': 'B24.jpg', 'is_animal_there': 1, 'is_it_a_dog': 1, 'is_the_owner_there': 0, 'color': 3, 'breed': 'a chihuahua', 'tail': 1, 'address': None, 'cam_id': None, 'date': None}\n",
            "{'filename': 'B102.jpg', 'is_animal_there': 1, 'is_it_a_dog': 0, 'is_the_owner_there': 0, 'color': 0, 'breed': 0, 'tail': 0, 'address': None, 'cam_id': None, 'date': None}\n",
            "{'filename': 'С64.jpg', 'is_animal_there': 1, 'is_it_a_dog': 1, 'is_the_owner_there': 0, 'color': 3, 'breed': 'a dachshund', 'tail': 1, 'address': \"P'¥N_hd_TSAO_3647_1\", 'cam_id': None, 'date': None}\n",
            "{'filename': 'B23.jpg', 'is_animal_there': 1, 'is_it_a_dog': 1, 'is_the_owner_there': 0, 'color': 3, 'breed': 'a dachshund', 'tail': 1, 'address': None, 'cam_id': None, 'date': None}\n",
            "{'filename': 'B32.jpg', 'is_animal_there': 1, 'is_it_a_dog': 1, 'is_the_owner_there': 0, 'color': 1, 'breed': 'a doberman', 'tail': 1, 'address': \"P'¥N_hd_SVAO_3040_1\", 'cam_id': 'СВАО Новоалексеевская улица, дом 5А', 'date': 'es ae 2021. 08:21:45'}\n",
            "{'filename': 'B37.jpg', 'is_animal_there': 0, 'is_it_a_dog': 0, 'is_the_owner_there': 0, 'color': 0, 'breed': 0, 'tail': 0, 'address': None, 'cam_id': 'P¥N_hd_SVAO_3498 4', 'date': '28 сент. 2021, 07:27:05'}\n",
            "{'filename': 'А16.jpg', 'is_animal_there': 1, 'is_it_a_dog': 0, 'is_the_owner_there': 0, 'color': 0, 'breed': 0, 'tail': 0, 'address': 'САО Ленинградский проспект, дом 35', 'cam_id': 'УММ_$5АО_027_7', 'date': '27 сент. 2021, 09:09:05'}\n",
            "{'filename': 'С89.jpg', 'is_animal_there': 1, 'is_it_a_dog': 1, 'is_the_owner_there': 0, 'color': 1, 'breed': 'a toy terrier', 'tail': 1, 'address': \"P'V¥N_hd_TSAO_3647_1\", 'cam_id': None, 'date': None}\n",
            "{'filename': 'B41.jpg', 'is_animal_there': 1, 'is_it_a_dog': 1, 'is_the_owner_there': 0, 'color': 1, 'breed': 'a labrador', 'tail': 2, 'address': \"P'¥N_hd_SVAO_3040_1\", 'cam_id': 'СВАО Новоалексеевская улица, дом 5А', 'date': '05 окт. 2021, 08:14:29'}\n",
            "{'filename': 'А82.jpg', 'is_animal_there': 0, 'is_it_a_dog': 0, 'is_the_owner_there': 0, 'color': 0, 'breed': 0, 'tail': 0, 'address': None, 'cam_id': None, 'date': None}\n",
            "{'filename': 'С96.jpg', 'is_animal_there': 1, 'is_it_a_dog': 0, 'is_the_owner_there': 0, 'color': 0, 'breed': 0, 'tail': 0, 'address': 'ЦАО Центросоюзный переулок, дом 4', 'cam_id': 'PVN_hd_TSAO_3647_1', 'date': '01 окт. 2021, 05:50:13'}\n",
            "{'filename': 'B39.jpg', 'is_animal_there': 1, 'is_it_a_dog': 1, 'is_the_owner_there': 0, 'color': 1, 'breed': 'a labrador', 'tail': 2, 'address': None, 'cam_id': None, 'date': None}\n",
            "{'filename': 'С27.jpg', 'is_animal_there': 0, 'is_it_a_dog': 0, 'is_the_owner_there': 0, 'color': 0, 'breed': 0, 'tail': 0, 'address': 'ЦАО Центросоюзный переулок, дом 4', 'cam_id': 'PVN_hd_TSAO_3647_1', 'date': '29 сент. 2021, 05:35:02'}\n",
            "{'filename': 'B52.jpg', 'is_animal_there': 1, 'is_it_a_dog': 1, 'is_the_owner_there': 1, 'color': 1, 'breed': 'a labrador', 'tail': 2, 'address': None, 'cam_id': 'СВАО улица Корнейчука, дом 414', 'date': '28 сент. 2021, 18:08:01'}\n",
            "{'filename': 'B103.jpg', 'is_animal_there': 0, 'is_it_a_dog': 0, 'is_the_owner_there': 0, 'color': 0, 'breed': 0, 'tail': 0, 'address': 'ЮЗАО улица Академика Семёнова, дом 3', 'cam_id': 'PVN_hd_UZAQ_8740_4', 'date': None}\n",
            "{'filename': 'B78.jpg', 'is_animal_there': 1, 'is_it_a_dog': 0, 'is_the_owner_there': 0, 'color': 0, 'breed': 0, 'tail': 0, 'address': None, 'cam_id': None, 'date': None}\n",
            "{'filename': 'B101.jpg', 'is_animal_there': 0, 'is_it_a_dog': 0, 'is_the_owner_there': 0, 'color': 0, 'breed': 0, 'tail': 0, 'address': None, 'cam_id': 'РУМЧ_В9 ЦУАО_8772_3', 'date': '27 сент. 2021, 17:26:11'}\n",
            "{'filename': 'B90.jpg', 'is_animal_there': 0, 'is_it_a_dog': 0, 'is_the_owner_there': 0, 'color': 0, 'breed': 0, 'tail': 0, 'address': None, 'cam_id': None, 'date': '27 сент. 2021, 07:11:36'}\n",
            "{'filename': 'А36.jpg', 'is_animal_there': 1, 'is_it_a_dog': 1, 'is_the_owner_there': 0, 'color': 3, 'breed': 'a chihuahua', 'tail': 1, 'address': \"P'¥N_hd_SZA0_5745_1\", 'cam_id': 'СЗАО улица Исаковского, дом 28, корпус 1', 'date': '28 сент. 2021, 07:32:05'}\n",
            "{'filename': 'B25.jpg', 'is_animal_there': 0, 'is_it_a_dog': 0, 'is_the_owner_there': 0, 'color': 0, 'breed': 0, 'tail': 0, 'address': None, 'cam_id': None, 'date': None}\n",
            "{'filename': 'B59.jpg', 'is_animal_there': 1, 'is_it_a_dog': 1, 'is_the_owner_there': 1, 'color': 1, 'breed': 'a rottweiler', 'tail': 1, 'address': None, 'cam_id': None, 'date': None}\n",
            "{'filename': 'С48.jpg', 'is_animal_there': 0, 'is_it_a_dog': 0, 'is_the_owner_there': 0, 'color': 0, 'breed': 0, 'tail': 0, 'address': None, 'cam_id': None, 'date': None}\n",
            "{'filename': 'С25.jpg', 'is_animal_there': 0, 'is_it_a_dog': 0, 'is_the_owner_there': 0, 'color': 0, 'breed': 0, 'tail': 0, 'address': None, 'cam_id': None, 'date': None}\n",
            "{'filename': 'А10.jpg', 'is_animal_there': 0, 'is_it_a_dog': 0, 'is_the_owner_there': 0, 'color': 0, 'breed': 0, 'tail': 0, 'address': 'САО Ленинградский проспект, дом 35', 'cam_id': 'ЦМЧ_ЗАО_027_2', 'date': None}\n",
            "{'filename': 'А31.jpg', 'is_animal_there': 1, 'is_it_a_dog': 0, 'is_the_owner_there': 0, 'color': 0, 'breed': 0, 'tail': 0, 'address': None, 'cam_id': None, 'date': None}\n",
            "{'filename': 'B43.jpg', 'is_animal_there': 1, 'is_it_a_dog': 1, 'is_the_owner_there': 0, 'color': 1, 'breed': 'a border collie', 'tail': 2, 'address': None, 'cam_id': 'СВАО улица Корнейчука, дом 414', 'date': '28 сент. 2021, 08:23:37'}\n",
            "{'filename': 'А67.jpg', 'is_animal_there': 0, 'is_it_a_dog': 0, 'is_the_owner_there': 0, 'color': 0, 'breed': 0, 'tail': 0, 'address': None, 'cam_id': None, 'date': None}\n",
            "{'filename': 'С92.jpg', 'is_animal_there': 1, 'is_it_a_dog': 0, 'is_the_owner_there': 0, 'color': 0, 'breed': 0, 'tail': 0, 'address': 'САО Левобережная улица, дом 4, корпус 12', 'cam_id': \"P'¥N_hd_SAO_6159_54\", 'date': '01 окт. 2021, 06:37:12'}\n",
            "{'filename': 'B44.jpg', 'is_animal_there': 1, 'is_it_a_dog': 1, 'is_the_owner_there': 1, 'color': 3, 'breed': 'a doberman', 'tail': 1, 'address': None, 'cam_id': None, 'date': None}\n",
            "{'filename': 'А68.jpg', 'is_animal_there': 0, 'is_it_a_dog': 0, 'is_the_owner_there': 0, 'color': 0, 'breed': 0, 'tail': 0, 'address': 'ЗАО Филёвский бульвар, дом 15', 'cam_id': \"P'¥N_hd_ZA0_10482_1\", 'date': '28 сент. 2021, 08:24:56'}\n",
            "{'filename': 'С24.jpg', 'is_animal_there': 1, 'is_it_a_dog': 0, 'is_the_owner_there': 0, 'color': 0, 'breed': 0, 'tail': 0, 'address': 'САО Левобережная улица, дом 4, корпус 12', 'cam_id': 'PVN_hd_SAO_6159_54', 'date': '04 окт. 2021, 06:43:04'}\n",
            "{'filename': 'B26.jpg', 'is_animal_there': 1, 'is_it_a_dog': 1, 'is_the_owner_there': 1, 'color': 3, 'breed': 'a basset hound', 'tail': 2, 'address': None, 'cam_id': None, 'date': None}\n",
            "{'filename': 'А96.jpg', 'is_animal_there': 1, 'is_it_a_dog': 1, 'is_the_owner_there': 1, 'color': 1, 'breed': 'a borzoi', 'tail': 2, 'address': \"P'¥N_hd_UZAO_8352_4\", 'cam_id': None, 'date': '27 ceHT. 2021, 07:45:04'}\n",
            "{'filename': 'B70.jpg', 'is_animal_there': 1, 'is_it_a_dog': 1, 'is_the_owner_there': 0, 'color': 2, 'breed': 'a borzoi', 'tail': 2, 'address': 'PVN_hd_TSAO_5300_3', 'cam_id': 'ЦАО Верхняя Сыромятническая улица, дом 2', 'date': '28 сент. 2021, 09:23:53'}\n",
            "{'filename': 'B27.jpg', 'is_animal_there': 1, 'is_it_a_dog': 1, 'is_the_owner_there': 0, 'color': 2, 'breed': 'a basset hound', 'tail': 2, 'address': \"P'¥N_hd_SVAO_3426_1\", 'cam_id': 'СВАО Мелиховская улица, дом 2', 'date': '28 сент. 2021, 09:21:58'}\n",
            "{'filename': 'А11.jpg', 'is_animal_there': 1, 'is_it_a_dog': 1, 'is_the_owner_there': 0, 'color': 2, 'breed': 'a corgi', 'tail': 1, 'address': 'УММЧ_$АО_027_2', 'cam_id': 'САО Ленинградский проспект, дом 35', 'date': '27 сент. 2021, 07:31:09'}\n",
            "{'filename': 'С62.jpg', 'is_animal_there': 1, 'is_it_a_dog': 0, 'is_the_owner_there': 0, 'color': 0, 'breed': 0, 'tail': 0, 'address': None, 'cam_id': None, 'date': None}\n",
            "{'filename': 'B57.jpg', 'is_animal_there': 1, 'is_it_a_dog': 1, 'is_the_owner_there': 1, 'color': 2, 'breed': 'a borzoi', 'tail': 2, 'address': None, 'cam_id': None, 'date': None}\n",
            "{'filename': 'B60.jpg', 'is_animal_there': 1, 'is_it_a_dog': 0, 'is_the_owner_there': 0, 'color': 0, 'breed': 0, 'tail': 0, 'address': 'СВАО улица Бориса Галушкина, дом 18', 'cam_id': \"P'V¥N_hd_SVAO_3081_5\", 'date': '[= Ба 2021, 09:00:38'}\n",
            "{'filename': 'А79.jpg', 'is_animal_there': 1, 'is_it_a_dog': 1, 'is_the_owner_there': 0, 'color': 2, 'breed': 'a bulldog', 'tail': 1, 'address': None, 'cam_id': None, 'date': None}\n",
            "{'filename': 'А59.jpg', 'is_animal_there': 0, 'is_it_a_dog': 0, 'is_the_owner_there': 0, 'color': 0, 'breed': 0, 'tail': 0, 'address': None, 'cam_id': None, 'date': None}\n",
            "{'filename': 'B115.jpg', 'is_animal_there': 1, 'is_it_a_dog': 1, 'is_the_owner_there': 1, 'color': 2, 'breed': 'a husky', 'tail': 2, 'address': 'PVN_hd_SVAQ_3087_5', 'cam_id': 'СВАО улица Бориса Галушкина, дом 25', 'date': '05 окт. 2021, 08:07:36'}\n",
            "{'filename': 'А26.jpg', 'is_animal_there': 1, 'is_it_a_dog': 0, 'is_the_owner_there': 0, 'color': 0, 'breed': 0, 'tail': 0, 'address': 'САО Ленинградский проспект, дом 35', 'cam_id': 'ЦМЧ_ЗАО_027_8', 'date': None}\n",
            "{'filename': 'А90.jpg', 'is_animal_there': 1, 'is_it_a_dog': 1, 'is_the_owner_there': 0, 'color': 2, 'breed': 'a husky', 'tail': 2, 'address': None, 'cam_id': None, 'date': None}\n",
            "{'filename': 'А95.jpg', 'is_animal_there': 1, 'is_it_a_dog': 1, 'is_the_owner_there': 0, 'color': 1, 'breed': 'a rottweiler', 'tail': 1, 'address': 'РУМ_В9 ЦАО_2565_1', 'cam_id': 'ЮАО Домодедовская улица, дом 24, корпус 4', 'date': '04 окт. 2021, 07:15:43'}\n",
            "{'filename': 'B69.jpg', 'is_animal_there': 1, 'is_it_a_dog': 1, 'is_the_owner_there': 0, 'color': 2, 'breed': 'a pekingese', 'tail': 1, 'address': 'PVN_hd_TSAO_5300_3', 'cam_id': 'ЦАО Верхняя Сыромятническая улица, дом 2', 'date': '28 сент. 2021, 09:22:38'}\n",
            "{'filename': 'А87.jpg', 'is_animal_there': 1, 'is_it_a_dog': 1, 'is_the_owner_there': 0, 'color': 2, 'breed': 'a husky', 'tail': 2, 'address': \"P'¥N_hd_UZAO_8297_1\", 'cam_id': 'ЮЗАО Севастопольский проспект, дом 50/11', 'date': '27 сент. 2021, 07:58:55'}\n",
            "{'filename': 'С32.jpg', 'is_animal_there': 0, 'is_it_a_dog': 0, 'is_the_owner_there': 0, 'color': 0, 'breed': 0, 'tail': 0, 'address': 'САО Левобережная улица, дом 4, корпус 12', 'cam_id': 'PVN_hd_SAO_6159_54', 'date': '04 окт. 2021, 06:43:12'}\n",
            "{'filename': 'B82.jpg', 'is_animal_there': 0, 'is_it_a_dog': 0, 'is_the_owner_there': 0, 'color': 0, 'breed': 0, 'tail': 0, 'address': None, 'cam_id': None, 'date': None}\n",
            "{'filename': 'А53.jpg', 'is_animal_there': 1, 'is_it_a_dog': 0, 'is_the_owner_there': 0, 'color': 0, 'breed': 0, 'tail': 0, 'address': 'ЗАО улица Крылатские Холмы, дом 32, корпус', 'cam_id': 'РУМ_В9 7АО_9544_4', 'date': '28 сент. 2021, 07:55:41'}\n",
            "{'filename': 'А102.jpg', 'is_animal_there': 1, 'is_it_a_dog': 1, 'is_the_owner_there': 0, 'color': 2, 'breed': 'a husky', 'tail': 2, 'address': None, 'cam_id': None, 'date': None}\n",
            "{'filename': 'А34.jpg', 'is_animal_there': 1, 'is_it_a_dog': 1, 'is_the_owner_there': 0, 'color': 2, 'breed': 'a borzoi', 'tail': 2, 'address': \"P'¥N_hd_SZA0_5745_1\", 'cam_id': 'СЗАО улица Исаковского, дом 28, корпус 1', 'date': '28 сент. 2021, 06:55:42'}\n",
            "{'filename': 'А72.jpg', 'is_animal_there': 1, 'is_it_a_dog': 1, 'is_the_owner_there': 0, 'color': 1, 'breed': 'a spitz', 'tail': 1, 'address': None, 'cam_id': 'ЮАО Днепропетровская улица, дом 31', 'date': '27 сент. 2021, 07:06:41'}\n",
            "{'filename': 'А21.jpg', 'is_animal_there': 1, 'is_it_a_dog': 0, 'is_the_owner_there': 0, 'color': 0, 'breed': 0, 'tail': 0, 'address': 'САО Ленинградский проспект, дом 35', 'cam_id': 'УММ_$5АО_027_7', 'date': '27 сент. 2021, 06:56:06'}\n",
            "{'filename': 'С44.jpg', 'is_animal_there': 1, 'is_it_a_dog': 1, 'is_the_owner_there': 0, 'color': 2, 'breed': 'a chihuahua', 'tail': 1, 'address': None, 'cam_id': None, 'date': None}\n",
            "{'filename': 'B11.jpg', 'is_animal_there': 1, 'is_it_a_dog': 1, 'is_the_owner_there': 1, 'color': 2, 'breed': 'a bulldog', 'tail': 1, 'address': None, 'cam_id': None, 'date': None}\n",
            "{'filename': 'А8.jpg', 'is_animal_there': 1, 'is_it_a_dog': 0, 'is_the_owner_there': 0, 'color': 0, 'breed': 0, 'tail': 0, 'address': None, 'cam_id': None, 'date': None}\n",
            "{'filename': 'B65.jpg', 'is_animal_there': 1, 'is_it_a_dog': 1, 'is_the_owner_there': 1, 'color': 2, 'breed': 'a borzoi', 'tail': 2, 'address': 'PVN_hd_TSAO_5300_3', 'cam_id': 'ЦАО Верхняя Сыромятническая улица, дом 2', 'date': '28 сент. 2021, 08:26:15'}\n",
            "{'filename': 'B117.jpg', 'is_animal_there': 1, 'is_it_a_dog': 1, 'is_the_owner_there': 0, 'color': 2, 'breed': 'a caucasian shepherd dog', 'tail': 1, 'address': None, 'cam_id': None, 'date': None}\n",
            "{'filename': 'А27.jpg', 'is_animal_there': 1, 'is_it_a_dog': 1, 'is_the_owner_there': 0, 'color': 2, 'breed': 'a labrador', 'tail': 2, 'address': None, 'cam_id': None, 'date': None}\n",
            "{'filename': 'B84.jpg', 'is_animal_there': 1, 'is_it_a_dog': 0, 'is_the_owner_there': 0, 'color': 0, 'breed': 0, 'tail': 0, 'address': 'СВАО улица Бориса Галушкина, дом 25', 'cam_id': \"P'¥N_hd_SVAO_3087_5\", 'date': '05 окт. 2021, 07:47:15'}\n",
            "{'filename': 'А28.jpg', 'is_animal_there': 0, 'is_it_a_dog': 0, 'is_the_owner_there': 0, 'color': 0, 'breed': 0, 'tail': 0, 'address': 'САО Ленинградский проспект, дом 35', 'cam_id': 'ЦМЧ_ЗАО_027_8', 'date': '27 сент. 2021, 08:15:34'}\n",
            "{'filename': 'А91.jpg', 'is_animal_there': 1, 'is_it_a_dog': 1, 'is_the_owner_there': 1, 'color': 2, 'breed': 'a borzoi', 'tail': 2, 'address': None, 'cam_id': None, 'date': None}\n",
            "{'filename': 'А13.jpg', 'is_animal_there': 0, 'is_it_a_dog': 0, 'is_the_owner_there': 0, 'color': 0, 'breed': 0, 'tail': 0, 'address': None, 'cam_id': None, 'date': None}\n",
            "{'filename': 'B45.jpg', 'is_animal_there': 1, 'is_it_a_dog': 1, 'is_the_owner_there': 0, 'color': 2, 'breed': 'a toy terrier', 'tail': 1, 'address': None, 'cam_id': None, 'date': '28 сент. 2021, 08:27:01'}\n",
            "{'filename': 'С36.jpg', 'is_animal_there': 1, 'is_it_a_dog': 1, 'is_the_owner_there': 0, 'color': 2, 'breed': 'a chihuahua', 'tail': 1, 'address': 'PVN_hd_UAO_7270_3', 'cam_id': 'ЮАО 1-й Нижний Михайловский проезд, дом |', 'date': '29 сент. 2021, 06:48:15'}\n",
            "{'filename': 'B83.jpg', 'is_animal_there': 0, 'is_it_a_dog': 0, 'is_the_owner_there': 0, 'color': 0, 'breed': 0, 'tail': 0, 'address': 'СВАО улица Бориса Галушкина, дом 18', 'cam_id': \"P'V¥N_hd_SVAO_3081_5\", 'date': '05 окт. 2021, 08:03:42'}\n",
            "{'filename': 'А43.jpg', 'is_animal_there': 0, 'is_it_a_dog': 0, 'is_the_owner_there': 0, 'color': 0, 'breed': 0, 'tail': 0, 'address': 'ЦАО Шелепихинская набережная, дом 22', 'cam_id': \"P'¥N_hd_TSAO_4915_2\", 'date': '28 сент. 2021, 07:04:28'}\n",
            "{'filename': 'B33.jpg', 'is_animal_there': 1, 'is_it_a_dog': 1, 'is_the_owner_there': 0, 'color': 2, 'breed': 'a samoyed', 'tail': 2, 'address': \"P'¥N_hd_SVAO_3055_1\", 'cam_id': 'СВАО проспект Мира, дом 182, корпус 3', 'date': '05 окт. 2021, 08:15:52'}\n",
            "{'filename': 'А99.jpg', 'is_animal_there': 1, 'is_it_a_dog': 1, 'is_the_owner_there': 0, 'color': 2, 'breed': 'a chihuahua', 'tail': 1, 'address': \"P'¥N_hd_UZAO_8352_4\", 'cam_id': 'ЮЗАО улица Каховка, дом 18, корпус 5', 'date': '27 сент. 2021. 08:09:03'}\n",
            "{'filename': 'С37.jpg', 'is_animal_there': 1, 'is_it_a_dog': 1, 'is_the_owner_there': 1, 'color': 2, 'breed': 'a samoyed', 'tail': 2, 'address': 'PVN_hd_UAO_7270_3', 'cam_id': 'ЮАО 1-й Нижний Михайловский проезд, дом |', 'date': None}\n",
            "{'filename': 'А52.jpg', 'is_animal_there': 1, 'is_it_a_dog': 1, 'is_the_owner_there': 0, 'color': 2, 'breed': 'a chihuahua', 'tail': 1, 'address': \"P'V¥N_hd_TSAO_4915_2\", 'cam_id': None, 'date': '28 сент. 2021, 08:02:18'}\n",
            "{'filename': 'B94.jpg', 'is_animal_there': 0, 'is_it_a_dog': 0, 'is_the_owner_there': 0, 'color': 0, 'breed': 0, 'tail': 0, 'address': 'СВАО проезд Черского, дом 5', 'cam_id': \"P'¥N_hd_SVAO_1325_1\", 'date': None}\n",
            "{'filename': 'B116.jpg', 'is_animal_there': 1, 'is_it_a_dog': 1, 'is_the_owner_there': 1, 'color': 2, 'breed': 'a chihuahua', 'tail': 1, 'address': None, 'cam_id': None, 'date': None}\n",
            "{'filename': 'А9.jpg', 'is_animal_there': 1, 'is_it_a_dog': 1, 'is_the_owner_there': 0, 'color': 2, 'breed': 'a labrador', 'tail': 2, 'address': None, 'cam_id': None, 'date': None}\n",
            "{'filename': 'B6.jpg', 'is_animal_there': 1, 'is_it_a_dog': 1, 'is_the_owner_there': 0, 'color': 2, 'breed': 'a chihuahua', 'tail': 1, 'address': \"P'¥N_hd_SVAO_1652_1\", 'cam_id': 'СВАО улица Академика Королёва, дом 28, кор', 'date': None}\n",
            "{'filename': 'А51.jpg', 'is_animal_there': 1, 'is_it_a_dog': 1, 'is_the_owner_there': 0, 'color': 2, 'breed': 'a chihuahua', 'tail': 1, 'address': None, 'cam_id': None, 'date': None}\n",
            "{'filename': 'А74.jpg', 'is_animal_there': 1, 'is_it_a_dog': 1, 'is_the_owner_there': 0, 'color': 3, 'breed': 'a chihuahua', 'tail': 1, 'address': \"P'¥N_hd_UZAO_1100_15\", 'cam_id': 'ЮЗАО улицайкадемика Варги, дом 28', 'date': '04 окт. 2021, 07:38:23'}\n",
            "{'filename': 'С57.jpg', 'is_animal_there': 0, 'is_it_a_dog': 0, 'is_the_owner_there': 0, 'color': 0, 'breed': 0, 'tail': 0, 'address': 'САО Левобережная улица, дом 4, корпус 12', 'cam_id': \"P'¥N_hd_SAO_6159_54\", 'date': '29 сент. 2021, 07:19:23'}\n",
            "{'filename': 'А41.jpg', 'is_animal_there': 1, 'is_it_a_dog': 1, 'is_the_owner_there': 0, 'color': 2, 'breed': 'a samoyed', 'tail': 2, 'address': \"P'V¥N_hd_TSAO_4915_2\", 'cam_id': 'ЦАО Шелепихинская набережная, дом 22', 'date': '28 сент. 2021, 06:58:39'}\n",
            "{'filename': 'B46.jpg', 'is_animal_there': 1, 'is_it_a_dog': 1, 'is_the_owner_there': 1, 'color': 3, 'breed': 'a labrador', 'tail': 2, 'address': \"P'¥N_hd_SVAO_3055_1\", 'cam_id': 'СВАО проспект Мира, дом 182, корпус 3', 'date': '05 окт. 2021, 08:52:25'}\n",
            "{'filename': 'С73.jpg', 'is_animal_there': 1, 'is_it_a_dog': 0, 'is_the_owner_there': 0, 'color': 0, 'breed': 0, 'tail': 0, 'address': 'САО Левобережная улица, дом 4, корпус 12', 'cam_id': \"P'¥N_hd_SAO_6159_54\", 'date': '29 сент. 2021, 07:35:18'}\n",
            "{'filename': 'С70.jpg', 'is_animal_there': 0, 'is_it_a_dog': 0, 'is_the_owner_there': 0, 'color': 0, 'breed': 0, 'tail': 0, 'address': None, 'cam_id': None, 'date': None}\n",
            "{'filename': 'А44.jpg', 'is_animal_there': 1, 'is_it_a_dog': 0, 'is_the_owner_there': 0, 'color': 0, 'breed': 0, 'tail': 0, 'address': 'ЦАО Шелепихинская набережная, дом 22', 'cam_id': \"P'¥N_hd_TSAO_4915_2\", 'date': '28 сент. 2021, 07:08:52'}\n",
            "{'filename': 'B56.jpg', 'is_animal_there': 1, 'is_it_a_dog': 0, 'is_the_owner_there': 0, 'color': 0, 'breed': 0, 'tail': 0, 'address': None, 'cam_id': None, 'date': None}\n"
          ]
        }
      ]
    },
    {
      "cell_type": "code",
      "metadata": {
        "colab": {
          "base_uri": "https://localhost:8080/"
        },
        "id": "WdX6cyZnTE28",
        "outputId": "7cf18295-bc19-4c18-a775-e874dd07fe8f"
      },
      "source": [
        "сколько_догов = 0\n",
        "for дог in only_dogs:\n",
        "    сколько_догов += дог[\"is_it_a_dog\"]\n",
        "print(сколько_догов / len(only_dogs))"
      ],
      "execution_count": 352,
      "outputs": [
        {
          "output_type": "stream",
          "name": "stdout",
          "text": [
            "0.47953216374269003\n"
          ]
        }
      ]
    },
    {
      "cell_type": "code",
      "metadata": {
        "colab": {
          "base_uri": "https://localhost:8080/"
        },
        "id": "uGwcJ4L--Xet",
        "outputId": "a6669f63-24da-4840-f580-b463b0959f29"
      },
      "source": [
        "owner_and_dog = []\n",
        "path_to_dir = \"/content/Тестовые снимки/Хоязин и собака\"\n",
        "for image_name in tqdm(os.listdir(path_to_dir)):\n",
        "    path_to_pic = os.path.join(path_to_dir, image_name)\n",
        "    try:\n",
        "        owner_and_dog.append(\n",
        "            find_lost_animal(path_to_pic).res\n",
        "        )\n",
        "    except Exception:\n",
        "        print(\"fucking fuck!!!\")"
      ],
      "execution_count": 345,
      "outputs": [
        {
          "output_type": "stream",
          "name": "stderr",
          "text": [
            "  9%|▉         | 6/67 [00:19<03:05,  3.05s/it]"
          ]
        },
        {
          "output_type": "stream",
          "name": "stdout",
          "text": [
            "fucking fuck!!!\n"
          ]
        },
        {
          "output_type": "stream",
          "name": "stderr",
          "text": [
            " 15%|█▍        | 10/67 [00:28<02:42,  2.85s/it]"
          ]
        },
        {
          "output_type": "stream",
          "name": "stdout",
          "text": [
            "fucking fuck!!!\n"
          ]
        },
        {
          "output_type": "stream",
          "name": "stderr",
          "text": [
            " 42%|████▏     | 28/67 [01:17<02:13,  3.43s/it]"
          ]
        },
        {
          "output_type": "stream",
          "name": "stdout",
          "text": [
            "fucking fuck!!!\n"
          ]
        },
        {
          "output_type": "stream",
          "name": "stderr",
          "text": [
            " 72%|███████▏  | 48/67 [02:13<01:01,  3.25s/it]"
          ]
        },
        {
          "output_type": "stream",
          "name": "stdout",
          "text": [
            "fucking fuck!!!\n"
          ]
        },
        {
          "output_type": "stream",
          "name": "stderr",
          "text": [
            " 93%|█████████▎| 62/67 [02:53<00:18,  3.71s/it]"
          ]
        },
        {
          "output_type": "stream",
          "name": "stdout",
          "text": [
            "fucking fuck!!!\n"
          ]
        },
        {
          "output_type": "stream",
          "name": "stderr",
          "text": [
            "100%|██████████| 67/67 [03:01<00:00,  2.71s/it]\n"
          ]
        }
      ]
    },
    {
      "cell_type": "code",
      "metadata": {
        "colab": {
          "base_uri": "https://localhost:8080/"
        },
        "id": "yRAZj5ZuDylp",
        "outputId": "fe20bd38-99bb-4da7-9538-5fb6d06aa11a"
      },
      "source": [
        "print(*owner_and_dog, sep=\"\\n\")"
      ],
      "execution_count": 346,
      "outputs": [
        {
          "output_type": "stream",
          "name": "stdout",
          "text": [
            "{'filename': 'А61.jpg', 'is_animal_there': 1, 'is_it_a_dog': 1, 'is_the_owner_there': 1, 'color': 1, 'breed': 'a labrador', 'tail': 2, 'address': 'РУМ_НЯ 7АС_9544_4', 'cam_id': 'ЗАО улица Крылатские Холмы, дом 32, корпус', 'date': '28 сент. 2021, 07:45:09'}\n",
            "{'filename': 'А15.jpg', 'is_animal_there': 1, 'is_it_a_dog': 1, 'is_the_owner_there': 1, 'color': 2, 'breed': 'a bull terrier', 'tail': 2, 'address': 'УММ_$АО_027_2', 'cam_id': 'САО Ленинградский проспект, дом 35', 'date': '27 сент. 2021, 08:53:48'}\n",
            "{'filename': 'B58.jpg', 'is_animal_there': 1, 'is_it_a_dog': 1, 'is_the_owner_there': 1, 'color': 2, 'breed': 'a borzoi', 'tail': 2, 'address': 'PVN_hd_TSAO_5300_3', 'cam_id': 'ЦАО Верхняя Сыромятническая улица, дом 2', 'date': '28 сент. 2021, 07:24:20'}\n",
            "{'filename': 'С26.jpg', 'is_animal_there': 1, 'is_it_a_dog': 0, 'is_the_owner_there': 0, 'color': 0, 'breed': 0, 'tail': 0, 'address': 'ЦАО Центросоюзный переулок, дом 4', 'cam_id': 'PVN_hd_TSAO_3647_1', 'date': '29 сент. 2021, 05:35:00'}\n",
            "{'filename': 'С91.jpg', 'is_animal_there': 1, 'is_it_a_dog': 0, 'is_the_owner_there': 0, 'color': 0, 'breed': 0, 'tail': 0, 'address': 'САО Левобережная улица, дом 4, корпус 12', 'cam_id': \"P'V¥N_hd_SAO_6159_54\", 'date': '01 окт. 2021, 06:35:31'}\n",
            "{'filename': 'А92.jpg', 'is_animal_there': 1, 'is_it_a_dog': 1, 'is_the_owner_there': 1, 'color': 1, 'breed': 'a cocker spaniel', 'tail': 1, 'address': 'PVN_hd_UZAG_8297_1', 'cam_id': 'ЮЗАО Севастопольский проспект, дом 50/11', 'date': 'ИА 2021, 07:21:56'}\n",
            "{'filename': 'B81.jpg', 'is_animal_there': 0, 'is_it_a_dog': 0, 'is_the_owner_there': 0, 'color': 0, 'breed': 0, 'tail': 0, 'address': None, 'cam_id': None, 'date': None}\n",
            "{'filename': 'С88.jpg', 'is_animal_there': 1, 'is_it_a_dog': 1, 'is_the_owner_there': 1, 'color': 1, 'breed': 'a rottweiler', 'tail': 1, 'address': \"P'¥N_hd_TSAO_3647_1\", 'cam_id': None, 'date': None}\n",
            "{'filename': 'С60.jpg', 'is_animal_there': 1, 'is_it_a_dog': 1, 'is_the_owner_there': 1, 'color': 1, 'breed': 'a labrador', 'tail': 2, 'address': \"P'¥N_hd_TSAO_3647_1\", 'cam_id': None, 'date': None}\n",
            "{'filename': 'С45.jpg', 'is_animal_there': 1, 'is_it_a_dog': 1, 'is_the_owner_there': 1, 'color': 2, 'breed': 'a st. bernard', 'tail': 2, 'address': None, 'cam_id': 'САО Ленинградское шоссе, дом 35', 'date': 'ОБ окт. 2021, 11:42:10'}\n",
            "{'filename': 'С58.jpg', 'is_animal_there': 1, 'is_it_a_dog': 0, 'is_the_owner_there': 0, 'color': 0, 'breed': 0, 'tail': 0, 'address': 'САО Левобережная улица, дом 4, корпус 12', 'cam_id': \"P'V¥N_hd_SAO_6159_54\", 'date': '29 сент. 2021. 07:19:25'}\n",
            "{'filename': 'А24.jpg', 'is_animal_there': 1, 'is_it_a_dog': 0, 'is_the_owner_there': 0, 'color': 0, 'breed': 0, 'tail': 0, 'address': 'САО Ленинградский проспект, дом 35', 'cam_id': 'ЦМЧ_ЗАО_027_8', 'date': '27 сент. 2021, 05:53:49'}\n",
            "{'filename': 'С97.jpg', 'is_animal_there': 1, 'is_it_a_dog': 0, 'is_the_owner_there': 0, 'color': 0, 'breed': 0, 'tail': 0, 'address': 'ЦАО Центросоюзный переулок, дом 4', 'cam_id': 'PVN_hd_TSAO_3647_1', 'date': 'tani OKT. 2021, 06:50:16'}\n",
            "{'filename': 'А14.jpg', 'is_animal_there': 1, 'is_it_a_dog': 1, 'is_the_owner_there': 1, 'color': 2, 'breed': 'a corgi', 'tail': 1, 'address': 'УММ_$АО_027_2', 'cam_id': 'САО Ленинградский проспект, дом 35', 'date': '27 сент. 2021, 08:07:48'}\n",
            "{'filename': 'С46.jpg', 'is_animal_there': 1, 'is_it_a_dog': 0, 'is_the_owner_there': 0, 'color': 0, 'breed': 0, 'tail': 0, 'address': 'САО Левобережная улица, дом 4, корпус 12', 'cam_id': \"P'V¥N_hd_SAO_6159_54\", 'date': None}\n",
            "{'filename': 'B38.jpg', 'is_animal_there': 1, 'is_it_a_dog': 1, 'is_the_owner_there': 1, 'color': 1, 'breed': 'a chihuahua', 'tail': 1, 'address': None, 'cam_id': 'СВАО улица Корнейчука, дом 414', 'date': '28 сент. 2021, 07:30:54'}\n",
            "{'filename': 'С66.jpg', 'is_animal_there': 0, 'is_it_a_dog': 0, 'is_the_owner_there': 0, 'color': 0, 'breed': 0, 'tail': 0, 'address': None, 'cam_id': \"P'¥N_hd_TSAO_3647_1\", 'date': '29 сент. 2021, 07:20:48'}\n",
            "{'filename': 'B29.jpg', 'is_animal_there': 1, 'is_it_a_dog': 1, 'is_the_owner_there': 1, 'color': 2, 'breed': 'a jack russell terrier', 'tail': 2, 'address': \"P'¥N_hd_SVAO_3426_1\", 'cam_id': None, 'date': '28 сент. 2021, 09:59:28'}\n",
            "{'filename': 'А65.jpg', 'is_animal_there': 1, 'is_it_a_dog': 1, 'is_the_owner_there': 1, 'color': 2, 'breed': 'a deutscher boxer', 'tail': 1, 'address': \"P'¥N_hd_ZAO_10482_1\", 'cam_id': 'ЗАО Филёвский бульвар, дом 15', 'date': '28 сент. 2021, 07:09:07'}\n",
            "{'filename': 'B68.jpg', 'is_animal_there': 1, 'is_it_a_dog': 1, 'is_the_owner_there': 1, 'color': 2, 'breed': 'a deutscher boxer', 'tail': 1, 'address': 'PVN_hd_TSAO_5300_3', 'cam_id': 'ЦАО Верхняя Сыромятническая улица, дом 2', 'date': '28 сент. 2021, 09:22:34'}\n",
            "{'filename': 'С43.jpg', 'is_animal_there': 0, 'is_it_a_dog': 0, 'is_the_owner_there': 0, 'color': 0, 'breed': 0, 'tail': 0, 'address': 'САО Левобережная улица, дом 4, корпус 12', 'cam_id': \"P'V¥N_hd_SAO_6159_54\", 'date': '29 сент. 2021. 06:56:37'}\n",
            "{'filename': 'А69.jpg', 'is_animal_there': 1, 'is_it_a_dog': 1, 'is_the_owner_there': 1, 'color': 2, 'breed': 'a borzoi', 'tail': 2, 'address': \"P'¥N_hd_ZAO_10482_1\", 'cam_id': 'ЗАО Филёвский бульвар, дом 15', 'date': '28 сент. 2021, 07:57:51'}\n",
            "{'filename': 'С84.jpg', 'is_animal_there': 0, 'is_it_a_dog': 0, 'is_the_owner_there': 0, 'color': 0, 'breed': 0, 'tail': 0, 'address': None, 'cam_id': \"P'¥N_hd_TSAO_3647_1\", 'date': None}\n",
            "{'filename': 'С56.jpg', 'is_animal_there': 1, 'is_it_a_dog': 1, 'is_the_owner_there': 1, 'color': 2, 'breed': 'a chihuahua', 'tail': 1, 'address': \"P'V¥N_hd_SAO_6159_54\", 'cam_id': 'САО Левобережная улица, дом 4, корпус 12', 'date': '29 сент. 2021, 07:13:57'}\n",
            "{'filename': 'С86.jpg', 'is_animal_there': 0, 'is_it_a_dog': 0, 'is_the_owner_there': 0, 'color': 0, 'breed': 0, 'tail': 0, 'address': 'ВАО улица Сокольнический Вал, дом 1, строение 1', 'cam_id': 'РАВК_\\\\/А0_197_14_57', 'date': '29 сент. 2021. 06:55:12'}\n",
            "{'filename': 'С51.jpg', 'is_animal_there': 1, 'is_it_a_dog': 1, 'is_the_owner_there': 1, 'color': 2, 'breed': 'a labrador', 'tail': 2, 'address': 'PVN_hd_UAO_7270_3', 'cam_id': 'ЮАО 1-й Нижний Михайловский проезд, дом |', 'date': 'a) cara 05:54:26'}\n",
            "{'filename': 'А32.jpg', 'is_animal_there': 0, 'is_it_a_dog': 0, 'is_the_owner_there': 0, 'color': 0, 'breed': 0, 'tail': 0, 'address': None, 'cam_id': None, 'date': None}\n",
            "{'filename': 'B31.jpg', 'is_animal_there': 1, 'is_it_a_dog': 1, 'is_the_owner_there': 1, 'color': 1, 'breed': 'a german shepherd', 'tail': 2, 'address': 'PVN_hd_SVAG_3426_1', 'cam_id': 'СВАО Мелиховская улица, дом 2', 'date': '28 сент. 2021, 17:12:15'}\n",
            "{'filename': 'А42.jpg', 'is_animal_there': 0, 'is_it_a_dog': 0, 'is_the_owner_there': 0, 'color': 0, 'breed': 0, 'tail': 0, 'address': 'ЦАО Шелепихинская набережная, дом 22', 'cam_id': \"P'¥N_hd_TSAO_4915_2\", 'date': '28 сент. 2021, 07:03:00'}\n",
            "{'filename': 'С63.jpg', 'is_animal_there': 0, 'is_it_a_dog': 0, 'is_the_owner_there': 0, 'color': 0, 'breed': 0, 'tail': 0, 'address': None, 'cam_id': \"P'¥N_hd_TSAO_3647_1\", 'date': 'O4 okt. 2021, 06:54:35'}\n",
            "{'filename': 'А57.jpg', 'is_animal_there': 1, 'is_it_a_dog': 1, 'is_the_owner_there': 1, 'color': 2, 'breed': 'a labrador', 'tail': 2, 'address': 'РУМ_НЯ 7АС_9544_4', 'cam_id': 'ЗАО улица Крылатские Холмы, дом 32, корпус', 'date': '28 сент. 2021, 08:19:23'}\n",
            "{'filename': 'А75.jpg', 'is_animal_there': 1, 'is_it_a_dog': 1, 'is_the_owner_there': 1, 'color': 1, 'breed': 'a toy terrier', 'tail': 1, 'address': \"P'V¥N_hd_UAG_2409_1\", 'cam_id': 'ЮАО Чертановская улица, дом 8, корпус 1', 'date': '27 сент. 2021. 07:08:40'}\n",
            "{'filename': 'С49.jpg', 'is_animal_there': 0, 'is_it_a_dog': 0, 'is_the_owner_there': 0, 'color': 0, 'breed': 0, 'tail': 0, 'address': 'САО Левобережная улица, дом 4, корпус 12', 'cam_id': \"P'V¥N_hd_SAO_6159_54\", 'date': '29 сент. 2021, 07:03:23'}\n",
            "{'filename': 'С76.jpg', 'is_animal_there': 1, 'is_it_a_dog': 0, 'is_the_owner_there': 0, 'color': 0, 'breed': 0, 'tail': 0, 'address': 'САО Левобережная улица, дом 4, корпус 12', 'cam_id': \"P'V¥N_hd_SAO_6159_54\", 'date': '29 сент. 2021, 07:51:03'}\n",
            "{'filename': 'С69.jpg', 'is_animal_there': 0, 'is_it_a_dog': 0, 'is_the_owner_there': 0, 'color': 0, 'breed': 0, 'tail': 0, 'address': None, 'cam_id': \"P'¥N_hd_TSAO_3647_1\", 'date': None}\n",
            "{'filename': 'С29.jpg', 'is_animal_there': 0, 'is_it_a_dog': 0, 'is_the_owner_there': 0, 'color': 0, 'breed': 0, 'tail': 0, 'address': 'САО Левобережная улица, дом 4, корпус 12', 'cam_id': \"P'V¥N_hd_SAO_6159_54\", 'date': 'Зв 2021, 06:43:06'}\n",
            "{'filename': 'С53.jpg', 'is_animal_there': 0, 'is_it_a_dog': 0, 'is_the_owner_there': 0, 'color': 0, 'breed': 0, 'tail': 0, 'address': 'САО Левобережная улица, дом 4, корпус 12', 'cam_id': \"P'V¥N_hd_SAO_6159_54\", 'date': '24 сент. 2021, 13:57:28'}\n",
            "{'filename': 'А47.jpg', 'is_animal_there': 0, 'is_it_a_dog': 0, 'is_the_owner_there': 0, 'color': 0, 'breed': 0, 'tail': 0, 'address': 'ЦАО Шелепихинская набережная, дом 22', 'cam_id': \"P'¥N_hd_TSAO_4915_2\", 'date': '28 сент. 2021, 07:13:26'}\n",
            "{'filename': 'С41.jpg', 'is_animal_there': 1, 'is_it_a_dog': 1, 'is_the_owner_there': 1, 'color': 3, 'breed': 'a chihuahua', 'tail': 1, 'address': 'P¥N_hd_UAG_7270_3', 'cam_id': 'ЮАО 1-й Нижний Михайловский проезд, дом |', 'date': '29 сент. 2021, 06:51:10'}\n",
            "{'filename': 'B35.jpg', 'is_animal_there': 1, 'is_it_a_dog': 1, 'is_the_owner_there': 1, 'color': 1, 'breed': 'a doberman', 'tail': 1, 'address': None, 'cam_id': 'СВАО улица Корнейчука, дом 414', 'date': '28 сент. 2021, 07:16:11'}\n",
            "{'filename': 'А70.jpg', 'is_animal_there': 1, 'is_it_a_dog': 0, 'is_the_owner_there': 0, 'color': 0, 'breed': 0, 'tail': 0, 'address': 'ЮАО Днепропетровская улица, дом 31', 'cam_id': None, 'date': '| 27 сент. 2021, 07:12:28'}\n",
            "{'filename': 'А22.jpg', 'is_animal_there': 1, 'is_it_a_dog': 1, 'is_the_owner_there': 1, 'color': 2, 'breed': 'a pug', 'tail': 1, 'address': 'Архив УММ_$5АО_027_7', 'cam_id': 'САО Ленинградский проспект, дом 35', 'date': 'Е сент. 2021, 07:30:42'}\n",
            "{'filename': 'А45.jpg', 'is_animal_there': 0, 'is_it_a_dog': 0, 'is_the_owner_there': 0, 'color': 0, 'breed': 0, 'tail': 0, 'address': 'ЦАО Шелепихинская набережная, дом 22', 'cam_id': \"P'¥N_hd_TSAO_4915_2\", 'date': '28 сент. 2021, 08:28:51'}\n",
            "{'filename': 'С30.jpg', 'is_animal_there': 1, 'is_it_a_dog': 1, 'is_the_owner_there': 0, 'color': 1, 'breed': 'a newfoundland', 'tail': 2, 'address': \"P'¥N_hd_TSAO_3647_1\", 'cam_id': None, 'date': None}\n",
            "{'filename': 'С79.jpg', 'is_animal_there': 1, 'is_it_a_dog': 0, 'is_the_owner_there': 0, 'color': 0, 'breed': 0, 'tail': 0, 'address': 'ЦАО Миусская площадь, дом 5', 'cam_id': 'PVN_hd TSAO _5467_1', 'date': '29 сент. 2021, 06:36:46'}\n",
            "{'filename': 'С83.jpg', 'is_animal_there': 1, 'is_it_a_dog': 0, 'is_the_owner_there': 0, 'color': 0, 'breed': 0, 'tail': 0, 'address': 'ВАО улица Преображенский Вал, дом 24, корп', 'cam_id': 'РУМ_НЯ МАО_5390_22', 'date': '29 сент. 2021, 06:39:37'}\n",
            "{'filename': 'B72.jpg', 'is_animal_there': 1, 'is_it_a_dog': 1, 'is_the_owner_there': 1, 'color': 2, 'breed': 'a borzoi', 'tail': 2, 'address': 'PVN_hd_TSAO_5300_3', 'cam_id': 'ЦАО Верхняя Сыромятническая улица, дом 2', 'date': '28 сент. 2021, 10:07:40'}\n",
            "{'filename': 'А84.jpg', 'is_animal_there': 1, 'is_it_a_dog': 1, 'is_the_owner_there': 1, 'color': 2, 'breed': 'a labrador', 'tail': 2, 'address': 'P¥N_hd_UZAO_7277_1', 'cam_id': 'ЮЗАО улица Каховка, дом 5, корпус 4', 'date': 'а сент. 2021, 07:06:22'}\n",
            "{'filename': 'А35.jpg', 'is_animal_there': 0, 'is_it_a_dog': 0, 'is_the_owner_there': 0, 'color': 0, 'breed': 0, 'tail': 0, 'address': 'СЗАО улица Исаковского, дом 28, корпус 1', 'cam_id': \"P'¥N_hd_SZA0_5745_1\", 'date': '28 сент. 2021, 07:45:37'}\n",
            "{'filename': 'А18.jpg', 'is_animal_there': 0, 'is_it_a_dog': 0, 'is_the_owner_there': 0, 'color': 0, 'breed': 0, 'tail': 0, 'address': None, 'cam_id': None, 'date': None}\n",
            "{'filename': 'С93.jpg', 'is_animal_there': 1, 'is_it_a_dog': 0, 'is_the_owner_there': 0, 'color': 0, 'breed': 0, 'tail': 0, 'address': 'САО Левобережная улица, дом 4, корпус 12', 'cam_id': \"P'V¥N_hd_SAO_6159_54\", 'date': '01 окт. 2021, 06:37:12'}\n",
            "{'filename': 'B21.jpg', 'is_animal_there': 1, 'is_it_a_dog': 1, 'is_the_owner_there': 1, 'color': 2, 'breed': 'a chihuahua', 'tail': 1, 'address': 'PVN_hd_SVAG_3426_1', 'cam_id': 'СВАО Мелиховская улица, дом 2', 'date': '28 сент. 2021, 08:07:54'}\n",
            "{'filename': 'А2.jpg', 'is_animal_there': 1, 'is_it_a_dog': 1, 'is_the_owner_there': 1, 'color': 1, 'breed': 'a labrador', 'tail': 2, 'address': \"P'VN_hd_SZAO_36_3\", 'cam_id': None, 'date': None}\n",
            "{'filename': 'С85.jpg', 'is_animal_there': 0, 'is_it_a_dog': 0, 'is_the_owner_there': 0, 'color': 0, 'breed': 0, 'tail': 0, 'address': None, 'cam_id': 'РАВК_\\\\АО_197_14_30', 'date': '29 сент. 2021, 05:50:43'}\n",
            "{'filename': 'С74.jpg', 'is_animal_there': 0, 'is_it_a_dog': 0, 'is_the_owner_there': 0, 'color': 0, 'breed': 0, 'tail': 0, 'address': 'ЮАО 1-й Нижний Михайловский проезд, дом |', 'cam_id': 'P¥N_hd_UAG_7270_3', 'date': 'Fa | ue 2021, 07:38:37'}\n",
            "{'filename': 'B22.jpg', 'is_animal_there': 1, 'is_it_a_dog': 1, 'is_the_owner_there': 1, 'color': 1, 'breed': 'a basset hound', 'tail': 2, 'address': \"P'¥N_hd_SVAO_3426_1\", 'cam_id': 'СВАО Мелиховская улица, дом 2', 'date': '28 сент. 2021, 08:31:02'}\n",
            "{'filename': 'А63.jpg', 'is_animal_there': 1, 'is_it_a_dog': 1, 'is_the_owner_there': 1, 'color': 3, 'breed': 'a rottweiler', 'tail': 1, 'address': 'РУМ_НЯ 7АС_9544_4', 'cam_id': 'ЗАО улица Крылатские Холмы, дом 32, корпус', 'date': '28 сент. 2021, 07:27:03'}\n",
            "{'filename': 'С99.jpg', 'is_animal_there': 1, 'is_it_a_dog': 1, 'is_the_owner_there': 1, 'color': 2, 'breed': 'a chihuahua', 'tail': 1, 'address': 'PVN_hd_TSAO_3647_1', 'cam_id': 'ЦАО Центросоюзный переулок, дом 4', 'date': '01 OKT. 2021, 06:51:08'}\n",
            "{'filename': 'С28.jpg', 'is_animal_there': 1, 'is_it_a_dog': 0, 'is_the_owner_there': 0, 'color': 0, 'breed': 0, 'tail': 0, 'address': None, 'cam_id': \"P'¥N_hd_TSAO_3647_1\", 'date': None}\n",
            "{'filename': 'А29.jpg', 'is_animal_there': 1, 'is_it_a_dog': 1, 'is_the_owner_there': 1, 'color': 2, 'breed': 'a spitz', 'tail': 1, 'address': 'ЦМЧ_ЗАО_027_8', 'cam_id': 'САО Ленинградский проспект, дом 35', 'date': '27 сент. 2021, 08:39:57'}\n",
            "{'filename': 'B28.jpg', 'is_animal_there': 0, 'is_it_a_dog': 0, 'is_the_owner_there': 0, 'color': 0, 'breed': 0, 'tail': 0, 'address': 'СВАО Мелиховская улица, дом 2', 'cam_id': \"P'¥N_hd_SVAO_3426_1\", 'date': '28 сент. 2021, 09:43:47'}\n",
            "{'filename': 'B8.jpg', 'is_animal_there': 0, 'is_it_a_dog': 0, 'is_the_owner_there': 0, 'color': 0, 'breed': 0, 'tail': 0, 'address': None, 'cam_id': None, 'date': None}\n"
          ]
        }
      ]
    },
    {
      "cell_type": "code",
      "metadata": {
        "id": "eDVCQrWoDu60"
      },
      "source": [
        "owner_and_dog_copy = deepcopy(owner_and_dog)"
      ],
      "execution_count": 341,
      "outputs": []
    },
    {
      "cell_type": "code",
      "metadata": {
        "colab": {
          "base_uri": "https://localhost:8080/"
        },
        "id": "Bp2Zz_XK-e3E",
        "outputId": "7c2f0867-2f43-4e8d-a150-a6da0e4d8205"
      },
      "source": [
        "not_dogs = []\n",
        "path_to_dir = \"/content/Тестовые снимки/не собаки\"\n",
        "for image_name in tqdm(os.listdir(path_to_dir)):\n",
        "    path_to_pic = os.path.join(path_to_dir, image_name)\n",
        "    try:\n",
        "        not_dogs.append(\n",
        "            find_lost_animal(path_to_pic).res\n",
        "        )\n",
        "    except Exception:\n",
        "        print(\"fucking fuck!!!\")"
      ],
      "execution_count": 354,
      "outputs": [
        {
          "output_type": "stream",
          "name": "stderr",
          "text": [
            "100%|██████████| 33/33 [01:19<00:00,  2.41s/it]\n"
          ]
        }
      ]
    },
    {
      "cell_type": "code",
      "metadata": {
        "colab": {
          "base_uri": "https://localhost:8080/"
        },
        "id": "efa5DdJv9ix5",
        "outputId": "bccf32bc-50ab-49c7-e691-a9e5044bc49a"
      },
      "source": [
        "print(*not_dogs, sep=\"\\n\")"
      ],
      "execution_count": 355,
      "outputs": [
        {
          "output_type": "stream",
          "name": "stdout",
          "text": [
            "{'filename': 'B109.jpg', 'is_animal_there': 1, 'is_it_a_dog': 1, 'is_the_owner_there': 0, 'color': 1, 'breed': 'a border collie', 'tail': 2, 'address': 'PVN_hd_TSAO_5300_3', 'cam_id': 'ЦАО Верхняя Сыромятническая улица, дом 2', 'date': '26 сент. 2021, 15:44:28'}\n",
            "{'filename': 'С39.jpg', 'is_animal_there': 1, 'is_it_a_dog': 1, 'is_the_owner_there': 0, 'color': 3, 'breed': 'a dachshund', 'tail': 1, 'address': 'P¥N_hd_UAG_7270_3', 'cam_id': 'ЮАО 1-й Нижний Михайловский проезд, дом |', 'date': '29 Е 2021, 06:49:46'}\n",
            "{'filename': 'B79.jpg', 'is_animal_there': 1, 'is_it_a_dog': 0, 'is_the_owner_there': 0, 'color': 0, 'breed': 0, 'tail': 0, 'address': 'СВАО проспект Мира, дом 182, корпус 3', 'cam_id': \"P'¥N_hd_SVAO_3055_1\", 'date': '05 окт. 2021, 08:56:58'}\n",
            "{'filename': 'B73.jpg', 'is_animal_there': 0, 'is_it_a_dog': 0, 'is_the_owner_there': 0, 'color': 0, 'breed': 0, 'tail': 0, 'address': 'ЦАО Верхняя Сыромятническая улица, дом 2', 'cam_id': 'PVN_hd_TSAO_5300_3', 'date': '28 сент. 2021, 10:08:28'}\n",
            "{'filename': 'B62.jpg', 'is_animal_there': 0, 'is_it_a_dog': 0, 'is_the_owner_there': 0, 'color': 0, 'breed': 0, 'tail': 0, 'address': 'ЦАО Верхняя Сыромятническая улица, дом 2', 'cam_id': 'PVN_hd_TSAO_5300_3', 'date': '28 сент. 2021, 07:58:03'}\n",
            "{'filename': 'B105.jpg', 'is_animal_there': 1, 'is_it_a_dog': 0, 'is_the_owner_there': 0, 'color': 0, 'breed': 0, 'tail': 0, 'address': None, 'cam_id': None, 'date': None}\n",
            "{'filename': 'B61.jpg', 'is_animal_there': 1, 'is_it_a_dog': 0, 'is_the_owner_there': 0, 'color': 0, 'breed': 0, 'tail': 0, 'address': 'ЦАО Верхняя Сыромятническая улица, дом 2', 'cam_id': 'PVN_hd_TSAO_5300_3', 'date': '28 сент. 2021, 07:57:06'}\n",
            "{'filename': 'B15.jpg', 'is_animal_there': 1, 'is_it_a_dog': 0, 'is_the_owner_there': 0, 'color': 0, 'breed': 0, 'tail': 0, 'address': 'СВАО Мелиховская улица, дом 2', 'cam_id': \"P'¥N_hd_SVAO_3426_1\", 'date': '28 сент. 2021, 07:32:38'}\n",
            "{'filename': 'А46.jpg', 'is_animal_there': 0, 'is_it_a_dog': 0, 'is_the_owner_there': 0, 'color': 0, 'breed': 0, 'tail': 0, 'address': 'ЦАО Шелепихинская набережная, дом 22', 'cam_id': \"P'¥N_hd_TSAO_4915_2\", 'date': '28 сент. 2021, 08:07:03'}\n",
            "{'filename': 'А77.jpg', 'is_animal_there': 1, 'is_it_a_dog': 1, 'is_the_owner_there': 0, 'color': 2, 'breed': 'a doberman', 'tail': 1, 'address': \"P'V¥N_hd_UAG_2409_1\", 'cam_id': 'ЮАО Чертановская улица, дом 8, корпус 1', 'date': '27 сент. 2021. 08:15:01'}\n",
            "{'filename': 'А101.jpg', 'is_animal_there': 1, 'is_it_a_dog': 0, 'is_the_owner_there': 0, 'color': 0, 'breed': 0, 'tail': 0, 'address': 'ЮАО Касимовская улица, дом 7, корпус 1', 'cam_id': \"P'V¥N_hd_UAG_1412 4\", 'date': None}\n",
            "{'filename': 'С78.jpg', 'is_animal_there': 1, 'is_it_a_dog': 0, 'is_the_owner_there': 0, 'color': 0, 'breed': 0, 'tail': 0, 'address': None, 'cam_id': None, 'date': None}\n",
            "{'filename': 'С100.jpg', 'is_animal_there': 0, 'is_it_a_dog': 0, 'is_the_owner_there': 0, 'color': 0, 'breed': 0, 'tail': 0, 'address': '1-й Амбулаторный проезд, дом 7, корпус 3', 'cam_id': 'РУМ_Н9 $АО_2559_3', 'date': '.T. 2021, 07:05:51'}\n",
            "{'filename': 'B85.jpg', 'is_animal_there': 0, 'is_it_a_dog': 0, 'is_the_owner_there': 0, 'color': 0, 'breed': 0, 'tail': 0, 'address': 'ЦАО Малая Пионерская улица, дом 23-31, стро', 'cam_id': 'PVN_hd TSAO _3847_1', 'date': '27 сент. 2021, 07:21:17'}\n",
            "{'filename': 'А85.jpg', 'is_animal_there': 0, 'is_it_a_dog': 0, 'is_the_owner_there': 0, 'color': 0, 'breed': 0, 'tail': 0, 'address': 'ЮЗАО улица Каховка, дом 5, корпус 4', 'cam_id': 'P¥N_hd_UZAO_7277_1', 'date': '27 сент. 2021, 07:15:23'}\n",
            "{'filename': 'B108.jpg', 'is_animal_there': 1, 'is_it_a_dog': 0, 'is_the_owner_there': 0, 'color': 0, 'breed': 0, 'tail': 0, 'address': 'СВАО проспект Мира, дом 182, корпус 3', 'cam_id': \"P'¥N_hd_SVAO_3055_1\", 'date': '01 окт. 2021, 14:02:30'}\n",
            "{'filename': 'С38.jpg', 'is_animal_there': 1, 'is_it_a_dog': 1, 'is_the_owner_there': 0, 'color': 3, 'breed': 'a chihuahua', 'tail': 1, 'address': None, 'cam_id': None, 'date': None}\n",
            "{'filename': 'B13.jpg', 'is_animal_there': 1, 'is_it_a_dog': 0, 'is_the_owner_there': 0, 'color': 0, 'breed': 0, 'tail': 0, 'address': 'СВАО Мелиховская улица, дом 2', 'cam_id': 'PVN_hd_SVAG_3426_1', 'date': '28 сент. 2021, 07:08:15'}\n",
            "{'filename': 'B95.jpg', 'is_animal_there': 1, 'is_it_a_dog': 0, 'is_the_owner_there': 0, 'color': 0, 'breed': 0, 'tail': 0, 'address': 'СВАО проезд Черского, дом 5', 'cam_id': \"P'¥N_hd_SVAO_1325_1\", 'date': '27 сент. 2021, 07:28:08'}\n",
            "{'filename': 'B67.jpg', 'is_animal_there': 1, 'is_it_a_dog': 0, 'is_the_owner_there': 0, 'color': 0, 'breed': 0, 'tail': 0, 'address': 'ЦАО Верхняя Сыромятническая улица, дом 2', 'cam_id': 'PVN_hd_TSAO_5300_3', 'date': '28 сент. 2021, 08:34:05'}\n",
            "{'filename': 'B106.jpg', 'is_animal_there': 0, 'is_it_a_dog': 0, 'is_the_owner_there': 0, 'color': 0, 'breed': 0, 'tail': 0, 'address': None, 'cam_id': None, 'date': None}\n",
            "{'filename': 'А89.jpg', 'is_animal_there': 1, 'is_it_a_dog': 0, 'is_the_owner_there': 0, 'color': 0, 'breed': 0, 'tail': 0, 'address': 'ЮЗАО Севастопольский проспект, дом 50/11', 'cam_id': \"P'¥N_hd_UZAO_8297_1\", 'date': None}\n",
            "{'filename': 'С101.jpg', 'is_animal_there': 0, 'is_it_a_dog': 0, 'is_the_owner_there': 0, 'color': 0, 'breed': 0, 'tail': 0, 'address': 'САО 1-й Амбулаторный проезд, дом 7, корпус', 'cam_id': \"P'V¥N_hd_SAGQ_2559_3\", 'date': '04 окт. 2021, 07:05:02'}\n",
            "{'filename': 'B3.jpg', 'is_animal_there': 1, 'is_it_a_dog': 0, 'is_the_owner_there': 0, 'color': 0, 'breed': 0, 'tail': 0, 'address': 'СВАО улица Академика Королёва, дом 28, кор', 'cam_id': \"P'¥N_hd_SVAO_1652_1\", 'date': '28 сент. 2021, 07:36:33'}\n",
            "{'filename': 'А37.jpg', 'is_animal_there': 1, 'is_it_a_dog': 0, 'is_the_owner_there': 0, 'color': 0, 'breed': 0, 'tail': 0, 'address': 'СЗАО улица Исаковского, дом 28, корпус 1', 'cam_id': \"P'¥N_hd_SZA0_5745_1\", 'date': '28 сент. 2021, 07:08:48'}\n",
            "{'filename': 'B7.jpg', 'is_animal_there': 1, 'is_it_a_dog': 0, 'is_the_owner_there': 0, 'color': 0, 'breed': 0, 'tail': 0, 'address': 'СВАО улица Академика Королёва, дом 28, кор', 'cam_id': \"P'¥N_hd_SVAO_1652_1\", 'date': None}\n",
            "{'filename': 'B63.jpg', 'is_animal_there': 1, 'is_it_a_dog': 0, 'is_the_owner_there': 0, 'color': 0, 'breed': 0, 'tail': 0, 'address': 'ЦАО Верхняя Сыромятническая улица, дом 2', 'cam_id': 'PVN_hd_TSAO_5300_3', 'date': '28 сент. 2021, 08:08:11'}\n",
            "{'filename': 'B113.jpg', 'is_animal_there': 1, 'is_it_a_dog': 0, 'is_the_owner_there': 0, 'color': 0, 'breed': 0, 'tail': 0, 'address': 'ЦАО Верхняя Сыромятническая улица, дом 2', 'cam_id': 'PVN_hd_TSAO_5300_1', 'date': '27 сент. 2021, 17:31:00'}\n",
            "{'filename': 'А60.jpg', 'is_animal_there': 1, 'is_it_a_dog': 0, 'is_the_owner_there': 0, 'color': 0, 'breed': 0, 'tail': 0, 'address': None, 'cam_id': None, 'date': None}\n",
            "{'filename': 'А56.jpg', 'is_animal_there': 1, 'is_it_a_dog': 0, 'is_the_owner_there': 0, 'color': 0, 'breed': 0, 'tail': 0, 'address': 'ЗАО улица Крылатские Холмы, дом 32, корпус', 'cam_id': None, 'date': '28 сент. 2021, 07:17:52'}\n",
            "{'filename': 'B42.jpg', 'is_animal_there': 1, 'is_it_a_dog': 0, 'is_the_owner_there': 0, 'color': 0, 'breed': 0, 'tail': 0, 'address': 'СВАО улица Корнейчука, дом 414', 'cam_id': None, 'date': '28 сент. 2021, 08:06:54'}\n",
            "{'filename': 'С95.jpg', 'is_animal_there': 1, 'is_it_a_dog': 0, 'is_the_owner_there': 0, 'color': 0, 'breed': 0, 'tail': 0, 'address': None, 'cam_id': \"P'V¥N_hd_SAG_2559_3\", 'date': '04 окт. 2021, 07:05:45'}\n",
            "{'filename': 'B114.jpg', 'is_animal_there': 0, 'is_it_a_dog': 0, 'is_the_owner_there': 0, 'color': 0, 'breed': 0, 'tail': 0, 'address': 'ЦАО Верхняя Сыромятническая улица, дом 2', 'cam_id': 'PVN_hd_TSAO_5300_1', 'date': '27 сент. 2021, 17:30:59'}\n"
          ]
        }
      ]
    },
    {
      "cell_type": "markdown",
      "metadata": {
        "id": "k4DFQNJudVmq"
      },
      "source": [
        "# Делаем КСВ без пород"
      ]
    },
    {
      "cell_type": "code",
      "metadata": {
        "id": "_cdJ_XvubjGe"
      },
      "source": [
        "order = ['filename', 'is_animal_there', 'is_it_a_dog', 'is_the_owner_there', 'color', \"breed\", 'tail', 'address', 'cam_id', \"date\"]\n",
        "result_array = []\n",
        "for res in not_dogs:\n",
        "    result_array.append(\n",
        "        [res[key] for key in order]\n",
        "    )\n",
        "\n",
        "for res in owner_and_dog:\n",
        "    result_array.append(\n",
        "        [res[key] for key in order]\n",
        "    )\n",
        "\n",
        "for res in only_dogs:\n",
        "    result_array.append(\n",
        "        [res[key] for key in order]\n",
        "    )\n",
        "\n",
        "for res in empty_result:\n",
        "    result_array.append(\n",
        "        [res[key] for key in order]\n",
        "    )\n",
        "\n",
        "# not_dogs_array = [list(res.values()) for res in not_dogs]"
      ],
      "execution_count": 367,
      "outputs": []
    },
    {
      "cell_type": "code",
      "metadata": {
        "id": "MQZV6sF1caaM"
      },
      "source": [
        "result_csv = pd.DataFrame(result_array, columns=order)"
      ],
      "execution_count": 368,
      "outputs": []
    },
    {
      "cell_type": "code",
      "metadata": {
        "id": "WOYc0cUbbjJb"
      },
      "source": [
        "result_csv.to_csv(\"result_table_with_breed.csv\", index=False)"
      ],
      "execution_count": 369,
      "outputs": []
    },
    {
      "cell_type": "code",
      "metadata": {
        "id": "rQEjFJXcbalm"
      },
      "source": [
        ""
      ],
      "execution_count": null,
      "outputs": []
    }
  ]
}